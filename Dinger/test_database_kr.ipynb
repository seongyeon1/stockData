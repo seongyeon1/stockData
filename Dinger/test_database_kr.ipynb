{
 "cells": [
  {
   "cell_type": "code",
   "execution_count": 1,
   "metadata": {
    "collapsed": true
   },
   "outputs": [],
   "source": [
    "import os\n",
    "os.chdir('/Users/seongyeon-kim/Desktop/Dinger')"
   ]
  },
  {
   "cell_type": "code",
   "execution_count": 2,
   "outputs": [
    {
     "name": "stdout",
     "output_type": "stream",
     "text": [
      "현재 디렉토리  /Users/seongyeon-kim/Desktop/Dinger\n"
     ]
    }
   ],
   "source": [
    "import warnings\n",
    "warnings.filterwarnings('ignore')\n",
    "\n",
    "print(\"현재 디렉토리 \" , os.getcwd())\n",
    "\n",
    "import pandas as pd\n",
    "\n",
    "from Dinger import database_module_kr as dm"
   ],
   "metadata": {
    "collapsed": false
   }
  },
  {
   "cell_type": "code",
   "execution_count": 3,
   "outputs": [],
   "source": [
    "stock_kr = dm.stockKR('20221005')"
   ],
   "metadata": {
    "collapsed": false
   }
  },
  {
   "cell_type": "code",
   "execution_count": 4,
   "outputs": [
    {
     "data": {
      "text/plain": "'20221005'"
     },
     "execution_count": 4,
     "metadata": {},
     "output_type": "execute_result"
    }
   ],
   "source": [
    "stock_kr.dt"
   ],
   "metadata": {
    "collapsed": false
   }
  },
  {
   "cell_type": "code",
   "execution_count": 5,
   "outputs": [
    {
     "name": "stderr",
     "output_type": "stream",
     "text": [
      "100%|██████████| 2499/2499 [20:45<00:00,  2.01it/s]\n"
     ]
    }
   ],
   "source": [
    "database_kr, err = stock_kr.stocks_info()"
   ],
   "metadata": {
    "collapsed": false
   }
  },
  {
   "cell_type": "markdown",
   "source": [
    "## 데이터 베이스 뽑아낸 결과입니다"
   ],
   "metadata": {
    "collapsed": false
   }
  },
  {
   "cell_type": "code",
   "execution_count": 12,
   "outputs": [],
   "source": [
    "database_kr = pd.read_csv('DF/stock_kr.csv')"
   ],
   "metadata": {
    "collapsed": false
   }
  },
  {
   "cell_type": "code",
   "execution_count": 13,
   "outputs": [
    {
     "data": {
      "text/plain": "        종목코드 CMP_KOR SEC_NM_KOR       BPS    PER   PBR      EPS   DIV  \\\n0       5380     현대차    경기관련소비재  289609.0   9.33  0.61  18979.0  2.82   \n1        270      기아    경기관련소비재   87073.0   5.99  0.82  11874.0  4.22   \n2      12330   현대모비스    경기관련소비재  387397.0   7.90  0.52  25645.0  1.98   \n3      51900  LG생활건강    경기관련소비재  321556.0  12.64  1.98  50395.0  1.88   \n4      90430  아모레퍼시픽    경기관련소비재   69049.0  36.88  1.51   2820.0  0.94   \n...      ...     ...        ...       ...    ...   ...      ...   ...   \n2138   70590  한솔인티큐브         IT    1931.0  67.92  0.84     24.0  0.00   \n2139  372800  아이티아이즈         IT    5035.0   0.00  1.61      0.0  0.00   \n2140   33200     모아텍         IT    7713.0   0.00  0.80      0.0  0.00   \n2141   32960    동일기연         IT   17895.0   4.65  0.60   2312.0  0.37   \n2142  321260    프로이천         IT    1005.0   0.00  2.10      0.0  0.95   \n\n          DPS       매출액     영업이익    당기순이익   ROA   ROE    베타     MKT_VAL  \n0      5000.0  359999.0  29798.0  30848.0   4.0  11.3  1.40  24960718.0  \n1      3000.0  218760.0  22341.0  18810.0   8.4  16.0  1.44  17869227.0  \n2      4000.0  123081.0   4033.0   7697.0   4.9   7.1  1.49  12831205.0  \n3     12000.0   18627.0   2166.0   1260.0   6.4   8.6  0.79   5969275.0  \n4       980.0    9457.0   -195.0   -372.0   2.8   3.6  0.84   3163288.0  \n...       ...       ...      ...      ...   ...   ...   ...         ...  \n2138      0.0     163.0     -6.0     -5.0  -7.9  -8.7  1.00     13348.0  \n2139      0.0     119.0    -30.0    -12.0   0.7   1.0  1.99     13056.0  \n2140      0.0      81.0     -6.0     -4.0  -2.1  -2.4  1.67     11439.0  \n2141     40.0      76.0      2.0      5.0   6.3   6.8  1.12      9769.0  \n2142     20.0     132.0     20.0     26.0  21.5  25.4  0.61      8923.0  \n\n[2143 rows x 16 columns]",
      "text/html": "<div>\n<style scoped>\n    .dataframe tbody tr th:only-of-type {\n        vertical-align: middle;\n    }\n\n    .dataframe tbody tr th {\n        vertical-align: top;\n    }\n\n    .dataframe thead th {\n        text-align: right;\n    }\n</style>\n<table border=\"1\" class=\"dataframe\">\n  <thead>\n    <tr style=\"text-align: right;\">\n      <th></th>\n      <th>종목코드</th>\n      <th>CMP_KOR</th>\n      <th>SEC_NM_KOR</th>\n      <th>BPS</th>\n      <th>PER</th>\n      <th>PBR</th>\n      <th>EPS</th>\n      <th>DIV</th>\n      <th>DPS</th>\n      <th>매출액</th>\n      <th>영업이익</th>\n      <th>당기순이익</th>\n      <th>ROA</th>\n      <th>ROE</th>\n      <th>베타</th>\n      <th>MKT_VAL</th>\n    </tr>\n  </thead>\n  <tbody>\n    <tr>\n      <th>0</th>\n      <td>5380</td>\n      <td>현대차</td>\n      <td>경기관련소비재</td>\n      <td>289609.0</td>\n      <td>9.33</td>\n      <td>0.61</td>\n      <td>18979.0</td>\n      <td>2.82</td>\n      <td>5000.0</td>\n      <td>359999.0</td>\n      <td>29798.0</td>\n      <td>30848.0</td>\n      <td>4.0</td>\n      <td>11.3</td>\n      <td>1.40</td>\n      <td>24960718.0</td>\n    </tr>\n    <tr>\n      <th>1</th>\n      <td>270</td>\n      <td>기아</td>\n      <td>경기관련소비재</td>\n      <td>87073.0</td>\n      <td>5.99</td>\n      <td>0.82</td>\n      <td>11874.0</td>\n      <td>4.22</td>\n      <td>3000.0</td>\n      <td>218760.0</td>\n      <td>22341.0</td>\n      <td>18810.0</td>\n      <td>8.4</td>\n      <td>16.0</td>\n      <td>1.44</td>\n      <td>17869227.0</td>\n    </tr>\n    <tr>\n      <th>2</th>\n      <td>12330</td>\n      <td>현대모비스</td>\n      <td>경기관련소비재</td>\n      <td>387397.0</td>\n      <td>7.90</td>\n      <td>0.52</td>\n      <td>25645.0</td>\n      <td>1.98</td>\n      <td>4000.0</td>\n      <td>123081.0</td>\n      <td>4033.0</td>\n      <td>7697.0</td>\n      <td>4.9</td>\n      <td>7.1</td>\n      <td>1.49</td>\n      <td>12831205.0</td>\n    </tr>\n    <tr>\n      <th>3</th>\n      <td>51900</td>\n      <td>LG생활건강</td>\n      <td>경기관련소비재</td>\n      <td>321556.0</td>\n      <td>12.64</td>\n      <td>1.98</td>\n      <td>50395.0</td>\n      <td>1.88</td>\n      <td>12000.0</td>\n      <td>18627.0</td>\n      <td>2166.0</td>\n      <td>1260.0</td>\n      <td>6.4</td>\n      <td>8.6</td>\n      <td>0.79</td>\n      <td>5969275.0</td>\n    </tr>\n    <tr>\n      <th>4</th>\n      <td>90430</td>\n      <td>아모레퍼시픽</td>\n      <td>경기관련소비재</td>\n      <td>69049.0</td>\n      <td>36.88</td>\n      <td>1.51</td>\n      <td>2820.0</td>\n      <td>0.94</td>\n      <td>980.0</td>\n      <td>9457.0</td>\n      <td>-195.0</td>\n      <td>-372.0</td>\n      <td>2.8</td>\n      <td>3.6</td>\n      <td>0.84</td>\n      <td>3163288.0</td>\n    </tr>\n    <tr>\n      <th>...</th>\n      <td>...</td>\n      <td>...</td>\n      <td>...</td>\n      <td>...</td>\n      <td>...</td>\n      <td>...</td>\n      <td>...</td>\n      <td>...</td>\n      <td>...</td>\n      <td>...</td>\n      <td>...</td>\n      <td>...</td>\n      <td>...</td>\n      <td>...</td>\n      <td>...</td>\n      <td>...</td>\n    </tr>\n    <tr>\n      <th>2138</th>\n      <td>70590</td>\n      <td>한솔인티큐브</td>\n      <td>IT</td>\n      <td>1931.0</td>\n      <td>67.92</td>\n      <td>0.84</td>\n      <td>24.0</td>\n      <td>0.00</td>\n      <td>0.0</td>\n      <td>163.0</td>\n      <td>-6.0</td>\n      <td>-5.0</td>\n      <td>-7.9</td>\n      <td>-8.7</td>\n      <td>1.00</td>\n      <td>13348.0</td>\n    </tr>\n    <tr>\n      <th>2139</th>\n      <td>372800</td>\n      <td>아이티아이즈</td>\n      <td>IT</td>\n      <td>5035.0</td>\n      <td>0.00</td>\n      <td>1.61</td>\n      <td>0.0</td>\n      <td>0.00</td>\n      <td>0.0</td>\n      <td>119.0</td>\n      <td>-30.0</td>\n      <td>-12.0</td>\n      <td>0.7</td>\n      <td>1.0</td>\n      <td>1.99</td>\n      <td>13056.0</td>\n    </tr>\n    <tr>\n      <th>2140</th>\n      <td>33200</td>\n      <td>모아텍</td>\n      <td>IT</td>\n      <td>7713.0</td>\n      <td>0.00</td>\n      <td>0.80</td>\n      <td>0.0</td>\n      <td>0.00</td>\n      <td>0.0</td>\n      <td>81.0</td>\n      <td>-6.0</td>\n      <td>-4.0</td>\n      <td>-2.1</td>\n      <td>-2.4</td>\n      <td>1.67</td>\n      <td>11439.0</td>\n    </tr>\n    <tr>\n      <th>2141</th>\n      <td>32960</td>\n      <td>동일기연</td>\n      <td>IT</td>\n      <td>17895.0</td>\n      <td>4.65</td>\n      <td>0.60</td>\n      <td>2312.0</td>\n      <td>0.37</td>\n      <td>40.0</td>\n      <td>76.0</td>\n      <td>2.0</td>\n      <td>5.0</td>\n      <td>6.3</td>\n      <td>6.8</td>\n      <td>1.12</td>\n      <td>9769.0</td>\n    </tr>\n    <tr>\n      <th>2142</th>\n      <td>321260</td>\n      <td>프로이천</td>\n      <td>IT</td>\n      <td>1005.0</td>\n      <td>0.00</td>\n      <td>2.10</td>\n      <td>0.0</td>\n      <td>0.95</td>\n      <td>20.0</td>\n      <td>132.0</td>\n      <td>20.0</td>\n      <td>26.0</td>\n      <td>21.5</td>\n      <td>25.4</td>\n      <td>0.61</td>\n      <td>8923.0</td>\n    </tr>\n  </tbody>\n</table>\n<p>2143 rows × 16 columns</p>\n</div>"
     },
     "execution_count": 13,
     "metadata": {},
     "output_type": "execute_result"
    }
   ],
   "source": [
    "database_kr"
   ],
   "metadata": {
    "collapsed": false
   }
  },
  {
   "cell_type": "code",
   "execution_count": 7,
   "outputs": [
    {
     "data": {
      "text/plain": "153"
     },
     "execution_count": 7,
     "metadata": {},
     "output_type": "execute_result"
    }
   ],
   "source": [
    "len(err)"
   ],
   "metadata": {
    "collapsed": false
   }
  },
  {
   "cell_type": "code",
   "execution_count": null,
   "outputs": [],
   "source": [],
   "metadata": {
    "collapsed": false
   }
  }
 ],
 "metadata": {
  "kernelspec": {
   "display_name": "Python 3",
   "language": "python",
   "name": "python3"
  },
  "language_info": {
   "codemirror_mode": {
    "name": "ipython",
    "version": 2
   },
   "file_extension": ".py",
   "mimetype": "text/x-python",
   "name": "python",
   "nbconvert_exporter": "python",
   "pygments_lexer": "ipython2",
   "version": "2.7.6"
  }
 },
 "nbformat": 4,
 "nbformat_minor": 0
}
