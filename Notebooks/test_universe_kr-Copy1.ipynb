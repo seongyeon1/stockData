{
 "cells": [
  {
   "cell_type": "code",
   "execution_count": 1,
   "metadata": {},
   "outputs": [],
   "source": [
    "import os\n",
    "os.chdir('/Users/seongyeon-kim/Desktop/Dinger')"
   ]
  },
  {
   "cell_type": "markdown",
   "metadata": {},
   "source": [
    "### 프로젝트 root로 설정"
   ]
  },
  {
   "cell_type": "code",
   "execution_count": 2,
   "metadata": {
    "scrolled": true
   },
   "outputs": [
    {
     "name": "stdout",
     "output_type": "stream",
     "text": [
      "현재 디렉토리  /Users/seongyeon-kim/Desktop/Dinger\n"
     ]
    }
   ],
   "source": [
    "import warnings\n",
    "warnings.filterwarnings('ignore')\n",
    "\n",
    "print(\"현재 디렉토리 \" , os.getcwd())\n",
    "\n",
    "from tqdm import tqdm\n",
    "import pandas as pd \n",
    "\n",
    "from Dinger import universe_module as um"
   ]
  },
  {
   "cell_type": "code",
   "execution_count": 3,
   "metadata": {},
   "outputs": [],
   "source": [
    "import numpy as np"
   ]
  },
  {
   "cell_type": "code",
   "execution_count": 4,
   "metadata": {},
   "outputs": [],
   "source": [
    "data = pd.read_csv('./data/stock_kr.csv')"
   ]
  },
  {
   "cell_type": "code",
   "execution_count": 5,
   "metadata": {
    "scrolled": true
   },
   "outputs": [],
   "source": [
    "data = um.Universe(data)"
   ]
  },
  {
   "cell_type": "code",
   "execution_count": 6,
   "metadata": {},
   "outputs": [
    {
     "data": {
      "text/plain": "                 MKT_VAL        PER       PBR       DIV           매출액  \\\nSEC_NM_KOR                                                              \nIT          8.196197e+05  30.084113  2.200751  0.759078   2980.761092   \n건강관리        3.921800e+05  30.626036  3.638857  0.574250    541.921429   \n경기관련소비재     3.830134e+05  20.309020  1.504669  1.405303   4306.014409   \n금융          1.159158e+06   7.660602  0.779157  4.074819  25541.650602   \n산업재         4.006711e+05  42.695172  1.722816  1.462960   5527.793103   \n소재          4.696364e+05  16.347611  1.454159  1.660752   4535.805310   \n에너지         6.541701e+05  25.351111  1.951389  1.476667  16907.611111   \n유틸리티        6.699746e+05  34.691765  1.293529  2.681765  18977.235294   \n커뮤니케이션서비스   9.567631e+05  28.023451  2.286018  0.765221   2466.513274   \n필수소비재       2.801420e+05  13.579600  1.369200  1.628000   3866.590000   \n\n                   영업이익        당기순이익       ROA        ROE        베타    resnet  \nSEC_NM_KOR                                                                     \nIT           401.568259   305.955631  2.833447   4.060580  1.012266  0.822526  \n건강관리          51.896429    46.525000 -1.225000  -3.615000  0.953178  0.764286  \n경기관련소비재      272.740634   259.164265  1.614986   1.916138  0.875079  0.757925  \n금융          1591.060241  1250.602410  1.768675   9.175904  0.762331  0.686747  \n산업재          425.729885   315.321839  3.076149   2.828448  0.895503  0.732759  \n소재           378.225664   306.292035  6.452212  10.680973  0.865302  0.654867  \n에너지         1985.805556  1290.972222  1.536111   2.755556  0.777487  0.750000  \n유틸리티       -3598.529412 -2754.823529  3.247059   5.852941  0.392353  0.823529  \n커뮤니케이션서비스    232.646018   135.681416  0.521239  -0.819469  0.932069  0.743363  \n필수소비재        260.450000   183.340000  2.525000   4.079000  0.731100  0.580000  ",
      "text/html": "<div>\n<style scoped>\n    .dataframe tbody tr th:only-of-type {\n        vertical-align: middle;\n    }\n\n    .dataframe tbody tr th {\n        vertical-align: top;\n    }\n\n    .dataframe thead th {\n        text-align: right;\n    }\n</style>\n<table border=\"1\" class=\"dataframe\">\n  <thead>\n    <tr style=\"text-align: right;\">\n      <th></th>\n      <th>MKT_VAL</th>\n      <th>PER</th>\n      <th>PBR</th>\n      <th>DIV</th>\n      <th>매출액</th>\n      <th>영업이익</th>\n      <th>당기순이익</th>\n      <th>ROA</th>\n      <th>ROE</th>\n      <th>베타</th>\n      <th>resnet</th>\n    </tr>\n    <tr>\n      <th>SEC_NM_KOR</th>\n      <th></th>\n      <th></th>\n      <th></th>\n      <th></th>\n      <th></th>\n      <th></th>\n      <th></th>\n      <th></th>\n      <th></th>\n      <th></th>\n      <th></th>\n    </tr>\n  </thead>\n  <tbody>\n    <tr>\n      <th>IT</th>\n      <td>8.196197e+05</td>\n      <td>30.084113</td>\n      <td>2.200751</td>\n      <td>0.759078</td>\n      <td>2980.761092</td>\n      <td>401.568259</td>\n      <td>305.955631</td>\n      <td>2.833447</td>\n      <td>4.060580</td>\n      <td>1.012266</td>\n      <td>0.822526</td>\n    </tr>\n    <tr>\n      <th>건강관리</th>\n      <td>3.921800e+05</td>\n      <td>30.626036</td>\n      <td>3.638857</td>\n      <td>0.574250</td>\n      <td>541.921429</td>\n      <td>51.896429</td>\n      <td>46.525000</td>\n      <td>-1.225000</td>\n      <td>-3.615000</td>\n      <td>0.953178</td>\n      <td>0.764286</td>\n    </tr>\n    <tr>\n      <th>경기관련소비재</th>\n      <td>3.830134e+05</td>\n      <td>20.309020</td>\n      <td>1.504669</td>\n      <td>1.405303</td>\n      <td>4306.014409</td>\n      <td>272.740634</td>\n      <td>259.164265</td>\n      <td>1.614986</td>\n      <td>1.916138</td>\n      <td>0.875079</td>\n      <td>0.757925</td>\n    </tr>\n    <tr>\n      <th>금융</th>\n      <td>1.159158e+06</td>\n      <td>7.660602</td>\n      <td>0.779157</td>\n      <td>4.074819</td>\n      <td>25541.650602</td>\n      <td>1591.060241</td>\n      <td>1250.602410</td>\n      <td>1.768675</td>\n      <td>9.175904</td>\n      <td>0.762331</td>\n      <td>0.686747</td>\n    </tr>\n    <tr>\n      <th>산업재</th>\n      <td>4.006711e+05</td>\n      <td>42.695172</td>\n      <td>1.722816</td>\n      <td>1.462960</td>\n      <td>5527.793103</td>\n      <td>425.729885</td>\n      <td>315.321839</td>\n      <td>3.076149</td>\n      <td>2.828448</td>\n      <td>0.895503</td>\n      <td>0.732759</td>\n    </tr>\n    <tr>\n      <th>소재</th>\n      <td>4.696364e+05</td>\n      <td>16.347611</td>\n      <td>1.454159</td>\n      <td>1.660752</td>\n      <td>4535.805310</td>\n      <td>378.225664</td>\n      <td>306.292035</td>\n      <td>6.452212</td>\n      <td>10.680973</td>\n      <td>0.865302</td>\n      <td>0.654867</td>\n    </tr>\n    <tr>\n      <th>에너지</th>\n      <td>6.541701e+05</td>\n      <td>25.351111</td>\n      <td>1.951389</td>\n      <td>1.476667</td>\n      <td>16907.611111</td>\n      <td>1985.805556</td>\n      <td>1290.972222</td>\n      <td>1.536111</td>\n      <td>2.755556</td>\n      <td>0.777487</td>\n      <td>0.750000</td>\n    </tr>\n    <tr>\n      <th>유틸리티</th>\n      <td>6.699746e+05</td>\n      <td>34.691765</td>\n      <td>1.293529</td>\n      <td>2.681765</td>\n      <td>18977.235294</td>\n      <td>-3598.529412</td>\n      <td>-2754.823529</td>\n      <td>3.247059</td>\n      <td>5.852941</td>\n      <td>0.392353</td>\n      <td>0.823529</td>\n    </tr>\n    <tr>\n      <th>커뮤니케이션서비스</th>\n      <td>9.567631e+05</td>\n      <td>28.023451</td>\n      <td>2.286018</td>\n      <td>0.765221</td>\n      <td>2466.513274</td>\n      <td>232.646018</td>\n      <td>135.681416</td>\n      <td>0.521239</td>\n      <td>-0.819469</td>\n      <td>0.932069</td>\n      <td>0.743363</td>\n    </tr>\n    <tr>\n      <th>필수소비재</th>\n      <td>2.801420e+05</td>\n      <td>13.579600</td>\n      <td>1.369200</td>\n      <td>1.628000</td>\n      <td>3866.590000</td>\n      <td>260.450000</td>\n      <td>183.340000</td>\n      <td>2.525000</td>\n      <td>4.079000</td>\n      <td>0.731100</td>\n      <td>0.580000</td>\n    </tr>\n  </tbody>\n</table>\n</div>"
     },
     "execution_count": 6,
     "metadata": {},
     "output_type": "execute_result"
    }
   ],
   "source": [
    "data.get_standard_df()"
   ]
  },
  {
   "cell_type": "code",
   "execution_count": 7,
   "metadata": {},
   "outputs": [
    {
     "data": {
      "text/plain": "           종목명 SEC_NM_KOR     업종명    시장구분  Score\n종목코드                                            \n5380       현대차    경기관련소비재    운수장비   KOSPI    8.0\n270         기아    경기관련소비재    운수장비   KOSPI    8.0\n12330    현대모비스    경기관련소비재    운수장비   KOSPI    8.0\n51900   LG생활건강    경기관련소비재      화학   KOSPI    8.0\n90430   아모레퍼시픽    경기관련소비재      화학   KOSPI    6.0\n...        ...        ...     ...     ...    ...\n33200      모아텍         IT    IT부품  KOSDAQ    1.0\n9140      경인전자         IT    전기전자   KOSPI    4.0\n17250      인터엠         IT  일반전기전자  KOSDAQ    1.0\n32960     동일기연         IT    IT부품  KOSDAQ    3.0\n321260    프로이천         IT  일반전기전자  KOSDAQ    3.0\n\n[2136 rows x 5 columns]",
      "text/html": "<div>\n<style scoped>\n    .dataframe tbody tr th:only-of-type {\n        vertical-align: middle;\n    }\n\n    .dataframe tbody tr th {\n        vertical-align: top;\n    }\n\n    .dataframe thead th {\n        text-align: right;\n    }\n</style>\n<table border=\"1\" class=\"dataframe\">\n  <thead>\n    <tr style=\"text-align: right;\">\n      <th></th>\n      <th>종목명</th>\n      <th>SEC_NM_KOR</th>\n      <th>업종명</th>\n      <th>시장구분</th>\n      <th>Score</th>\n    </tr>\n    <tr>\n      <th>종목코드</th>\n      <th></th>\n      <th></th>\n      <th></th>\n      <th></th>\n      <th></th>\n    </tr>\n  </thead>\n  <tbody>\n    <tr>\n      <th>5380</th>\n      <td>현대차</td>\n      <td>경기관련소비재</td>\n      <td>운수장비</td>\n      <td>KOSPI</td>\n      <td>8.0</td>\n    </tr>\n    <tr>\n      <th>270</th>\n      <td>기아</td>\n      <td>경기관련소비재</td>\n      <td>운수장비</td>\n      <td>KOSPI</td>\n      <td>8.0</td>\n    </tr>\n    <tr>\n      <th>12330</th>\n      <td>현대모비스</td>\n      <td>경기관련소비재</td>\n      <td>운수장비</td>\n      <td>KOSPI</td>\n      <td>8.0</td>\n    </tr>\n    <tr>\n      <th>51900</th>\n      <td>LG생활건강</td>\n      <td>경기관련소비재</td>\n      <td>화학</td>\n      <td>KOSPI</td>\n      <td>8.0</td>\n    </tr>\n    <tr>\n      <th>90430</th>\n      <td>아모레퍼시픽</td>\n      <td>경기관련소비재</td>\n      <td>화학</td>\n      <td>KOSPI</td>\n      <td>6.0</td>\n    </tr>\n    <tr>\n      <th>...</th>\n      <td>...</td>\n      <td>...</td>\n      <td>...</td>\n      <td>...</td>\n      <td>...</td>\n    </tr>\n    <tr>\n      <th>33200</th>\n      <td>모아텍</td>\n      <td>IT</td>\n      <td>IT부품</td>\n      <td>KOSDAQ</td>\n      <td>1.0</td>\n    </tr>\n    <tr>\n      <th>9140</th>\n      <td>경인전자</td>\n      <td>IT</td>\n      <td>전기전자</td>\n      <td>KOSPI</td>\n      <td>4.0</td>\n    </tr>\n    <tr>\n      <th>17250</th>\n      <td>인터엠</td>\n      <td>IT</td>\n      <td>일반전기전자</td>\n      <td>KOSDAQ</td>\n      <td>1.0</td>\n    </tr>\n    <tr>\n      <th>32960</th>\n      <td>동일기연</td>\n      <td>IT</td>\n      <td>IT부품</td>\n      <td>KOSDAQ</td>\n      <td>3.0</td>\n    </tr>\n    <tr>\n      <th>321260</th>\n      <td>프로이천</td>\n      <td>IT</td>\n      <td>일반전기전자</td>\n      <td>KOSDAQ</td>\n      <td>3.0</td>\n    </tr>\n  </tbody>\n</table>\n<p>2136 rows × 5 columns</p>\n</div>"
     },
     "execution_count": 7,
     "metadata": {},
     "output_type": "execute_result"
    }
   ],
   "source": [
    "data.get_score()"
   ]
  },
  {
   "cell_type": "code",
   "execution_count": 8,
   "metadata": {},
   "outputs": [],
   "source": [
    "from sklearn.preprocessing import StandardScaler"
   ]
  },
  {
   "cell_type": "code",
   "execution_count": 9,
   "metadata": {},
   "outputs": [],
   "source": [
    "data = pd.read_csv('./data/stock_kr.csv')"
   ]
  },
  {
   "cell_type": "code",
   "execution_count": 10,
   "metadata": {},
   "outputs": [],
   "source": [
    "if '종목코드' in data.columns:\n",
    "    data.set_index('종목코드', inplace=True)\n",
    "\n",
    "data.dropna(inplace=True)\n",
    "\n",
    "gubun = data[['종목명','SEC_NM_KOR','업종명','시장구분']]\n",
    "sector_list = data.SEC_NM_KOR.unique()\n"
   ]
  },
  {
   "cell_type": "code",
   "execution_count": 15,
   "metadata": {},
   "outputs": [],
   "source": [
    "scaler = StandardScaler()\n",
    "data.drop(gubun.columns.tolist(), axis=1, inplace=True)\n",
    "data.drop('ALL_MKT_VAL', axis=1, inplace=True)\n",
    "scaled_data = scaler.fit_transform(data)"
   ]
  },
  {
   "cell_type": "code",
   "execution_count": 19,
   "metadata": {},
   "outputs": [
    {
     "data": {
      "text/plain": [
       "Index(['MKT_VAL', 'PER', 'PBR', 'DIV', '매출액', '영업이익', '당기순이익', 'ROA', 'ROE',\n",
       "       '베타'],\n",
       "      dtype='object')"
      ]
     },
     "execution_count": 19,
     "metadata": {},
     "output_type": "execute_result"
    }
   ],
   "source": [
    "data.columns"
   ]
  },
  {
   "cell_type": "code",
   "execution_count": 1,
   "metadata": {},
   "outputs": [
    {
     "ename": "NameError",
     "evalue": "name 'pd' is not defined",
     "output_type": "error",
     "traceback": [
      "\u001B[0;31m---------------------------------------------------------------------------\u001B[0m",
      "\u001B[0;31mNameError\u001B[0m                                 Traceback (most recent call last)",
      "Input \u001B[0;32mIn [1]\u001B[0m, in \u001B[0;36m<cell line: 1>\u001B[0;34m()\u001B[0m\n\u001B[0;32m----> 1\u001B[0m scaled_data \u001B[38;5;241m=\u001B[39m \u001B[43mpd\u001B[49m\u001B[38;5;241m.\u001B[39mDataFrame(scaled_data, columns\u001B[38;5;241m=\u001B[39mdata\u001B[38;5;241m.\u001B[39mcolumns)\u001B[38;5;241m.\u001B[39mset_index(data\u001B[38;5;241m.\u001B[39mindex)\n",
      "\u001B[0;31mNameError\u001B[0m: name 'pd' is not defined"
     ]
    }
   ],
   "source": [
    "scaled_data = pd.DataFrame(scaled_data, columns=data.columns).set_index(data.index)"
   ]
  },
  {
   "cell_type": "code",
   "execution_count": null,
   "metadata": {},
   "outputs": [],
   "source": [
    "scaled_data"
   ]
  },
  {
   "cell_type": "code",
   "execution_count": 25,
   "metadata": {},
   "outputs": [],
   "source": [
    "scaled_data = gubun.merge(scaled_data, right_index=True, left_index=True)"
   ]
  },
  {
   "cell_type": "markdown",
   "metadata": {},
   "source": [
    "### 스케일링 후"
   ]
  },
  {
   "cell_type": "code",
   "execution_count": 29,
   "metadata": {},
   "outputs": [
    {
     "data": {
      "text/html": [
       "<div>\n",
       "<style scoped>\n",
       "    .dataframe tbody tr th:only-of-type {\n",
       "        vertical-align: middle;\n",
       "    }\n",
       "\n",
       "    .dataframe tbody tr th {\n",
       "        vertical-align: top;\n",
       "    }\n",
       "\n",
       "    .dataframe thead th {\n",
       "        text-align: right;\n",
       "    }\n",
       "</style>\n",
       "<table border=\"1\" class=\"dataframe\">\n",
       "  <thead>\n",
       "    <tr style=\"text-align: right;\">\n",
       "      <th></th>\n",
       "      <th>count</th>\n",
       "      <th>mean</th>\n",
       "      <th>std</th>\n",
       "      <th>min</th>\n",
       "      <th>25%</th>\n",
       "      <th>50%</th>\n",
       "      <th>75%</th>\n",
       "      <th>max</th>\n",
       "    </tr>\n",
       "  </thead>\n",
       "  <tbody>\n",
       "    <tr>\n",
       "      <th>MKT_VAL</th>\n",
       "      <td>2138.0</td>\n",
       "      <td>-1.778538e-17</td>\n",
       "      <td>1.000234</td>\n",
       "      <td>-0.095551</td>\n",
       "      <td>-0.088563</td>\n",
       "      <td>-0.082387</td>\n",
       "      <td>-0.064998</td>\n",
       "      <td>43.195627</td>\n",
       "    </tr>\n",
       "    <tr>\n",
       "      <th>PER</th>\n",
       "      <td>2138.0</td>\n",
       "      <td>3.554479e-17</td>\n",
       "      <td>1.000234</td>\n",
       "      <td>-0.125980</td>\n",
       "      <td>-0.125980</td>\n",
       "      <td>-0.089228</td>\n",
       "      <td>-0.045591</td>\n",
       "      <td>40.747997</td>\n",
       "    </tr>\n",
       "    <tr>\n",
       "      <th>PBR</th>\n",
       "      <td>2138.0</td>\n",
       "      <td>-6.885018e-17</td>\n",
       "      <td>1.000234</td>\n",
       "      <td>-0.389764</td>\n",
       "      <td>-0.260518</td>\n",
       "      <td>-0.162660</td>\n",
       "      <td>0.023824</td>\n",
       "      <td>36.635615</td>\n",
       "    </tr>\n",
       "    <tr>\n",
       "      <th>DIV</th>\n",
       "      <td>2138.0</td>\n",
       "      <td>-7.963176e-16</td>\n",
       "      <td>1.000234</td>\n",
       "      <td>-0.656429</td>\n",
       "      <td>-0.656429</td>\n",
       "      <td>-0.435159</td>\n",
       "      <td>0.334020</td>\n",
       "      <td>11.861166</td>\n",
       "    </tr>\n",
       "    <tr>\n",
       "      <th>매출액</th>\n",
       "      <td>2138.0</td>\n",
       "      <td>-1.818782e-17</td>\n",
       "      <td>1.000234</td>\n",
       "      <td>-0.179651</td>\n",
       "      <td>-0.173552</td>\n",
       "      <td>-0.163495</td>\n",
       "      <td>-0.124845</td>\n",
       "      <td>29.204609</td>\n",
       "    </tr>\n",
       "    <tr>\n",
       "      <th>영업이익</th>\n",
       "      <td>2138.0</td>\n",
       "      <td>1.529672e-16</td>\n",
       "      <td>1.000234</td>\n",
       "      <td>-16.718601</td>\n",
       "      <td>-0.092908</td>\n",
       "      <td>-0.086657</td>\n",
       "      <td>-0.067903</td>\n",
       "      <td>35.876610</td>\n",
       "    </tr>\n",
       "    <tr>\n",
       "      <th>당기순이익</th>\n",
       "      <td>2138.0</td>\n",
       "      <td>1.228749e-17</td>\n",
       "      <td>1.000234</td>\n",
       "      <td>-15.819584</td>\n",
       "      <td>-0.092933</td>\n",
       "      <td>-0.084151</td>\n",
       "      <td>-0.063742</td>\n",
       "      <td>36.008239</td>\n",
       "    </tr>\n",
       "    <tr>\n",
       "      <th>ROA</th>\n",
       "      <td>2138.0</td>\n",
       "      <td>3.479183e-17</td>\n",
       "      <td>1.000234</td>\n",
       "      <td>-8.330413</td>\n",
       "      <td>-0.258735</td>\n",
       "      <td>0.078925</td>\n",
       "      <td>0.424624</td>\n",
       "      <td>8.021971</td>\n",
       "    </tr>\n",
       "    <tr>\n",
       "      <th>ROE</th>\n",
       "      <td>2138.0</td>\n",
       "      <td>-6.213523e-18</td>\n",
       "      <td>1.000234</td>\n",
       "      <td>-46.227466</td>\n",
       "      <td>0.021100</td>\n",
       "      <td>0.022001</td>\n",
       "      <td>0.022802</td>\n",
       "      <td>0.038234</td>\n",
       "    </tr>\n",
       "    <tr>\n",
       "      <th>베타</th>\n",
       "      <td>2138.0</td>\n",
       "      <td>6.792197e-17</td>\n",
       "      <td>1.000234</td>\n",
       "      <td>-3.610337</td>\n",
       "      <td>-0.654906</td>\n",
       "      <td>0.024843</td>\n",
       "      <td>0.615929</td>\n",
       "      <td>8.300048</td>\n",
       "    </tr>\n",
       "  </tbody>\n",
       "</table>\n",
       "</div>"
      ],
      "text/plain": [
       "          count          mean       std        min       25%       50%  \\\n",
       "MKT_VAL  2138.0 -1.778538e-17  1.000234  -0.095551 -0.088563 -0.082387   \n",
       "PER      2138.0  3.554479e-17  1.000234  -0.125980 -0.125980 -0.089228   \n",
       "PBR      2138.0 -6.885018e-17  1.000234  -0.389764 -0.260518 -0.162660   \n",
       "DIV      2138.0 -7.963176e-16  1.000234  -0.656429 -0.656429 -0.435159   \n",
       "매출액      2138.0 -1.818782e-17  1.000234  -0.179651 -0.173552 -0.163495   \n",
       "영업이익     2138.0  1.529672e-16  1.000234 -16.718601 -0.092908 -0.086657   \n",
       "당기순이익    2138.0  1.228749e-17  1.000234 -15.819584 -0.092933 -0.084151   \n",
       "ROA      2138.0  3.479183e-17  1.000234  -8.330413 -0.258735  0.078925   \n",
       "ROE      2138.0 -6.213523e-18  1.000234 -46.227466  0.021100  0.022001   \n",
       "베타       2138.0  6.792197e-17  1.000234  -3.610337 -0.654906  0.024843   \n",
       "\n",
       "              75%        max  \n",
       "MKT_VAL -0.064998  43.195627  \n",
       "PER     -0.045591  40.747997  \n",
       "PBR      0.023824  36.635615  \n",
       "DIV      0.334020  11.861166  \n",
       "매출액     -0.124845  29.204609  \n",
       "영업이익    -0.067903  35.876610  \n",
       "당기순이익   -0.063742  36.008239  \n",
       "ROA      0.424624   8.021971  \n",
       "ROE      0.022802   0.038234  \n",
       "베타       0.615929   8.300048  "
      ]
     },
     "execution_count": 29,
     "metadata": {},
     "output_type": "execute_result"
    }
   ],
   "source": [
    "scaled_data.describe().T"
   ]
  },
  {
   "cell_type": "markdown",
   "metadata": {},
   "source": [
    "### 스케일링 전"
   ]
  },
  {
   "cell_type": "code",
   "execution_count": 32,
   "metadata": {},
   "outputs": [
    {
     "data": {
      "text/html": [
       "<div>\n",
       "<style scoped>\n",
       "    .dataframe tbody tr th:only-of-type {\n",
       "        vertical-align: middle;\n",
       "    }\n",
       "\n",
       "    .dataframe tbody tr th {\n",
       "        vertical-align: top;\n",
       "    }\n",
       "\n",
       "    .dataframe thead th {\n",
       "        text-align: right;\n",
       "    }\n",
       "</style>\n",
       "<table border=\"1\" class=\"dataframe\">\n",
       "  <thead>\n",
       "    <tr style=\"text-align: right;\">\n",
       "      <th></th>\n",
       "      <th>count</th>\n",
       "      <th>mean</th>\n",
       "      <th>std</th>\n",
       "      <th>min</th>\n",
       "      <th>25%</th>\n",
       "      <th>50%</th>\n",
       "      <th>75%</th>\n",
       "      <th>max</th>\n",
       "    </tr>\n",
       "  </thead>\n",
       "  <tbody>\n",
       "    <tr>\n",
       "      <th>MKT_VAL</th>\n",
       "      <td>2138.0</td>\n",
       "      <td>578216.255379</td>\n",
       "      <td>6.041336e+06</td>\n",
       "      <td>1096.00</td>\n",
       "      <td>43302.250</td>\n",
       "      <td>80606.00</td>\n",
       "      <td>185631.250</td>\n",
       "      <td>2.614765e+08</td>\n",
       "    </tr>\n",
       "    <tr>\n",
       "      <th>PER</th>\n",
       "      <td>2138.0</td>\n",
       "      <td>27.354181</td>\n",
       "      <td>2.171816e+02</td>\n",
       "      <td>0.00</td>\n",
       "      <td>0.000</td>\n",
       "      <td>7.98</td>\n",
       "      <td>17.455</td>\n",
       "      <td>8.875000e+03</td>\n",
       "    </tr>\n",
       "    <tr>\n",
       "      <th>PBR</th>\n",
       "      <td>2138.0</td>\n",
       "      <td>2.110968</td>\n",
       "      <td>5.417282e+00</td>\n",
       "      <td>0.00</td>\n",
       "      <td>0.700</td>\n",
       "      <td>1.23</td>\n",
       "      <td>2.240</td>\n",
       "      <td>2.005300e+02</td>\n",
       "    </tr>\n",
       "    <tr>\n",
       "      <th>DIV</th>\n",
       "      <td>2138.0</td>\n",
       "      <td>1.245987</td>\n",
       "      <td>1.898572e+00</td>\n",
       "      <td>0.00</td>\n",
       "      <td>0.000</td>\n",
       "      <td>0.42</td>\n",
       "      <td>1.880</td>\n",
       "      <td>2.376000e+01</td>\n",
       "    </tr>\n",
       "    <tr>\n",
       "      <th>매출액</th>\n",
       "      <td>2138.0</td>\n",
       "      <td>4704.222170</td>\n",
       "      <td>2.628049e+04</td>\n",
       "      <td>-16.00</td>\n",
       "      <td>144.250</td>\n",
       "      <td>408.50</td>\n",
       "      <td>1424.000</td>\n",
       "      <td>7.720360e+05</td>\n",
       "    </tr>\n",
       "    <tr>\n",
       "      <th>영업이익</th>\n",
       "      <td>2138.0</td>\n",
       "      <td>361.128157</td>\n",
       "      <td>3.920152e+03</td>\n",
       "      <td>-65163.00</td>\n",
       "      <td>-3.000</td>\n",
       "      <td>21.50</td>\n",
       "      <td>95.000</td>\n",
       "      <td>1.409700e+05</td>\n",
       "    </tr>\n",
       "    <tr>\n",
       "      <th>당기순이익</th>\n",
       "      <td>2138.0</td>\n",
       "      <td>279.725444</td>\n",
       "      <td>3.075246e+03</td>\n",
       "      <td>-48358.00</td>\n",
       "      <td>-6.000</td>\n",
       "      <td>21.00</td>\n",
       "      <td>83.750</td>\n",
       "      <td>1.109880e+05</td>\n",
       "    </tr>\n",
       "    <tr>\n",
       "      <th>ROA</th>\n",
       "      <td>2138.0</td>\n",
       "      <td>2.318288</td>\n",
       "      <td>1.244146e+01</td>\n",
       "      <td>-101.30</td>\n",
       "      <td>-0.900</td>\n",
       "      <td>3.30</td>\n",
       "      <td>7.600</td>\n",
       "      <td>1.021000e+02</td>\n",
       "    </tr>\n",
       "    <tr>\n",
       "      <th>ROE</th>\n",
       "      <td>2138.0</td>\n",
       "      <td>-188.490271</td>\n",
       "      <td>8.860490e+03</td>\n",
       "      <td>-409690.70</td>\n",
       "      <td>-1.575</td>\n",
       "      <td>6.40</td>\n",
       "      <td>13.500</td>\n",
       "      <td>1.502000e+02</td>\n",
       "    </tr>\n",
       "    <tr>\n",
       "      <th>베타</th>\n",
       "      <td>2138.0</td>\n",
       "      <td>0.911594</td>\n",
       "      <td>3.384393e-01</td>\n",
       "      <td>-0.31</td>\n",
       "      <td>0.690</td>\n",
       "      <td>0.92</td>\n",
       "      <td>1.120</td>\n",
       "      <td>3.720000e+00</td>\n",
       "    </tr>\n",
       "  </tbody>\n",
       "</table>\n",
       "</div>"
      ],
      "text/plain": [
       "          count           mean           std        min        25%       50%  \\\n",
       "MKT_VAL  2138.0  578216.255379  6.041336e+06    1096.00  43302.250  80606.00   \n",
       "PER      2138.0      27.354181  2.171816e+02       0.00      0.000      7.98   \n",
       "PBR      2138.0       2.110968  5.417282e+00       0.00      0.700      1.23   \n",
       "DIV      2138.0       1.245987  1.898572e+00       0.00      0.000      0.42   \n",
       "매출액      2138.0    4704.222170  2.628049e+04     -16.00    144.250    408.50   \n",
       "영업이익     2138.0     361.128157  3.920152e+03  -65163.00     -3.000     21.50   \n",
       "당기순이익    2138.0     279.725444  3.075246e+03  -48358.00     -6.000     21.00   \n",
       "ROA      2138.0       2.318288  1.244146e+01    -101.30     -0.900      3.30   \n",
       "ROE      2138.0    -188.490271  8.860490e+03 -409690.70     -1.575      6.40   \n",
       "베타       2138.0       0.911594  3.384393e-01      -0.31      0.690      0.92   \n",
       "\n",
       "                75%           max  \n",
       "MKT_VAL  185631.250  2.614765e+08  \n",
       "PER          17.455  8.875000e+03  \n",
       "PBR           2.240  2.005300e+02  \n",
       "DIV           1.880  2.376000e+01  \n",
       "매출액        1424.000  7.720360e+05  \n",
       "영업이익         95.000  1.409700e+05  \n",
       "당기순이익        83.750  1.109880e+05  \n",
       "ROA           7.600  1.021000e+02  \n",
       "ROE          13.500  1.502000e+02  \n",
       "베타            1.120  3.720000e+00  "
      ]
     },
     "execution_count": 32,
     "metadata": {},
     "output_type": "execute_result"
    }
   ],
   "source": [
    "data.describe().T"
   ]
  },
  {
   "cell_type": "code",
   "execution_count": 8,
   "metadata": {},
   "outputs": [
    {
     "ename": "TypeError",
     "evalue": "Can only merge Series or DataFrame objects, a <class 'numpy.ndarray'> was passed",
     "output_type": "error",
     "traceback": [
      "\u001B[0;31m---------------------------------------------------------------------------\u001B[0m",
      "\u001B[0;31mTypeError\u001B[0m                                 Traceback (most recent call last)",
      "Input \u001B[0;32mIn [8]\u001B[0m, in \u001B[0;36m<cell line: 1>\u001B[0;34m()\u001B[0m\n\u001B[0;32m----> 1\u001B[0m \u001B[43mdata\u001B[49m\u001B[38;5;241;43m.\u001B[39;49m\u001B[43mget_score\u001B[49m\u001B[43m(\u001B[49m\u001B[43mmode\u001B[49m\u001B[38;5;241;43m=\u001B[39;49m\u001B[38;5;124;43m'\u001B[39;49m\u001B[38;5;124;43mstd\u001B[39;49m\u001B[38;5;124;43m'\u001B[39;49m\u001B[43m)\u001B[49m\n",
      "File \u001B[0;32m~/Desktop/Dinger/Dinger/universe_module.py:74\u001B[0m, in \u001B[0;36mUniverse.get_score\u001B[0;34m(self, mode)\u001B[0m\n\u001B[1;32m     72\u001B[0m data\u001B[38;5;241m.\u001B[39mdrop(\u001B[38;5;124m'\u001B[39m\u001B[38;5;124mALL_MKT_VAL\u001B[39m\u001B[38;5;124m'\u001B[39m, axis\u001B[38;5;241m=\u001B[39m\u001B[38;5;241m1\u001B[39m, inplace\u001B[38;5;241m=\u001B[39m\u001B[38;5;28;01mTrue\u001B[39;00m)\n\u001B[1;32m     73\u001B[0m scaled_data \u001B[38;5;241m=\u001B[39m scaler\u001B[38;5;241m.\u001B[39mfit_transform(data)\n\u001B[0;32m---> 74\u001B[0m \u001B[38;5;28;01mreturn\u001B[39;00m \u001B[43mgubun\u001B[49m\u001B[38;5;241;43m.\u001B[39;49m\u001B[43mmerge\u001B[49m\u001B[43m(\u001B[49m\u001B[43mscaled_data\u001B[49m\u001B[43m,\u001B[49m\u001B[43m \u001B[49m\u001B[43mright_index\u001B[49m\u001B[38;5;241;43m=\u001B[39;49m\u001B[38;5;28;43;01mTrue\u001B[39;49;00m\u001B[43m,\u001B[49m\u001B[43m \u001B[49m\u001B[43mleft_index\u001B[49m\u001B[38;5;241;43m=\u001B[39;49m\u001B[38;5;28;43;01mTrue\u001B[39;49;00m\u001B[43m)\u001B[49m\n",
      "File \u001B[0;32m/opt/anaconda3/lib/python3.9/site-packages/pandas/core/frame.py:9345\u001B[0m, in \u001B[0;36mDataFrame.merge\u001B[0;34m(self, right, how, on, left_on, right_on, left_index, right_index, sort, suffixes, copy, indicator, validate)\u001B[0m\n\u001B[1;32m   9326\u001B[0m \u001B[38;5;129m@Substitution\u001B[39m(\u001B[38;5;124m\"\u001B[39m\u001B[38;5;124m\"\u001B[39m)\n\u001B[1;32m   9327\u001B[0m \u001B[38;5;129m@Appender\u001B[39m(_merge_doc, indents\u001B[38;5;241m=\u001B[39m\u001B[38;5;241m2\u001B[39m)\n\u001B[1;32m   9328\u001B[0m \u001B[38;5;28;01mdef\u001B[39;00m \u001B[38;5;21mmerge\u001B[39m(\n\u001B[0;32m   (...)\u001B[0m\n\u001B[1;32m   9341\u001B[0m     validate: \u001B[38;5;28mstr\u001B[39m \u001B[38;5;241m|\u001B[39m \u001B[38;5;28;01mNone\u001B[39;00m \u001B[38;5;241m=\u001B[39m \u001B[38;5;28;01mNone\u001B[39;00m,\n\u001B[1;32m   9342\u001B[0m ) \u001B[38;5;241m-\u001B[39m\u001B[38;5;241m>\u001B[39m DataFrame:\n\u001B[1;32m   9343\u001B[0m     \u001B[38;5;28;01mfrom\u001B[39;00m \u001B[38;5;21;01mpandas\u001B[39;00m\u001B[38;5;21;01m.\u001B[39;00m\u001B[38;5;21;01mcore\u001B[39;00m\u001B[38;5;21;01m.\u001B[39;00m\u001B[38;5;21;01mreshape\u001B[39;00m\u001B[38;5;21;01m.\u001B[39;00m\u001B[38;5;21;01mmerge\u001B[39;00m \u001B[38;5;28;01mimport\u001B[39;00m merge\n\u001B[0;32m-> 9345\u001B[0m     \u001B[38;5;28;01mreturn\u001B[39;00m \u001B[43mmerge\u001B[49m\u001B[43m(\u001B[49m\n\u001B[1;32m   9346\u001B[0m \u001B[43m        \u001B[49m\u001B[38;5;28;43mself\u001B[39;49m\u001B[43m,\u001B[49m\n\u001B[1;32m   9347\u001B[0m \u001B[43m        \u001B[49m\u001B[43mright\u001B[49m\u001B[43m,\u001B[49m\n\u001B[1;32m   9348\u001B[0m \u001B[43m        \u001B[49m\u001B[43mhow\u001B[49m\u001B[38;5;241;43m=\u001B[39;49m\u001B[43mhow\u001B[49m\u001B[43m,\u001B[49m\n\u001B[1;32m   9349\u001B[0m \u001B[43m        \u001B[49m\u001B[43mon\u001B[49m\u001B[38;5;241;43m=\u001B[39;49m\u001B[43mon\u001B[49m\u001B[43m,\u001B[49m\n\u001B[1;32m   9350\u001B[0m \u001B[43m        \u001B[49m\u001B[43mleft_on\u001B[49m\u001B[38;5;241;43m=\u001B[39;49m\u001B[43mleft_on\u001B[49m\u001B[43m,\u001B[49m\n\u001B[1;32m   9351\u001B[0m \u001B[43m        \u001B[49m\u001B[43mright_on\u001B[49m\u001B[38;5;241;43m=\u001B[39;49m\u001B[43mright_on\u001B[49m\u001B[43m,\u001B[49m\n\u001B[1;32m   9352\u001B[0m \u001B[43m        \u001B[49m\u001B[43mleft_index\u001B[49m\u001B[38;5;241;43m=\u001B[39;49m\u001B[43mleft_index\u001B[49m\u001B[43m,\u001B[49m\n\u001B[1;32m   9353\u001B[0m \u001B[43m        \u001B[49m\u001B[43mright_index\u001B[49m\u001B[38;5;241;43m=\u001B[39;49m\u001B[43mright_index\u001B[49m\u001B[43m,\u001B[49m\n\u001B[1;32m   9354\u001B[0m \u001B[43m        \u001B[49m\u001B[43msort\u001B[49m\u001B[38;5;241;43m=\u001B[39;49m\u001B[43msort\u001B[49m\u001B[43m,\u001B[49m\n\u001B[1;32m   9355\u001B[0m \u001B[43m        \u001B[49m\u001B[43msuffixes\u001B[49m\u001B[38;5;241;43m=\u001B[39;49m\u001B[43msuffixes\u001B[49m\u001B[43m,\u001B[49m\n\u001B[1;32m   9356\u001B[0m \u001B[43m        \u001B[49m\u001B[43mcopy\u001B[49m\u001B[38;5;241;43m=\u001B[39;49m\u001B[43mcopy\u001B[49m\u001B[43m,\u001B[49m\n\u001B[1;32m   9357\u001B[0m \u001B[43m        \u001B[49m\u001B[43mindicator\u001B[49m\u001B[38;5;241;43m=\u001B[39;49m\u001B[43mindicator\u001B[49m\u001B[43m,\u001B[49m\n\u001B[1;32m   9358\u001B[0m \u001B[43m        \u001B[49m\u001B[43mvalidate\u001B[49m\u001B[38;5;241;43m=\u001B[39;49m\u001B[43mvalidate\u001B[49m\u001B[43m,\u001B[49m\n\u001B[1;32m   9359\u001B[0m \u001B[43m    \u001B[49m\u001B[43m)\u001B[49m\n",
      "File \u001B[0;32m/opt/anaconda3/lib/python3.9/site-packages/pandas/core/reshape/merge.py:107\u001B[0m, in \u001B[0;36mmerge\u001B[0;34m(left, right, how, on, left_on, right_on, left_index, right_index, sort, suffixes, copy, indicator, validate)\u001B[0m\n\u001B[1;32m     90\u001B[0m \u001B[38;5;129m@Substitution\u001B[39m(\u001B[38;5;124m\"\u001B[39m\u001B[38;5;130;01m\\n\u001B[39;00m\u001B[38;5;124mleft : DataFrame or named Series\u001B[39m\u001B[38;5;124m\"\u001B[39m)\n\u001B[1;32m     91\u001B[0m \u001B[38;5;129m@Appender\u001B[39m(_merge_doc, indents\u001B[38;5;241m=\u001B[39m\u001B[38;5;241m0\u001B[39m)\n\u001B[1;32m     92\u001B[0m \u001B[38;5;28;01mdef\u001B[39;00m \u001B[38;5;21mmerge\u001B[39m(\n\u001B[0;32m   (...)\u001B[0m\n\u001B[1;32m    105\u001B[0m     validate: \u001B[38;5;28mstr\u001B[39m \u001B[38;5;241m|\u001B[39m \u001B[38;5;28;01mNone\u001B[39;00m \u001B[38;5;241m=\u001B[39m \u001B[38;5;28;01mNone\u001B[39;00m,\n\u001B[1;32m    106\u001B[0m ) \u001B[38;5;241m-\u001B[39m\u001B[38;5;241m>\u001B[39m DataFrame:\n\u001B[0;32m--> 107\u001B[0m     op \u001B[38;5;241m=\u001B[39m \u001B[43m_MergeOperation\u001B[49m\u001B[43m(\u001B[49m\n\u001B[1;32m    108\u001B[0m \u001B[43m        \u001B[49m\u001B[43mleft\u001B[49m\u001B[43m,\u001B[49m\n\u001B[1;32m    109\u001B[0m \u001B[43m        \u001B[49m\u001B[43mright\u001B[49m\u001B[43m,\u001B[49m\n\u001B[1;32m    110\u001B[0m \u001B[43m        \u001B[49m\u001B[43mhow\u001B[49m\u001B[38;5;241;43m=\u001B[39;49m\u001B[43mhow\u001B[49m\u001B[43m,\u001B[49m\n\u001B[1;32m    111\u001B[0m \u001B[43m        \u001B[49m\u001B[43mon\u001B[49m\u001B[38;5;241;43m=\u001B[39;49m\u001B[43mon\u001B[49m\u001B[43m,\u001B[49m\n\u001B[1;32m    112\u001B[0m \u001B[43m        \u001B[49m\u001B[43mleft_on\u001B[49m\u001B[38;5;241;43m=\u001B[39;49m\u001B[43mleft_on\u001B[49m\u001B[43m,\u001B[49m\n\u001B[1;32m    113\u001B[0m \u001B[43m        \u001B[49m\u001B[43mright_on\u001B[49m\u001B[38;5;241;43m=\u001B[39;49m\u001B[43mright_on\u001B[49m\u001B[43m,\u001B[49m\n\u001B[1;32m    114\u001B[0m \u001B[43m        \u001B[49m\u001B[43mleft_index\u001B[49m\u001B[38;5;241;43m=\u001B[39;49m\u001B[43mleft_index\u001B[49m\u001B[43m,\u001B[49m\n\u001B[1;32m    115\u001B[0m \u001B[43m        \u001B[49m\u001B[43mright_index\u001B[49m\u001B[38;5;241;43m=\u001B[39;49m\u001B[43mright_index\u001B[49m\u001B[43m,\u001B[49m\n\u001B[1;32m    116\u001B[0m \u001B[43m        \u001B[49m\u001B[43msort\u001B[49m\u001B[38;5;241;43m=\u001B[39;49m\u001B[43msort\u001B[49m\u001B[43m,\u001B[49m\n\u001B[1;32m    117\u001B[0m \u001B[43m        \u001B[49m\u001B[43msuffixes\u001B[49m\u001B[38;5;241;43m=\u001B[39;49m\u001B[43msuffixes\u001B[49m\u001B[43m,\u001B[49m\n\u001B[1;32m    118\u001B[0m \u001B[43m        \u001B[49m\u001B[43mcopy\u001B[49m\u001B[38;5;241;43m=\u001B[39;49m\u001B[43mcopy\u001B[49m\u001B[43m,\u001B[49m\n\u001B[1;32m    119\u001B[0m \u001B[43m        \u001B[49m\u001B[43mindicator\u001B[49m\u001B[38;5;241;43m=\u001B[39;49m\u001B[43mindicator\u001B[49m\u001B[43m,\u001B[49m\n\u001B[1;32m    120\u001B[0m \u001B[43m        \u001B[49m\u001B[43mvalidate\u001B[49m\u001B[38;5;241;43m=\u001B[39;49m\u001B[43mvalidate\u001B[49m\u001B[43m,\u001B[49m\n\u001B[1;32m    121\u001B[0m \u001B[43m    \u001B[49m\u001B[43m)\u001B[49m\n\u001B[1;32m    122\u001B[0m     \u001B[38;5;28;01mreturn\u001B[39;00m op\u001B[38;5;241m.\u001B[39mget_result()\n",
      "File \u001B[0;32m/opt/anaconda3/lib/python3.9/site-packages/pandas/core/reshape/merge.py:629\u001B[0m, in \u001B[0;36m_MergeOperation.__init__\u001B[0;34m(self, left, right, how, on, left_on, right_on, axis, left_index, right_index, sort, suffixes, copy, indicator, validate)\u001B[0m\n\u001B[1;32m    611\u001B[0m \u001B[38;5;28;01mdef\u001B[39;00m \u001B[38;5;21m__init__\u001B[39m(\n\u001B[1;32m    612\u001B[0m     \u001B[38;5;28mself\u001B[39m,\n\u001B[1;32m    613\u001B[0m     left: DataFrame \u001B[38;5;241m|\u001B[39m Series,\n\u001B[0;32m   (...)\u001B[0m\n\u001B[1;32m    626\u001B[0m     validate: \u001B[38;5;28mstr\u001B[39m \u001B[38;5;241m|\u001B[39m \u001B[38;5;28;01mNone\u001B[39;00m \u001B[38;5;241m=\u001B[39m \u001B[38;5;28;01mNone\u001B[39;00m,\n\u001B[1;32m    627\u001B[0m ):\n\u001B[1;32m    628\u001B[0m     _left \u001B[38;5;241m=\u001B[39m _validate_operand(left)\n\u001B[0;32m--> 629\u001B[0m     _right \u001B[38;5;241m=\u001B[39m \u001B[43m_validate_operand\u001B[49m\u001B[43m(\u001B[49m\u001B[43mright\u001B[49m\u001B[43m)\u001B[49m\n\u001B[1;32m    630\u001B[0m     \u001B[38;5;28mself\u001B[39m\u001B[38;5;241m.\u001B[39mleft \u001B[38;5;241m=\u001B[39m \u001B[38;5;28mself\u001B[39m\u001B[38;5;241m.\u001B[39morig_left \u001B[38;5;241m=\u001B[39m _left\n\u001B[1;32m    631\u001B[0m     \u001B[38;5;28mself\u001B[39m\u001B[38;5;241m.\u001B[39mright \u001B[38;5;241m=\u001B[39m \u001B[38;5;28mself\u001B[39m\u001B[38;5;241m.\u001B[39morig_right \u001B[38;5;241m=\u001B[39m _right\n",
      "File \u001B[0;32m/opt/anaconda3/lib/python3.9/site-packages/pandas/core/reshape/merge.py:2281\u001B[0m, in \u001B[0;36m_validate_operand\u001B[0;34m(obj)\u001B[0m\n\u001B[1;32m   2279\u001B[0m         \u001B[38;5;28;01mreturn\u001B[39;00m obj\u001B[38;5;241m.\u001B[39mto_frame()\n\u001B[1;32m   2280\u001B[0m \u001B[38;5;28;01melse\u001B[39;00m:\n\u001B[0;32m-> 2281\u001B[0m     \u001B[38;5;28;01mraise\u001B[39;00m \u001B[38;5;167;01mTypeError\u001B[39;00m(\n\u001B[1;32m   2282\u001B[0m         \u001B[38;5;124mf\u001B[39m\u001B[38;5;124m\"\u001B[39m\u001B[38;5;124mCan only merge Series or DataFrame objects, a \u001B[39m\u001B[38;5;132;01m{\u001B[39;00m\u001B[38;5;28mtype\u001B[39m(obj)\u001B[38;5;132;01m}\u001B[39;00m\u001B[38;5;124m was passed\u001B[39m\u001B[38;5;124m\"\u001B[39m\n\u001B[1;32m   2283\u001B[0m     )\n",
      "\u001B[0;31mTypeError\u001B[0m: Can only merge Series or DataFrame objects, a <class 'numpy.ndarray'> was passed"
     ]
    }
   ],
   "source": [
    "data.get_score(mode='mm')"
   ]
  },
  {
   "cell_type": "code",
   "execution_count": null,
   "metadata": {},
   "outputs": [],
   "source": []
  }
 ],
 "metadata": {
  "kernelspec": {
   "display_name": "Python 3 (ipykernel)",
   "language": "python",
   "name": "python3"
  },
  "language_info": {
   "codemirror_mode": {
    "name": "ipython",
    "version": 3
   },
   "file_extension": ".py",
   "mimetype": "text/x-python",
   "name": "python",
   "nbconvert_exporter": "python",
   "pygments_lexer": "ipython3",
   "version": "3.9.12"
  },
  "vscode": {
   "interpreter": {
    "hash": "29be89daf952741e3c43ff064676e00aa8ac4c4ae84321cbe394240a42bc8712"
   }
  }
 },
 "nbformat": 4,
 "nbformat_minor": 2
}
