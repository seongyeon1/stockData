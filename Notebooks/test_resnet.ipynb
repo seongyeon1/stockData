{
 "cells": [
  {
   "cell_type": "code",
   "execution_count": 7,
   "metadata": {},
   "outputs": [],
   "source": [
    "import os\n",
    "#os.chdir('/Users/mac/Desktop/Dinger')\n",
    "os.chdir('/Users/seongyeon-kim/Desktop/Dinger')"
   ]
  },
  {
   "cell_type": "markdown",
   "metadata": {},
   "source": [
    "### 프로젝트 root로 설정"
   ]
  },
  {
   "cell_type": "code",
   "execution_count": 8,
   "metadata": {},
   "outputs": [
    {
     "name": "stdout",
     "output_type": "stream",
     "text": [
      "현재 디렉토리  /Users/seongyeon-kim/Desktop/Dinger\n"
     ]
    }
   ],
   "source": [
    "print(\"현재 디렉토리 \" , os.getcwd())"
   ]
  },
  {
   "cell_type": "code",
   "execution_count": 12,
   "metadata": {},
   "outputs": [],
   "source": [
    "import pandas as pd \n",
    "\n",
    "data = pd.read_csv(\"/Users/seongyeon-kim/Desktop/Dinger/Dinger/ExampleStocks/KS11.csv\")[[\"Close\", \"Volume\"]]\n",
    "# data = pd.read_csv(\"/Users/mac/Desktop/Dinger/ExampleStocks/KS11.csv\")[[\"Close\", \"Volume\"]]\n",
    "data = data.dropna()"
   ]
  },
  {
   "cell_type": "code",
   "execution_count": 14,
   "metadata": {},
   "outputs": [],
   "source": [
    "from Dinger import resnet"
   ]
  },
  {
   "cell_type": "code",
   "execution_count": 15,
   "metadata": {},
   "outputs": [
    {
     "name": "stdout",
     "output_type": "stream",
     "text": [
      "===== Value Info =====\n",
      "Max Close : 3305.209961, Min Close: 1457.640015\n",
      "Max Volume : 3455500.0, Min Volume: 131390.0\n",
      "===== complete generating wbt =====\n",
      "Num of Up trend:1150\n",
      "Num of Down trend:844\n",
      "Num of Side trend:1073\n",
      "===== complete generating image =====\n",
      "Image shape:(3067, 1, 64, 64)\n",
      "Label shape:(3067, 3)\n"
     ]
    }
   ],
   "source": [
    "gd = resnet.GenerateDataset(data=data, size=64)\n",
    "image_data, label_data = gd.generate_image()"
   ]
  },
  {
   "cell_type": "code",
   "execution_count": 16,
   "metadata": {},
   "outputs": [
    {
     "data": {
      "text/plain": "(3067, 1, 64, 64)"
     },
     "execution_count": 16,
     "metadata": {},
     "output_type": "execute_result"
    }
   ],
   "source": [
    "image_data.shape"
   ]
  },
  {
   "cell_type": "code",
   "execution_count": 21,
   "metadata": {},
   "outputs": [
    {
     "data": {
      "text/plain": "<Figure size 640x480 with 1 Axes>",
      "image/png": "[encoded data removed]"
     },
     "metadata": {},
     "output_type": "display_data"
    }
   ],
   "source": [
    "import matplotlib.pyplot as plt\n",
    "\n",
    "plt.imshow(image_data[4,0], cmap=\"gray\")\n",
    "plt.show()"
   ]
  },
  {
   "cell_type": "code",
   "execution_count": 22,
   "metadata": {},
   "outputs": [
    {
     "ename": "AttributeError",
     "evalue": "'ResNet' object has no attribute 'TrainingModel'",
     "output_type": "error",
     "traceback": [
      "\u001B[0;31m---------------------------------------------------------------------------\u001B[0m",
      "\u001B[0;31mAttributeError\u001B[0m                            Traceback (most recent call last)",
      "Cell \u001B[0;32mIn [22], line 2\u001B[0m\n\u001B[1;32m      1\u001B[0m resnet \u001B[38;5;241m=\u001B[39m resnet\u001B[38;5;241m.\u001B[39mResNet()\n\u001B[0;32m----> 2\u001B[0m training_model \u001B[38;5;241m=\u001B[39m \u001B[43mresnet\u001B[49m\u001B[38;5;241;43m.\u001B[39;49m\u001B[43mTrainingModel\u001B[49m(model\u001B[38;5;241m=\u001B[39mresnet, x_all\u001B[38;5;241m=\u001B[39mimage_data, y_all\u001B[38;5;241m=\u001B[39mlabel_data)\n",
      "File \u001B[0;32m/opt/homebrew/Caskroom/miniforge/base/envs/DL-torch/lib/python3.8/site-packages/torch/nn/modules/module.py:1130\u001B[0m, in \u001B[0;36mModule.__getattr__\u001B[0;34m(self, name)\u001B[0m\n\u001B[1;32m   1128\u001B[0m     \u001B[38;5;28;01mif\u001B[39;00m name \u001B[38;5;129;01min\u001B[39;00m modules:\n\u001B[1;32m   1129\u001B[0m         \u001B[38;5;28;01mreturn\u001B[39;00m modules[name]\n\u001B[0;32m-> 1130\u001B[0m \u001B[38;5;28;01mraise\u001B[39;00m \u001B[38;5;167;01mAttributeError\u001B[39;00m(\u001B[38;5;124m\"\u001B[39m\u001B[38;5;124m'\u001B[39m\u001B[38;5;132;01m{}\u001B[39;00m\u001B[38;5;124m'\u001B[39m\u001B[38;5;124m object has no attribute \u001B[39m\u001B[38;5;124m'\u001B[39m\u001B[38;5;132;01m{}\u001B[39;00m\u001B[38;5;124m'\u001B[39m\u001B[38;5;124m\"\u001B[39m\u001B[38;5;241m.\u001B[39mformat(\n\u001B[1;32m   1131\u001B[0m     \u001B[38;5;28mtype\u001B[39m(\u001B[38;5;28mself\u001B[39m)\u001B[38;5;241m.\u001B[39m\u001B[38;5;18m__name__\u001B[39m, name))\n",
      "\u001B[0;31mAttributeError\u001B[0m: 'ResNet' object has no attribute 'TrainingModel'"
     ]
    }
   ],
   "source": [
    "resnet = resnet.ResNet()\n",
    "training_model = resnet.TrainingModel(model=resnet, x_all=image_data, y_all=label_data)"
   ]
  },
  {
   "cell_type": "code",
   "execution_count": 23,
   "metadata": {},
   "outputs": [
    {
     "ename": "NameError",
     "evalue": "name 'training_model' is not defined",
     "output_type": "error",
     "traceback": [
      "\u001B[0;31m---------------------------------------------------------------------------\u001B[0m",
      "\u001B[0;31mNameError\u001B[0m                                 Traceback (most recent call last)",
      "Cell \u001B[0;32mIn [23], line 2\u001B[0m\n\u001B[1;32m      1\u001B[0m epochs \u001B[38;5;241m=\u001B[39m \u001B[38;5;241m20\u001B[39m\n\u001B[0;32m----> 2\u001B[0m \u001B[43mtraining_model\u001B[49m\u001B[38;5;241m.\u001B[39mtrain_test_split()\n\u001B[1;32m      3\u001B[0m training_model\u001B[38;5;241m.\u001B[39mtrain(epochs\u001B[38;5;241m=\u001B[39mepochs)\n",
      "\u001B[0;31mNameError\u001B[0m: name 'training_model' is not defined"
     ]
    }
   ],
   "source": [
    "epochs = 20\n",
    "training_model.train_test_split()\n",
    "training_model.train(epochs=epochs)"
   ]
  },
  {
   "cell_type": "code",
   "execution_count": 24,
   "metadata": {},
   "outputs": [
    {
     "ename": "NameError",
     "evalue": "name 'training_model' is not defined",
     "output_type": "error",
     "traceback": [
      "\u001B[0;31m---------------------------------------------------------------------------\u001B[0m",
      "\u001B[0;31mNameError\u001B[0m                                 Traceback (most recent call last)",
      "Cell \u001B[0;32mIn [24], line 3\u001B[0m\n\u001B[1;32m      1\u001B[0m path \u001B[38;5;241m=\u001B[39m \u001B[38;5;124mf\u001B[39m\u001B[38;5;124m\"\u001B[39m\u001B[38;5;124m/Users/mac/Desktop/Dinger/Dinger/Models/ResNet-\u001B[39m\u001B[38;5;132;01m{\u001B[39;00mepochs\u001B[38;5;132;01m}\u001B[39;00m\u001B[38;5;124mepochs.pth\u001B[39m\u001B[38;5;124m\"\u001B[39m\n\u001B[0;32m----> 3\u001B[0m \u001B[43mtraining_model\u001B[49m\u001B[38;5;241m.\u001B[39msave(path)\n",
      "\u001B[0;31mNameError\u001B[0m: name 'training_model' is not defined"
     ]
    }
   ],
   "source": [
    "path = f\"/Users/mac/Desktop/Dinger/Dinger/Models/ResNet-{epochs}epochs.pth\"\n",
    "\n",
    "training_model.save(path)"
   ]
  },
  {
   "cell_type": "code",
   "execution_count": 20,
   "metadata": {},
   "outputs": [
    {
     "ename": "NameError",
     "evalue": "name 'training_model' is not defined",
     "output_type": "error",
     "traceback": [
      "\u001B[0;31m---------------------------------------------------------------------------\u001B[0m",
      "\u001B[0;31mNameError\u001B[0m                                 Traceback (most recent call last)",
      "Cell \u001B[0;32mIn [20], line 1\u001B[0m\n\u001B[0;32m----> 1\u001B[0m \u001B[43mtraining_model\u001B[49m\u001B[38;5;241m.\u001B[39mtest()\n",
      "\u001B[0;31mNameError\u001B[0m: name 'training_model' is not defined"
     ]
    }
   ],
   "source": [
    "training_model.test()"
   ]
  },
  {
   "cell_type": "code",
   "execution_count": null,
   "outputs": [],
   "source": [],
   "metadata": {
    "collapsed": false
   }
  }
 ],
 "metadata": {
  "kernelspec": {
   "display_name": "Python 3.9.7 ('trader2')",
   "language": "python",
   "name": "python3"
  },
  "language_info": {
   "codemirror_mode": {
    "name": "ipython",
    "version": 3
   },
   "file_extension": ".py",
   "mimetype": "text/x-python",
   "name": "python",
   "nbconvert_exporter": "python",
   "pygments_lexer": "ipython3",
   "version": "3.9.7"
  },
  "orig_nbformat": 4,
  "vscode": {
   "interpreter": {
    "hash": "29be89daf952741e3c43ff064676e00aa8ac4c4ae84321cbe394240a42bc8712"
   }
  }
 },
 "nbformat": 4,
 "nbformat_minor": 2
}
