{
 "cells": [
  {
   "cell_type": "code",
   "execution_count": 2,
   "metadata": {},
   "outputs": [],
   "source": [
    "import os\n",
    "os.chdir('/Users/seongyeon-kim/Desktop/Dinger')"
   ]
  },
  {
   "cell_type": "markdown",
   "metadata": {},
   "source": [
    "### 프로젝트 root로 설정"
   ]
  },
  {
   "cell_type": "code",
   "execution_count": 3,
   "metadata": {},
   "outputs": [
    {
     "name": "stdout",
     "output_type": "stream",
     "text": [
      "현재 디렉토리  /Users/seongyeon-kim/Desktop/Dinger\n"
     ]
    }
   ],
   "source": [
    "import warnings\n",
    "warnings.filterwarnings('ignore')\n",
    "\n",
    "print(\"현재 디렉토리 \" , os.getcwd())\n",
    "\n",
    "import pandas as pd \n",
    "\n",
    "from Dinger import database_module as dm"
   ]
  },
  {
   "cell_type": "code",
   "execution_count": 4,
   "metadata": {},
   "outputs": [],
   "source": [
    "stock_kr = dm.stockKR('20220901')"
   ]
  },
  {
   "cell_type": "code",
   "execution_count": 5,
   "metadata": {},
   "outputs": [
    {
     "data": {
      "text/plain": [
       "'20220901'"
      ]
     },
     "execution_count": 5,
     "metadata": {},
     "output_type": "execute_result"
    }
   ],
   "source": [
    "stock_kr.dt"
   ]
  },
  {
   "cell_type": "code",
   "execution_count": 6,
   "metadata": {},
   "outputs": [],
   "source": [
    "# df = pd.read_csv('crawling.csv')\n",
    "# ticker_list = df.종목코드.astype(str).str.zfill(6).tolist()\n",
    "# ticker = df.종목코드.iloc[0].astype(str).zfill(6)\n",
    "# type(ticker)"
   ]
  },
  {
   "cell_type": "code",
   "execution_count": 7,
   "metadata": {},
   "outputs": [
    {
     "name": "stdout",
     "output_type": "stream",
     "text": [
      "Requirement already satisfied: lxml in /opt/homebrew/Caskroom/miniforge/base/envs/dl_torch/lib/python3.8/site-packages (4.9.1)\r\n"
     ]
    }
   ],
   "source": [
    "!pip install lxml"
   ]
  },
  {
   "cell_type": "code",
   "execution_count": 8,
   "metadata": {},
   "outputs": [],
   "source": [
    "import requests"
   ]
  },
  {
   "cell_type": "code",
   "execution_count": 9,
   "metadata": {},
   "outputs": [],
   "source": [
    "# if type(ticker) != str:\n",
    "#     assert isinstance(ticker, int), 'Expected int'\n",
    "#     ticker = ticker.astype(str)\n",
    "# ticker = ticker.zfill(6)\n",
    "# URL = f\"https://finance.naver.com/item/main.nhn?code={ticker}\"\n",
    "# r = requests.get(URL)\n",
    "# df = pd.read_html(r.text)[3]\n",
    "# df = df.T\n",
    "# df.columns = df.iloc[0]\n",
    "# df.drop('주요재무정보', inplace=True)\n",
    "# df.index = df.index.get_level_values(1)\n",
    "# df.index.name = None\n",
    "# df.drop(df.index[df.index.str.endswith('(E)')].tolist(), inplace=True)\n",
    "# # df.index = pd.to_datetime(df.index, format='%Y.%m')\n",
    "# df.columns.name = None\n"
   ]
  },
  {
   "cell_type": "code",
   "execution_count": 11,
   "metadata": {
    "scrolled": true
   },
   "outputs": [
    {
     "name": "stderr",
     "output_type": "stream",
     "text": [
      "100%|██████████| 2285/2285 [3:58:03<00:00,  6.25s/it]    \n",
      "100%|██████████| 10/10 [00:01<00:00,  5.10it/s]\n",
      "100%|██████████| 2285/2285 [15:21<00:00,  2.48it/s]\n"
     ]
    }
   ],
   "source": [
    "df, err = stock_kr.stocks_info()"
   ]
  },
  {
   "cell_type": "code",
   "execution_count": 12,
   "metadata": {},
   "outputs": [
    {
     "data": {
      "text/plain": [
       "[]"
      ]
     },
     "execution_count": 12,
     "metadata": {},
     "output_type": "execute_result"
    }
   ],
   "source": [
    "err"
   ]
  },
  {
   "cell_type": "code",
   "execution_count": 13,
   "metadata": {
    "scrolled": true
   },
   "outputs": [
    {
     "data": {
      "text/plain": [
       "0"
      ]
     },
     "execution_count": 13,
     "metadata": {},
     "output_type": "execute_result"
    }
   ],
   "source": [
    "len(err)"
   ]
  },
  {
   "cell_type": "code",
   "execution_count": 14,
   "metadata": {},
   "outputs": [],
   "source": [
    "df.set_index('종목코드', inplace=True)"
   ]
  },
  {
   "cell_type": "code",
   "execution_count": 15,
   "metadata": {},
   "outputs": [
    {
     "data": {
      "text/plain": [
       "Index(['종목명', 'SEC_NM_KOR', '업종명', '시장구분', 'MKT_VAL', 'ALL_MKT_VAL', 'PER',\n",
       "       'PBR', 'DIV', '매출액', '영업이익', '당기순이익', 'ROA', 'ROE', '베타'],\n",
       "      dtype='object')"
      ]
     },
     "execution_count": 15,
     "metadata": {},
     "output_type": "execute_result"
    }
   ],
   "source": [
    "df.columns"
   ]
  },
  {
   "cell_type": "code",
   "execution_count": 16,
   "metadata": {},
   "outputs": [],
   "source": [
    "df.to_csv('./data/stock_kr.csv', index=True)"
   ]
  },
  {
   "cell_type": "markdown",
   "metadata": {},
   "source": [
    "## 원하는 주식의 ohlcv 가져오기"
   ]
  },
  {
   "cell_type": "code",
   "execution_count": 17,
   "metadata": {},
   "outputs": [],
   "source": [
    "from Dinger.database_module import stockKR"
   ]
  },
  {
   "cell_type": "code",
   "execution_count": 18,
   "metadata": {},
   "outputs": [
    {
     "name": "stderr",
     "output_type": "stream",
     "text": [
      "100%|██████████| 2257/2257 [09:04<00:00,  4.15it/s]\n"
     ]
    }
   ],
   "source": [
    "resnet_dic, error = stockKR.get_resnet()"
   ]
  },
  {
   "cell_type": "code",
   "execution_count": 19,
   "metadata": {
    "scrolled": true
   },
   "outputs": [
    {
     "data": {
      "text/plain": [
       "2244"
      ]
     },
     "execution_count": 19,
     "metadata": {},
     "output_type": "execute_result"
    }
   ],
   "source": [
    "len(resnet_dic)"
   ]
  },
  {
   "cell_type": "code",
   "execution_count": 20,
   "metadata": {},
   "outputs": [],
   "source": [
    "df = pd.read_csv('/Users/seongyeon-kim/Desktop/Dinger/data/stock_kr.csv')"
   ]
  },
  {
   "cell_type": "code",
   "execution_count": 21,
   "metadata": {},
   "outputs": [
    {
     "data": {
      "text/plain": [
       "['328130',\n",
       " '397030',\n",
       " '430700',\n",
       " '126720',\n",
       " '403550',\n",
       " '129920',\n",
       " '365340',\n",
       " '107600',\n",
       " '403870',\n",
       " '148930',\n",
       " '112290',\n",
       " '402030',\n",
       " '368600']"
      ]
     },
     "execution_count": 21,
     "metadata": {},
     "output_type": "execute_result"
    }
   ],
   "source": [
    "error"
   ]
  },
  {
   "cell_type": "code",
   "execution_count": 21,
   "metadata": {},
   "outputs": [],
   "source": []
  },
  {
   "cell_type": "code",
   "execution_count": 23,
   "metadata": {},
   "outputs": [
    {
     "data": {
      "text/html": [
       "<div>\n",
       "<style scoped>\n",
       "    .dataframe tbody tr th:only-of-type {\n",
       "        vertical-align: middle;\n",
       "    }\n",
       "\n",
       "    .dataframe tbody tr th {\n",
       "        vertical-align: top;\n",
       "    }\n",
       "\n",
       "    .dataframe thead th {\n",
       "        text-align: right;\n",
       "    }\n",
       "</style>\n",
       "<table border=\"1\" class=\"dataframe\">\n",
       "  <thead>\n",
       "    <tr style=\"text-align: right;\">\n",
       "      <th></th>\n",
       "      <th>종목코드</th>\n",
       "      <th>종목명</th>\n",
       "      <th>SEC_NM_KOR</th>\n",
       "      <th>업종명</th>\n",
       "      <th>시장구분</th>\n",
       "      <th>MKT_VAL</th>\n",
       "      <th>ALL_MKT_VAL</th>\n",
       "      <th>PER</th>\n",
       "      <th>PBR</th>\n",
       "      <th>DIV</th>\n",
       "      <th>매출액</th>\n",
       "      <th>영업이익</th>\n",
       "      <th>당기순이익</th>\n",
       "      <th>ROA</th>\n",
       "      <th>ROE</th>\n",
       "      <th>베타</th>\n",
       "    </tr>\n",
       "  </thead>\n",
       "  <tbody>\n",
       "    <tr>\n",
       "      <th>0</th>\n",
       "      <td>5380</td>\n",
       "      <td>현대차</td>\n",
       "      <td>경기관련소비재</td>\n",
       "      <td>운수장비</td>\n",
       "      <td>KOSPI</td>\n",
       "      <td>27569606</td>\n",
       "      <td>132591243</td>\n",
       "      <td>10.30</td>\n",
       "      <td>0.68</td>\n",
       "      <td>2.56</td>\n",
       "      <td>359999.0</td>\n",
       "      <td>29798.0</td>\n",
       "      <td>30848.0</td>\n",
       "      <td>4.0</td>\n",
       "      <td>11.3</td>\n",
       "      <td>1.40</td>\n",
       "    </tr>\n",
       "    <tr>\n",
       "      <th>1</th>\n",
       "      <td>270</td>\n",
       "      <td>기아</td>\n",
       "      <td>경기관련소비재</td>\n",
       "      <td>운수장비</td>\n",
       "      <td>KOSPI</td>\n",
       "      <td>20156287</td>\n",
       "      <td>132591243</td>\n",
       "      <td>6.75</td>\n",
       "      <td>0.92</td>\n",
       "      <td>3.74</td>\n",
       "      <td>218760.0</td>\n",
       "      <td>22341.0</td>\n",
       "      <td>18810.0</td>\n",
       "      <td>8.4</td>\n",
       "      <td>16.0</td>\n",
       "      <td>1.44</td>\n",
       "    </tr>\n",
       "    <tr>\n",
       "      <th>2</th>\n",
       "      <td>12330</td>\n",
       "      <td>현대모비스</td>\n",
       "      <td>경기관련소비재</td>\n",
       "      <td>운수장비</td>\n",
       "      <td>KOSPI</td>\n",
       "      <td>13433162</td>\n",
       "      <td>132591243</td>\n",
       "      <td>8.27</td>\n",
       "      <td>0.55</td>\n",
       "      <td>1.89</td>\n",
       "      <td>123081.0</td>\n",
       "      <td>4033.0</td>\n",
       "      <td>7697.0</td>\n",
       "      <td>4.9</td>\n",
       "      <td>7.1</td>\n",
       "      <td>1.49</td>\n",
       "    </tr>\n",
       "    <tr>\n",
       "      <th>3</th>\n",
       "      <td>51900</td>\n",
       "      <td>LG생활건강</td>\n",
       "      <td>경기관련소비재</td>\n",
       "      <td>화학</td>\n",
       "      <td>KOSPI</td>\n",
       "      <td>6437821</td>\n",
       "      <td>132591243</td>\n",
       "      <td>13.63</td>\n",
       "      <td>2.14</td>\n",
       "      <td>1.75</td>\n",
       "      <td>18627.0</td>\n",
       "      <td>2166.0</td>\n",
       "      <td>1260.0</td>\n",
       "      <td>6.4</td>\n",
       "      <td>8.6</td>\n",
       "      <td>0.79</td>\n",
       "    </tr>\n",
       "    <tr>\n",
       "      <th>4</th>\n",
       "      <td>90430</td>\n",
       "      <td>아모레퍼시픽</td>\n",
       "      <td>경기관련소비재</td>\n",
       "      <td>화학</td>\n",
       "      <td>KOSPI</td>\n",
       "      <td>3649948</td>\n",
       "      <td>132591243</td>\n",
       "      <td>42.55</td>\n",
       "      <td>1.74</td>\n",
       "      <td>0.82</td>\n",
       "      <td>9457.0</td>\n",
       "      <td>-195.0</td>\n",
       "      <td>-372.0</td>\n",
       "      <td>2.8</td>\n",
       "      <td>3.6</td>\n",
       "      <td>0.84</td>\n",
       "    </tr>\n",
       "    <tr>\n",
       "      <th>...</th>\n",
       "      <td>...</td>\n",
       "      <td>...</td>\n",
       "      <td>...</td>\n",
       "      <td>...</td>\n",
       "      <td>...</td>\n",
       "      <td>...</td>\n",
       "      <td>...</td>\n",
       "      <td>...</td>\n",
       "      <td>...</td>\n",
       "      <td>...</td>\n",
       "      <td>...</td>\n",
       "      <td>...</td>\n",
       "      <td>...</td>\n",
       "      <td>...</td>\n",
       "      <td>...</td>\n",
       "      <td>...</td>\n",
       "    </tr>\n",
       "    <tr>\n",
       "      <th>2252</th>\n",
       "      <td>9140</td>\n",
       "      <td>경인전자</td>\n",
       "      <td>IT</td>\n",
       "      <td>전기전자</td>\n",
       "      <td>KOSPI</td>\n",
       "      <td>14652</td>\n",
       "      <td>485562680</td>\n",
       "      <td>9.37</td>\n",
       "      <td>0.58</td>\n",
       "      <td>0.94</td>\n",
       "      <td>47.0</td>\n",
       "      <td>-1.0</td>\n",
       "      <td>25.0</td>\n",
       "      <td>7.2</td>\n",
       "      <td>7.9</td>\n",
       "      <td>1.05</td>\n",
       "    </tr>\n",
       "    <tr>\n",
       "      <th>2253</th>\n",
       "      <td>17250</td>\n",
       "      <td>인터엠</td>\n",
       "      <td>IT</td>\n",
       "      <td>일반전기전자</td>\n",
       "      <td>KOSDAQ</td>\n",
       "      <td>14260</td>\n",
       "      <td>485562680</td>\n",
       "      <td>0.00</td>\n",
       "      <td>0.83</td>\n",
       "      <td>0.00</td>\n",
       "      <td>118.0</td>\n",
       "      <td>-1.0</td>\n",
       "      <td>-1.0</td>\n",
       "      <td>-5.8</td>\n",
       "      <td>-17.0</td>\n",
       "      <td>0.53</td>\n",
       "    </tr>\n",
       "    <tr>\n",
       "      <th>2254</th>\n",
       "      <td>67770</td>\n",
       "      <td>세진티에스</td>\n",
       "      <td>IT</td>\n",
       "      <td>IT부품</td>\n",
       "      <td>KOSDAQ</td>\n",
       "      <td>13723</td>\n",
       "      <td>485562680</td>\n",
       "      <td>9.84</td>\n",
       "      <td>0.62</td>\n",
       "      <td>0.00</td>\n",
       "      <td>27.0</td>\n",
       "      <td>-6.0</td>\n",
       "      <td>NaN</td>\n",
       "      <td>2.9</td>\n",
       "      <td>3.0</td>\n",
       "      <td>1.24</td>\n",
       "    </tr>\n",
       "    <tr>\n",
       "      <th>2255</th>\n",
       "      <td>32960</td>\n",
       "      <td>동일기연</td>\n",
       "      <td>IT</td>\n",
       "      <td>IT부품</td>\n",
       "      <td>KOSDAQ</td>\n",
       "      <td>11405</td>\n",
       "      <td>485562680</td>\n",
       "      <td>5.43</td>\n",
       "      <td>0.70</td>\n",
       "      <td>0.32</td>\n",
       "      <td>76.0</td>\n",
       "      <td>2.0</td>\n",
       "      <td>5.0</td>\n",
       "      <td>6.3</td>\n",
       "      <td>6.8</td>\n",
       "      <td>1.12</td>\n",
       "    </tr>\n",
       "    <tr>\n",
       "      <th>2256</th>\n",
       "      <td>321260</td>\n",
       "      <td>프로이천</td>\n",
       "      <td>IT</td>\n",
       "      <td>일반전기전자</td>\n",
       "      <td>KOSDAQ</td>\n",
       "      <td>11291</td>\n",
       "      <td>485562680</td>\n",
       "      <td>0.00</td>\n",
       "      <td>2.66</td>\n",
       "      <td>0.75</td>\n",
       "      <td>132.0</td>\n",
       "      <td>20.0</td>\n",
       "      <td>26.0</td>\n",
       "      <td>21.5</td>\n",
       "      <td>25.4</td>\n",
       "      <td>0.61</td>\n",
       "    </tr>\n",
       "  </tbody>\n",
       "</table>\n",
       "<p>2257 rows × 16 columns</p>\n",
       "</div>"
      ],
      "text/plain": [
       "        종목코드     종목명 SEC_NM_KOR     업종명    시장구분   MKT_VAL  ALL_MKT_VAL    PER  \\\n",
       "0       5380     현대차    경기관련소비재    운수장비   KOSPI  27569606    132591243  10.30   \n",
       "1        270      기아    경기관련소비재    운수장비   KOSPI  20156287    132591243   6.75   \n",
       "2      12330   현대모비스    경기관련소비재    운수장비   KOSPI  13433162    132591243   8.27   \n",
       "3      51900  LG생활건강    경기관련소비재      화학   KOSPI   6437821    132591243  13.63   \n",
       "4      90430  아모레퍼시픽    경기관련소비재      화학   KOSPI   3649948    132591243  42.55   \n",
       "...      ...     ...        ...     ...     ...       ...          ...    ...   \n",
       "2252    9140    경인전자         IT    전기전자   KOSPI     14652    485562680   9.37   \n",
       "2253   17250     인터엠         IT  일반전기전자  KOSDAQ     14260    485562680   0.00   \n",
       "2254   67770   세진티에스         IT    IT부품  KOSDAQ     13723    485562680   9.84   \n",
       "2255   32960    동일기연         IT    IT부품  KOSDAQ     11405    485562680   5.43   \n",
       "2256  321260    프로이천         IT  일반전기전자  KOSDAQ     11291    485562680   0.00   \n",
       "\n",
       "       PBR   DIV       매출액     영업이익    당기순이익   ROA   ROE    베타  \n",
       "0     0.68  2.56  359999.0  29798.0  30848.0   4.0  11.3  1.40  \n",
       "1     0.92  3.74  218760.0  22341.0  18810.0   8.4  16.0  1.44  \n",
       "2     0.55  1.89  123081.0   4033.0   7697.0   4.9   7.1  1.49  \n",
       "3     2.14  1.75   18627.0   2166.0   1260.0   6.4   8.6  0.79  \n",
       "4     1.74  0.82    9457.0   -195.0   -372.0   2.8   3.6  0.84  \n",
       "...    ...   ...       ...      ...      ...   ...   ...   ...  \n",
       "2252  0.58  0.94      47.0     -1.0     25.0   7.2   7.9  1.05  \n",
       "2253  0.83  0.00     118.0     -1.0     -1.0  -5.8 -17.0  0.53  \n",
       "2254  0.62  0.00      27.0     -6.0      NaN   2.9   3.0  1.24  \n",
       "2255  0.70  0.32      76.0      2.0      5.0   6.3   6.8  1.12  \n",
       "2256  2.66  0.75     132.0     20.0     26.0  21.5  25.4  0.61  \n",
       "\n",
       "[2257 rows x 16 columns]"
      ]
     },
     "execution_count": 23,
     "metadata": {},
     "output_type": "execute_result"
    }
   ],
   "source": [
    "df"
   ]
  },
  {
   "cell_type": "code",
   "execution_count": 24,
   "metadata": {},
   "outputs": [],
   "source": [
    "df.종목코드 = df.종목코드.astype(str).str.zfill(6).tolist()"
   ]
  },
  {
   "cell_type": "code",
   "execution_count": 25,
   "metadata": {},
   "outputs": [],
   "source": [
    "for k in resnet_dic:\n",
    "    df.loc[df.종목코드==k,'resnet'] = resnet_dic[k]"
   ]
  },
  {
   "cell_type": "code",
   "execution_count": 28,
   "metadata": {},
   "outputs": [
    {
     "data": {
      "text/html": [
       "<div>\n",
       "<style scoped>\n",
       "    .dataframe tbody tr th:only-of-type {\n",
       "        vertical-align: middle;\n",
       "    }\n",
       "\n",
       "    .dataframe tbody tr th {\n",
       "        vertical-align: top;\n",
       "    }\n",
       "\n",
       "    .dataframe thead th {\n",
       "        text-align: right;\n",
       "    }\n",
       "</style>\n",
       "<table border=\"1\" class=\"dataframe\">\n",
       "  <thead>\n",
       "    <tr style=\"text-align: right;\">\n",
       "      <th></th>\n",
       "      <th>종목코드</th>\n",
       "      <th>종목명</th>\n",
       "      <th>SEC_NM_KOR</th>\n",
       "      <th>업종명</th>\n",
       "      <th>시장구분</th>\n",
       "      <th>MKT_VAL</th>\n",
       "      <th>ALL_MKT_VAL</th>\n",
       "      <th>PER</th>\n",
       "      <th>PBR</th>\n",
       "      <th>DIV</th>\n",
       "      <th>매출액</th>\n",
       "      <th>영업이익</th>\n",
       "      <th>당기순이익</th>\n",
       "      <th>ROA</th>\n",
       "      <th>ROE</th>\n",
       "      <th>베타</th>\n",
       "      <th>resnet</th>\n",
       "    </tr>\n",
       "  </thead>\n",
       "  <tbody>\n",
       "    <tr>\n",
       "      <th>0</th>\n",
       "      <td>005380</td>\n",
       "      <td>현대차</td>\n",
       "      <td>경기관련소비재</td>\n",
       "      <td>운수장비</td>\n",
       "      <td>KOSPI</td>\n",
       "      <td>27569606</td>\n",
       "      <td>132591243</td>\n",
       "      <td>10.30</td>\n",
       "      <td>0.68</td>\n",
       "      <td>2.56</td>\n",
       "      <td>359999.0</td>\n",
       "      <td>29798.0</td>\n",
       "      <td>30848.0</td>\n",
       "      <td>4.0</td>\n",
       "      <td>11.3</td>\n",
       "      <td>1.40</td>\n",
       "      <td>0.0</td>\n",
       "    </tr>\n",
       "    <tr>\n",
       "      <th>1</th>\n",
       "      <td>000270</td>\n",
       "      <td>기아</td>\n",
       "      <td>경기관련소비재</td>\n",
       "      <td>운수장비</td>\n",
       "      <td>KOSPI</td>\n",
       "      <td>20156287</td>\n",
       "      <td>132591243</td>\n",
       "      <td>6.75</td>\n",
       "      <td>0.92</td>\n",
       "      <td>3.74</td>\n",
       "      <td>218760.0</td>\n",
       "      <td>22341.0</td>\n",
       "      <td>18810.0</td>\n",
       "      <td>8.4</td>\n",
       "      <td>16.0</td>\n",
       "      <td>1.44</td>\n",
       "      <td>0.0</td>\n",
       "    </tr>\n",
       "    <tr>\n",
       "      <th>2</th>\n",
       "      <td>012330</td>\n",
       "      <td>현대모비스</td>\n",
       "      <td>경기관련소비재</td>\n",
       "      <td>운수장비</td>\n",
       "      <td>KOSPI</td>\n",
       "      <td>13433162</td>\n",
       "      <td>132591243</td>\n",
       "      <td>8.27</td>\n",
       "      <td>0.55</td>\n",
       "      <td>1.89</td>\n",
       "      <td>123081.0</td>\n",
       "      <td>4033.0</td>\n",
       "      <td>7697.0</td>\n",
       "      <td>4.9</td>\n",
       "      <td>7.1</td>\n",
       "      <td>1.49</td>\n",
       "      <td>0.0</td>\n",
       "    </tr>\n",
       "    <tr>\n",
       "      <th>3</th>\n",
       "      <td>051900</td>\n",
       "      <td>LG생활건강</td>\n",
       "      <td>경기관련소비재</td>\n",
       "      <td>화학</td>\n",
       "      <td>KOSPI</td>\n",
       "      <td>6437821</td>\n",
       "      <td>132591243</td>\n",
       "      <td>13.63</td>\n",
       "      <td>2.14</td>\n",
       "      <td>1.75</td>\n",
       "      <td>18627.0</td>\n",
       "      <td>2166.0</td>\n",
       "      <td>1260.0</td>\n",
       "      <td>6.4</td>\n",
       "      <td>8.6</td>\n",
       "      <td>0.79</td>\n",
       "      <td>0.0</td>\n",
       "    </tr>\n",
       "    <tr>\n",
       "      <th>4</th>\n",
       "      <td>090430</td>\n",
       "      <td>아모레퍼시픽</td>\n",
       "      <td>경기관련소비재</td>\n",
       "      <td>화학</td>\n",
       "      <td>KOSPI</td>\n",
       "      <td>3649948</td>\n",
       "      <td>132591243</td>\n",
       "      <td>42.55</td>\n",
       "      <td>1.74</td>\n",
       "      <td>0.82</td>\n",
       "      <td>9457.0</td>\n",
       "      <td>-195.0</td>\n",
       "      <td>-372.0</td>\n",
       "      <td>2.8</td>\n",
       "      <td>3.6</td>\n",
       "      <td>0.84</td>\n",
       "      <td>0.0</td>\n",
       "    </tr>\n",
       "    <tr>\n",
       "      <th>...</th>\n",
       "      <td>...</td>\n",
       "      <td>...</td>\n",
       "      <td>...</td>\n",
       "      <td>...</td>\n",
       "      <td>...</td>\n",
       "      <td>...</td>\n",
       "      <td>...</td>\n",
       "      <td>...</td>\n",
       "      <td>...</td>\n",
       "      <td>...</td>\n",
       "      <td>...</td>\n",
       "      <td>...</td>\n",
       "      <td>...</td>\n",
       "      <td>...</td>\n",
       "      <td>...</td>\n",
       "      <td>...</td>\n",
       "      <td>...</td>\n",
       "    </tr>\n",
       "    <tr>\n",
       "      <th>2251</th>\n",
       "      <td>033200</td>\n",
       "      <td>모아텍</td>\n",
       "      <td>IT</td>\n",
       "      <td>IT부품</td>\n",
       "      <td>KOSDAQ</td>\n",
       "      <td>14718</td>\n",
       "      <td>485562680</td>\n",
       "      <td>0.00</td>\n",
       "      <td>1.57</td>\n",
       "      <td>0.00</td>\n",
       "      <td>81.0</td>\n",
       "      <td>-6.0</td>\n",
       "      <td>-4.0</td>\n",
       "      <td>-2.1</td>\n",
       "      <td>-2.4</td>\n",
       "      <td>1.67</td>\n",
       "      <td>0.0</td>\n",
       "    </tr>\n",
       "    <tr>\n",
       "      <th>2252</th>\n",
       "      <td>009140</td>\n",
       "      <td>경인전자</td>\n",
       "      <td>IT</td>\n",
       "      <td>전기전자</td>\n",
       "      <td>KOSPI</td>\n",
       "      <td>14652</td>\n",
       "      <td>485562680</td>\n",
       "      <td>9.37</td>\n",
       "      <td>0.58</td>\n",
       "      <td>0.94</td>\n",
       "      <td>47.0</td>\n",
       "      <td>-1.0</td>\n",
       "      <td>25.0</td>\n",
       "      <td>7.2</td>\n",
       "      <td>7.9</td>\n",
       "      <td>1.05</td>\n",
       "      <td>0.0</td>\n",
       "    </tr>\n",
       "    <tr>\n",
       "      <th>2253</th>\n",
       "      <td>017250</td>\n",
       "      <td>인터엠</td>\n",
       "      <td>IT</td>\n",
       "      <td>일반전기전자</td>\n",
       "      <td>KOSDAQ</td>\n",
       "      <td>14260</td>\n",
       "      <td>485562680</td>\n",
       "      <td>0.00</td>\n",
       "      <td>0.83</td>\n",
       "      <td>0.00</td>\n",
       "      <td>118.0</td>\n",
       "      <td>-1.0</td>\n",
       "      <td>-1.0</td>\n",
       "      <td>-5.8</td>\n",
       "      <td>-17.0</td>\n",
       "      <td>0.53</td>\n",
       "      <td>2.0</td>\n",
       "    </tr>\n",
       "    <tr>\n",
       "      <th>2255</th>\n",
       "      <td>032960</td>\n",
       "      <td>동일기연</td>\n",
       "      <td>IT</td>\n",
       "      <td>IT부품</td>\n",
       "      <td>KOSDAQ</td>\n",
       "      <td>11405</td>\n",
       "      <td>485562680</td>\n",
       "      <td>5.43</td>\n",
       "      <td>0.70</td>\n",
       "      <td>0.32</td>\n",
       "      <td>76.0</td>\n",
       "      <td>2.0</td>\n",
       "      <td>5.0</td>\n",
       "      <td>6.3</td>\n",
       "      <td>6.8</td>\n",
       "      <td>1.12</td>\n",
       "      <td>0.0</td>\n",
       "    </tr>\n",
       "    <tr>\n",
       "      <th>2256</th>\n",
       "      <td>321260</td>\n",
       "      <td>프로이천</td>\n",
       "      <td>IT</td>\n",
       "      <td>일반전기전자</td>\n",
       "      <td>KOSDAQ</td>\n",
       "      <td>11291</td>\n",
       "      <td>485562680</td>\n",
       "      <td>0.00</td>\n",
       "      <td>2.66</td>\n",
       "      <td>0.75</td>\n",
       "      <td>132.0</td>\n",
       "      <td>20.0</td>\n",
       "      <td>26.0</td>\n",
       "      <td>21.5</td>\n",
       "      <td>25.4</td>\n",
       "      <td>0.61</td>\n",
       "      <td>0.0</td>\n",
       "    </tr>\n",
       "  </tbody>\n",
       "</table>\n",
       "<p>2136 rows × 17 columns</p>\n",
       "</div>"
      ],
      "text/plain": [
       "        종목코드     종목명 SEC_NM_KOR     업종명    시장구분   MKT_VAL  ALL_MKT_VAL    PER  \\\n",
       "0     005380     현대차    경기관련소비재    운수장비   KOSPI  27569606    132591243  10.30   \n",
       "1     000270      기아    경기관련소비재    운수장비   KOSPI  20156287    132591243   6.75   \n",
       "2     012330   현대모비스    경기관련소비재    운수장비   KOSPI  13433162    132591243   8.27   \n",
       "3     051900  LG생활건강    경기관련소비재      화학   KOSPI   6437821    132591243  13.63   \n",
       "4     090430  아모레퍼시픽    경기관련소비재      화학   KOSPI   3649948    132591243  42.55   \n",
       "...      ...     ...        ...     ...     ...       ...          ...    ...   \n",
       "2251  033200     모아텍         IT    IT부품  KOSDAQ     14718    485562680   0.00   \n",
       "2252  009140    경인전자         IT    전기전자   KOSPI     14652    485562680   9.37   \n",
       "2253  017250     인터엠         IT  일반전기전자  KOSDAQ     14260    485562680   0.00   \n",
       "2255  032960    동일기연         IT    IT부품  KOSDAQ     11405    485562680   5.43   \n",
       "2256  321260    프로이천         IT  일반전기전자  KOSDAQ     11291    485562680   0.00   \n",
       "\n",
       "       PBR   DIV       매출액     영업이익    당기순이익   ROA   ROE    베타  resnet  \n",
       "0     0.68  2.56  359999.0  29798.0  30848.0   4.0  11.3  1.40     0.0  \n",
       "1     0.92  3.74  218760.0  22341.0  18810.0   8.4  16.0  1.44     0.0  \n",
       "2     0.55  1.89  123081.0   4033.0   7697.0   4.9   7.1  1.49     0.0  \n",
       "3     2.14  1.75   18627.0   2166.0   1260.0   6.4   8.6  0.79     0.0  \n",
       "4     1.74  0.82    9457.0   -195.0   -372.0   2.8   3.6  0.84     0.0  \n",
       "...    ...   ...       ...      ...      ...   ...   ...   ...     ...  \n",
       "2251  1.57  0.00      81.0     -6.0     -4.0  -2.1  -2.4  1.67     0.0  \n",
       "2252  0.58  0.94      47.0     -1.0     25.0   7.2   7.9  1.05     0.0  \n",
       "2253  0.83  0.00     118.0     -1.0     -1.0  -5.8 -17.0  0.53     2.0  \n",
       "2255  0.70  0.32      76.0      2.0      5.0   6.3   6.8  1.12     0.0  \n",
       "2256  2.66  0.75     132.0     20.0     26.0  21.5  25.4  0.61     0.0  \n",
       "\n",
       "[2136 rows x 17 columns]"
      ]
     },
     "execution_count": 28,
     "metadata": {},
     "output_type": "execute_result"
    }
   ],
   "source": [
    "df"
   ]
  },
  {
   "cell_type": "code",
   "execution_count": 26,
   "metadata": {},
   "outputs": [],
   "source": [
    "df.dropna(inplace=True)"
   ]
  },
  {
   "cell_type": "code",
   "execution_count": 27,
   "metadata": {
    "pycharm": {
     "name": "#%%ㄹ\n"
    }
   },
   "outputs": [],
   "source": [
    "df.to_csv('./data/stock_kr.csv', index=False)"
   ]
  },
  {
   "cell_type": "code",
   "execution_count": null,
   "metadata": {},
   "outputs": [],
   "source": []
  }
 ],
 "metadata": {
  "kernelspec": {
   "display_name": "Python 3 (ipykernel)",
   "language": "python",
   "name": "python3"
  },
  "language_info": {
   "codemirror_mode": {
    "name": "ipython",
    "version": 3
   },
   "file_extension": ".py",
   "mimetype": "text/x-python",
   "name": "python",
   "nbconvert_exporter": "python",
   "pygments_lexer": "ipython3",
   "version": "3.9.12"
  },
  "vscode": {
   "interpreter": {
    "hash": "e9f793ca1096d757d51ae9db638433a66c8db3b0adbab19fbc566e7e05255b50"
   }
  }
 },
 "nbformat": 4,
 "nbformat_minor": 2
}
