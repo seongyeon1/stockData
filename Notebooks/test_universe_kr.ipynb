{
 "cells": [
  {
   "cell_type": "code",
   "execution_count": 1,
   "metadata": {},
   "outputs": [],
   "source": [
    "import os\n",
    "os.chdir('/Users/seongyeon-kim/Desktop/Dinger')"
   ]
  },
  {
   "cell_type": "markdown",
   "metadata": {},
   "source": [
    "### 프로젝트 root로 설정"
   ]
  },
  {
   "cell_type": "code",
   "execution_count": 2,
   "metadata": {
    "scrolled": true
   },
   "outputs": [
    {
     "name": "stdout",
     "output_type": "stream",
     "text": [
      "현재 디렉토리  /Users/seongyeon-kim/Desktop/Dinger\n"
     ]
    }
   ],
   "source": [
    "import warnings\n",
    "warnings.filterwarnings('ignore')\n",
    "\n",
    "print(\"현재 디렉토리 \" , os.getcwd())\n",
    "\n",
    "from tqdm import tqdm\n",
    "import pandas as pd \n",
    "\n",
    "from Dinger import universe_module as um"
   ]
  },
  {
   "cell_type": "code",
   "execution_count": 3,
   "metadata": {},
   "outputs": [],
   "source": [
    "import numpy as np"
   ]
  },
  {
   "cell_type": "code",
   "execution_count": 4,
   "metadata": {},
   "outputs": [],
   "source": [
    "df = pd.read_csv('./data/stock_kr.csv')"
   ]
  },
  {
   "cell_type": "code",
   "execution_count": 5,
   "metadata": {
    "scrolled": true
   },
   "outputs": [],
   "source": [
    "data = um.Universe(df)"
   ]
  },
  {
   "cell_type": "code",
   "execution_count": 6,
   "metadata": {},
   "outputs": [
    {
     "data": {
      "text/plain": "                 MKT_VAL        PER       PBR       DIV           매출액  \\\nSEC_NM_KOR                                                              \nIT          8.196197e+05  30.084113  2.200751  0.759078   2980.761092   \n건강관리        3.921800e+05  30.626036  3.638857  0.574250    541.921429   \n경기관련소비재     3.830134e+05  20.309020  1.504669  1.405303   4306.014409   \n금융          1.159158e+06   7.660602  0.779157  4.074819  25541.650602   \n산업재         4.006711e+05  42.695172  1.722816  1.462960   5527.793103   \n소재          4.696364e+05  16.347611  1.454159  1.660752   4535.805310   \n에너지         6.541701e+05  25.351111  1.951389  1.476667  16907.611111   \n유틸리티        6.699746e+05  34.691765  1.293529  2.681765  18977.235294   \n커뮤니케이션서비스   9.567631e+05  28.023451  2.286018  0.765221   2466.513274   \n필수소비재       2.801420e+05  13.579600  1.369200  1.628000   3866.590000   \n\n                   영업이익        당기순이익       ROA        ROE        베타    resnet  \nSEC_NM_KOR                                                                     \nIT           401.568259   305.955631  2.833447   4.060580  1.012266  0.822526  \n건강관리          51.896429    46.525000 -1.225000  -3.615000  0.953178  0.764286  \n경기관련소비재      272.740634   259.164265  1.614986   1.916138  0.875079  0.757925  \n금융          1591.060241  1250.602410  1.768675   9.175904  0.762331  0.686747  \n산업재          425.729885   315.321839  3.076149   2.828448  0.895503  0.732759  \n소재           378.225664   306.292035  6.452212  10.680973  0.865302  0.654867  \n에너지         1985.805556  1290.972222  1.536111   2.755556  0.777487  0.750000  \n유틸리티       -3598.529412 -2754.823529  3.247059   5.852941  0.392353  0.823529  \n커뮤니케이션서비스    232.646018   135.681416  0.521239  -0.819469  0.932069  0.743363  \n필수소비재        260.450000   183.340000  2.525000   4.079000  0.731100  0.580000  ",
      "text/html": "<div>\n<style scoped>\n    .dataframe tbody tr th:only-of-type {\n        vertical-align: middle;\n    }\n\n    .dataframe tbody tr th {\n        vertical-align: top;\n    }\n\n    .dataframe thead th {\n        text-align: right;\n    }\n</style>\n<table border=\"1\" class=\"dataframe\">\n  <thead>\n    <tr style=\"text-align: right;\">\n      <th></th>\n      <th>MKT_VAL</th>\n      <th>PER</th>\n      <th>PBR</th>\n      <th>DIV</th>\n      <th>매출액</th>\n      <th>영업이익</th>\n      <th>당기순이익</th>\n      <th>ROA</th>\n      <th>ROE</th>\n      <th>베타</th>\n      <th>resnet</th>\n    </tr>\n    <tr>\n      <th>SEC_NM_KOR</th>\n      <th></th>\n      <th></th>\n      <th></th>\n      <th></th>\n      <th></th>\n      <th></th>\n      <th></th>\n      <th></th>\n      <th></th>\n      <th></th>\n      <th></th>\n    </tr>\n  </thead>\n  <tbody>\n    <tr>\n      <th>IT</th>\n      <td>8.196197e+05</td>\n      <td>30.084113</td>\n      <td>2.200751</td>\n      <td>0.759078</td>\n      <td>2980.761092</td>\n      <td>401.568259</td>\n      <td>305.955631</td>\n      <td>2.833447</td>\n      <td>4.060580</td>\n      <td>1.012266</td>\n      <td>0.822526</td>\n    </tr>\n    <tr>\n      <th>건강관리</th>\n      <td>3.921800e+05</td>\n      <td>30.626036</td>\n      <td>3.638857</td>\n      <td>0.574250</td>\n      <td>541.921429</td>\n      <td>51.896429</td>\n      <td>46.525000</td>\n      <td>-1.225000</td>\n      <td>-3.615000</td>\n      <td>0.953178</td>\n      <td>0.764286</td>\n    </tr>\n    <tr>\n      <th>경기관련소비재</th>\n      <td>3.830134e+05</td>\n      <td>20.309020</td>\n      <td>1.504669</td>\n      <td>1.405303</td>\n      <td>4306.014409</td>\n      <td>272.740634</td>\n      <td>259.164265</td>\n      <td>1.614986</td>\n      <td>1.916138</td>\n      <td>0.875079</td>\n      <td>0.757925</td>\n    </tr>\n    <tr>\n      <th>금융</th>\n      <td>1.159158e+06</td>\n      <td>7.660602</td>\n      <td>0.779157</td>\n      <td>4.074819</td>\n      <td>25541.650602</td>\n      <td>1591.060241</td>\n      <td>1250.602410</td>\n      <td>1.768675</td>\n      <td>9.175904</td>\n      <td>0.762331</td>\n      <td>0.686747</td>\n    </tr>\n    <tr>\n      <th>산업재</th>\n      <td>4.006711e+05</td>\n      <td>42.695172</td>\n      <td>1.722816</td>\n      <td>1.462960</td>\n      <td>5527.793103</td>\n      <td>425.729885</td>\n      <td>315.321839</td>\n      <td>3.076149</td>\n      <td>2.828448</td>\n      <td>0.895503</td>\n      <td>0.732759</td>\n    </tr>\n    <tr>\n      <th>소재</th>\n      <td>4.696364e+05</td>\n      <td>16.347611</td>\n      <td>1.454159</td>\n      <td>1.660752</td>\n      <td>4535.805310</td>\n      <td>378.225664</td>\n      <td>306.292035</td>\n      <td>6.452212</td>\n      <td>10.680973</td>\n      <td>0.865302</td>\n      <td>0.654867</td>\n    </tr>\n    <tr>\n      <th>에너지</th>\n      <td>6.541701e+05</td>\n      <td>25.351111</td>\n      <td>1.951389</td>\n      <td>1.476667</td>\n      <td>16907.611111</td>\n      <td>1985.805556</td>\n      <td>1290.972222</td>\n      <td>1.536111</td>\n      <td>2.755556</td>\n      <td>0.777487</td>\n      <td>0.750000</td>\n    </tr>\n    <tr>\n      <th>유틸리티</th>\n      <td>6.699746e+05</td>\n      <td>34.691765</td>\n      <td>1.293529</td>\n      <td>2.681765</td>\n      <td>18977.235294</td>\n      <td>-3598.529412</td>\n      <td>-2754.823529</td>\n      <td>3.247059</td>\n      <td>5.852941</td>\n      <td>0.392353</td>\n      <td>0.823529</td>\n    </tr>\n    <tr>\n      <th>커뮤니케이션서비스</th>\n      <td>9.567631e+05</td>\n      <td>28.023451</td>\n      <td>2.286018</td>\n      <td>0.765221</td>\n      <td>2466.513274</td>\n      <td>232.646018</td>\n      <td>135.681416</td>\n      <td>0.521239</td>\n      <td>-0.819469</td>\n      <td>0.932069</td>\n      <td>0.743363</td>\n    </tr>\n    <tr>\n      <th>필수소비재</th>\n      <td>2.801420e+05</td>\n      <td>13.579600</td>\n      <td>1.369200</td>\n      <td>1.628000</td>\n      <td>3866.590000</td>\n      <td>260.450000</td>\n      <td>183.340000</td>\n      <td>2.525000</td>\n      <td>4.079000</td>\n      <td>0.731100</td>\n      <td>0.580000</td>\n    </tr>\n  </tbody>\n</table>\n</div>"
     },
     "execution_count": 6,
     "metadata": {},
     "output_type": "execute_result"
    }
   ],
   "source": [
    "data.get_standard_df()"
   ]
  },
  {
   "cell_type": "code",
   "execution_count": 7,
   "outputs": [
    {
     "data": {
      "text/plain": "             MKT_VAL     PER    PBR    DIV     매출액   영업이익  당기순이익   ROA    ROE  \\\nSEC_NM_KOR                                                                      \nIT           71525.0   9.550  1.450  0.000   243.5   12.0   14.5  4.15   6.95   \n건강관리        106190.5   5.540  2.065  0.000   168.0    7.0    9.5  2.20   3.15   \n경기관련소비재      62422.0   7.070  0.990  0.810   512.0   22.0   19.0  2.60   4.80   \n금융          160148.0   3.990  0.510  4.150  3503.0  228.0  185.0  1.10   9.50   \n산업재          83095.5   7.820  1.055  0.705   705.5   31.0   27.0  3.15   6.20   \n소재           72466.0   9.155  0.890  1.205   796.0   44.0   40.0  6.00  10.00   \n에너지         104895.5   4.880  1.430  0.000   714.5    7.5    9.0  0.70   1.30   \n유틸리티        175067.0  17.970  0.530  2.530  2446.0   56.0   51.0  4.00   8.90   \n커뮤니케이션서비스   118840.0   8.230  1.770  0.000   282.0   12.0   11.0  2.20   3.70   \n필수소비재        68470.5   9.185  0.905  1.250   796.5   43.5   28.5  3.55   5.95   \n\n               베타  resnet  \nSEC_NM_KOR                 \nIT          1.030     0.0  \n건강관리        0.955     0.0  \n경기관련소비재     0.870     0.0  \n금융          0.740     0.0  \n산업재         0.895     0.0  \n소재          0.870     0.0  \n에너지         0.805     0.0  \n유틸리티        0.370     0.0  \n커뮤니케이션서비스   0.910     0.0  \n필수소비재       0.725     0.0  ",
      "text/html": "<div>\n<style scoped>\n    .dataframe tbody tr th:only-of-type {\n        vertical-align: middle;\n    }\n\n    .dataframe tbody tr th {\n        vertical-align: top;\n    }\n\n    .dataframe thead th {\n        text-align: right;\n    }\n</style>\n<table border=\"1\" class=\"dataframe\">\n  <thead>\n    <tr style=\"text-align: right;\">\n      <th></th>\n      <th>MKT_VAL</th>\n      <th>PER</th>\n      <th>PBR</th>\n      <th>DIV</th>\n      <th>매출액</th>\n      <th>영업이익</th>\n      <th>당기순이익</th>\n      <th>ROA</th>\n      <th>ROE</th>\n      <th>베타</th>\n      <th>resnet</th>\n    </tr>\n    <tr>\n      <th>SEC_NM_KOR</th>\n      <th></th>\n      <th></th>\n      <th></th>\n      <th></th>\n      <th></th>\n      <th></th>\n      <th></th>\n      <th></th>\n      <th></th>\n      <th></th>\n      <th></th>\n    </tr>\n  </thead>\n  <tbody>\n    <tr>\n      <th>IT</th>\n      <td>71525.0</td>\n      <td>9.550</td>\n      <td>1.450</td>\n      <td>0.000</td>\n      <td>243.5</td>\n      <td>12.0</td>\n      <td>14.5</td>\n      <td>4.15</td>\n      <td>6.95</td>\n      <td>1.030</td>\n      <td>0.0</td>\n    </tr>\n    <tr>\n      <th>건강관리</th>\n      <td>106190.5</td>\n      <td>5.540</td>\n      <td>2.065</td>\n      <td>0.000</td>\n      <td>168.0</td>\n      <td>7.0</td>\n      <td>9.5</td>\n      <td>2.20</td>\n      <td>3.15</td>\n      <td>0.955</td>\n      <td>0.0</td>\n    </tr>\n    <tr>\n      <th>경기관련소비재</th>\n      <td>62422.0</td>\n      <td>7.070</td>\n      <td>0.990</td>\n      <td>0.810</td>\n      <td>512.0</td>\n      <td>22.0</td>\n      <td>19.0</td>\n      <td>2.60</td>\n      <td>4.80</td>\n      <td>0.870</td>\n      <td>0.0</td>\n    </tr>\n    <tr>\n      <th>금융</th>\n      <td>160148.0</td>\n      <td>3.990</td>\n      <td>0.510</td>\n      <td>4.150</td>\n      <td>3503.0</td>\n      <td>228.0</td>\n      <td>185.0</td>\n      <td>1.10</td>\n      <td>9.50</td>\n      <td>0.740</td>\n      <td>0.0</td>\n    </tr>\n    <tr>\n      <th>산업재</th>\n      <td>83095.5</td>\n      <td>7.820</td>\n      <td>1.055</td>\n      <td>0.705</td>\n      <td>705.5</td>\n      <td>31.0</td>\n      <td>27.0</td>\n      <td>3.15</td>\n      <td>6.20</td>\n      <td>0.895</td>\n      <td>0.0</td>\n    </tr>\n    <tr>\n      <th>소재</th>\n      <td>72466.0</td>\n      <td>9.155</td>\n      <td>0.890</td>\n      <td>1.205</td>\n      <td>796.0</td>\n      <td>44.0</td>\n      <td>40.0</td>\n      <td>6.00</td>\n      <td>10.00</td>\n      <td>0.870</td>\n      <td>0.0</td>\n    </tr>\n    <tr>\n      <th>에너지</th>\n      <td>104895.5</td>\n      <td>4.880</td>\n      <td>1.430</td>\n      <td>0.000</td>\n      <td>714.5</td>\n      <td>7.5</td>\n      <td>9.0</td>\n      <td>0.70</td>\n      <td>1.30</td>\n      <td>0.805</td>\n      <td>0.0</td>\n    </tr>\n    <tr>\n      <th>유틸리티</th>\n      <td>175067.0</td>\n      <td>17.970</td>\n      <td>0.530</td>\n      <td>2.530</td>\n      <td>2446.0</td>\n      <td>56.0</td>\n      <td>51.0</td>\n      <td>4.00</td>\n      <td>8.90</td>\n      <td>0.370</td>\n      <td>0.0</td>\n    </tr>\n    <tr>\n      <th>커뮤니케이션서비스</th>\n      <td>118840.0</td>\n      <td>8.230</td>\n      <td>1.770</td>\n      <td>0.000</td>\n      <td>282.0</td>\n      <td>12.0</td>\n      <td>11.0</td>\n      <td>2.20</td>\n      <td>3.70</td>\n      <td>0.910</td>\n      <td>0.0</td>\n    </tr>\n    <tr>\n      <th>필수소비재</th>\n      <td>68470.5</td>\n      <td>9.185</td>\n      <td>0.905</td>\n      <td>1.250</td>\n      <td>796.5</td>\n      <td>43.5</td>\n      <td>28.5</td>\n      <td>3.55</td>\n      <td>5.95</td>\n      <td>0.725</td>\n      <td>0.0</td>\n    </tr>\n  </tbody>\n</table>\n</div>"
     },
     "execution_count": 7,
     "metadata": {},
     "output_type": "execute_result"
    }
   ],
   "source": [
    "data.get_standard_df('quant')"
   ],
   "metadata": {
    "collapsed": false
   }
  },
  {
   "cell_type": "code",
   "execution_count": 8,
   "outputs": [
    {
     "data": {
      "text/plain": "             MKT_VAL     PER    PBR    DIV     매출액   영업이익  당기순이익   ROA    ROE  \\\nSEC_NM_KOR                                                                      \nIT           71525.0   9.550  1.450  0.000   243.5   12.0   14.5  4.15   6.95   \n건강관리        106190.5   5.540  2.065  0.000   168.0    7.0    9.5  2.20   3.15   \n경기관련소비재      62422.0   7.070  0.990  0.810   512.0   22.0   19.0  2.60   4.80   \n금융          160148.0   3.990  0.510  4.150  3503.0  228.0  185.0  1.10   9.50   \n산업재          83095.5   7.820  1.055  0.705   705.5   31.0   27.0  3.15   6.20   \n소재           72466.0   9.155  0.890  1.205   796.0   44.0   40.0  6.00  10.00   \n에너지         104895.5   4.880  1.430  0.000   714.5    7.5    9.0  0.70   1.30   \n유틸리티        175067.0  17.970  0.530  2.530  2446.0   56.0   51.0  4.00   8.90   \n커뮤니케이션서비스   118840.0   8.230  1.770  0.000   282.0   12.0   11.0  2.20   3.70   \n필수소비재        68470.5   9.185  0.905  1.250   796.5   43.5   28.5  3.55   5.95   \n\n               베타  resnet  \nSEC_NM_KOR                 \nIT          1.030     0.0  \n건강관리        0.955     0.0  \n경기관련소비재     0.870     0.0  \n금융          0.740     0.0  \n산업재         0.895     0.0  \n소재          0.870     0.0  \n에너지         0.805     0.0  \n유틸리티        0.370     0.0  \n커뮤니케이션서비스   0.910     0.0  \n필수소비재       0.725     0.0  ",
      "text/html": "<div>\n<style scoped>\n    .dataframe tbody tr th:only-of-type {\n        vertical-align: middle;\n    }\n\n    .dataframe tbody tr th {\n        vertical-align: top;\n    }\n\n    .dataframe thead th {\n        text-align: right;\n    }\n</style>\n<table border=\"1\" class=\"dataframe\">\n  <thead>\n    <tr style=\"text-align: right;\">\n      <th></th>\n      <th>MKT_VAL</th>\n      <th>PER</th>\n      <th>PBR</th>\n      <th>DIV</th>\n      <th>매출액</th>\n      <th>영업이익</th>\n      <th>당기순이익</th>\n      <th>ROA</th>\n      <th>ROE</th>\n      <th>베타</th>\n      <th>resnet</th>\n    </tr>\n    <tr>\n      <th>SEC_NM_KOR</th>\n      <th></th>\n      <th></th>\n      <th></th>\n      <th></th>\n      <th></th>\n      <th></th>\n      <th></th>\n      <th></th>\n      <th></th>\n      <th></th>\n      <th></th>\n    </tr>\n  </thead>\n  <tbody>\n    <tr>\n      <th>IT</th>\n      <td>71525.0</td>\n      <td>9.550</td>\n      <td>1.450</td>\n      <td>0.000</td>\n      <td>243.5</td>\n      <td>12.0</td>\n      <td>14.5</td>\n      <td>4.15</td>\n      <td>6.95</td>\n      <td>1.030</td>\n      <td>0.0</td>\n    </tr>\n    <tr>\n      <th>건강관리</th>\n      <td>106190.5</td>\n      <td>5.540</td>\n      <td>2.065</td>\n      <td>0.000</td>\n      <td>168.0</td>\n      <td>7.0</td>\n      <td>9.5</td>\n      <td>2.20</td>\n      <td>3.15</td>\n      <td>0.955</td>\n      <td>0.0</td>\n    </tr>\n    <tr>\n      <th>경기관련소비재</th>\n      <td>62422.0</td>\n      <td>7.070</td>\n      <td>0.990</td>\n      <td>0.810</td>\n      <td>512.0</td>\n      <td>22.0</td>\n      <td>19.0</td>\n      <td>2.60</td>\n      <td>4.80</td>\n      <td>0.870</td>\n      <td>0.0</td>\n    </tr>\n    <tr>\n      <th>금융</th>\n      <td>160148.0</td>\n      <td>3.990</td>\n      <td>0.510</td>\n      <td>4.150</td>\n      <td>3503.0</td>\n      <td>228.0</td>\n      <td>185.0</td>\n      <td>1.10</td>\n      <td>9.50</td>\n      <td>0.740</td>\n      <td>0.0</td>\n    </tr>\n    <tr>\n      <th>산업재</th>\n      <td>83095.5</td>\n      <td>7.820</td>\n      <td>1.055</td>\n      <td>0.705</td>\n      <td>705.5</td>\n      <td>31.0</td>\n      <td>27.0</td>\n      <td>3.15</td>\n      <td>6.20</td>\n      <td>0.895</td>\n      <td>0.0</td>\n    </tr>\n    <tr>\n      <th>소재</th>\n      <td>72466.0</td>\n      <td>9.155</td>\n      <td>0.890</td>\n      <td>1.205</td>\n      <td>796.0</td>\n      <td>44.0</td>\n      <td>40.0</td>\n      <td>6.00</td>\n      <td>10.00</td>\n      <td>0.870</td>\n      <td>0.0</td>\n    </tr>\n    <tr>\n      <th>에너지</th>\n      <td>104895.5</td>\n      <td>4.880</td>\n      <td>1.430</td>\n      <td>0.000</td>\n      <td>714.5</td>\n      <td>7.5</td>\n      <td>9.0</td>\n      <td>0.70</td>\n      <td>1.30</td>\n      <td>0.805</td>\n      <td>0.0</td>\n    </tr>\n    <tr>\n      <th>유틸리티</th>\n      <td>175067.0</td>\n      <td>17.970</td>\n      <td>0.530</td>\n      <td>2.530</td>\n      <td>2446.0</td>\n      <td>56.0</td>\n      <td>51.0</td>\n      <td>4.00</td>\n      <td>8.90</td>\n      <td>0.370</td>\n      <td>0.0</td>\n    </tr>\n    <tr>\n      <th>커뮤니케이션서비스</th>\n      <td>118840.0</td>\n      <td>8.230</td>\n      <td>1.770</td>\n      <td>0.000</td>\n      <td>282.0</td>\n      <td>12.0</td>\n      <td>11.0</td>\n      <td>2.20</td>\n      <td>3.70</td>\n      <td>0.910</td>\n      <td>0.0</td>\n    </tr>\n    <tr>\n      <th>필수소비재</th>\n      <td>68470.5</td>\n      <td>9.185</td>\n      <td>0.905</td>\n      <td>1.250</td>\n      <td>796.5</td>\n      <td>43.5</td>\n      <td>28.5</td>\n      <td>3.55</td>\n      <td>5.95</td>\n      <td>0.725</td>\n      <td>0.0</td>\n    </tr>\n  </tbody>\n</table>\n</div>"
     },
     "execution_count": 8,
     "metadata": {},
     "output_type": "execute_result"
    }
   ],
   "source": [
    "data.get_standard_df('median')"
   ],
   "metadata": {
    "collapsed": false
   }
  },
  {
   "cell_type": "code",
   "execution_count": 9,
   "outputs": [
    {
     "data": {
      "text/plain": "            종목명 SEC_NM_KOR     업종명    시장구분  Score\n종목코드                                             \n247540   에코프로비엠         IT  일반전기전자  KOSDAQ   11.0\n352820      하이브  커뮤니케이션서비스    서비스업   KOSPI   10.0\n8930     한미사이언스       건강관리    기타금융   KOSPI   10.0\n185750      종근당       건강관리     의약품   KOSPI    9.0\n11070     LG이노텍         IT    전기전자   KOSPI    9.0\n51600     한전KPS       유틸리티     건설업   KOSPI    9.0\n28260      삼성물산        산업재     유통업   KOSPI    9.0\n78930        GS        에너지    기타금융   KOSPI    9.0\n1680         대상      필수소비재    음식료품   KOSPI    9.0\n195940    HK이노엔       건강관리      제약  KOSDAQ    9.0\n66570      LG전자         IT    전기전자   KOSPI    9.0\n11780      금호석유         소재      화학   KOSPI    9.0\n353200     대덕전자         IT    전기전자   KOSPI    9.0\n96770   SK이노베이션        에너지      화학   KOSPI    9.0\n271560      오리온      필수소비재    음식료품   KOSPI    9.0\n36570     엔씨소프트  커뮤니케이션서비스    서비스업   KOSPI    9.0\n96530        씨젠       건강관리      제약  KOSDAQ    9.0\n6400      삼성SDI         IT    전기전자   KOSPI    9.0\n68760    셀트리온제약       건강관리      제약  KOSDAQ    9.0\n80        하이트진로      필수소비재    음식료품   KOSPI    9.0",
      "text/html": "<div>\n<style scoped>\n    .dataframe tbody tr th:only-of-type {\n        vertical-align: middle;\n    }\n\n    .dataframe tbody tr th {\n        vertical-align: top;\n    }\n\n    .dataframe thead th {\n        text-align: right;\n    }\n</style>\n<table border=\"1\" class=\"dataframe\">\n  <thead>\n    <tr style=\"text-align: right;\">\n      <th></th>\n      <th>종목명</th>\n      <th>SEC_NM_KOR</th>\n      <th>업종명</th>\n      <th>시장구분</th>\n      <th>Score</th>\n    </tr>\n    <tr>\n      <th>종목코드</th>\n      <th></th>\n      <th></th>\n      <th></th>\n      <th></th>\n      <th></th>\n    </tr>\n  </thead>\n  <tbody>\n    <tr>\n      <th>247540</th>\n      <td>에코프로비엠</td>\n      <td>IT</td>\n      <td>일반전기전자</td>\n      <td>KOSDAQ</td>\n      <td>11.0</td>\n    </tr>\n    <tr>\n      <th>352820</th>\n      <td>하이브</td>\n      <td>커뮤니케이션서비스</td>\n      <td>서비스업</td>\n      <td>KOSPI</td>\n      <td>10.0</td>\n    </tr>\n    <tr>\n      <th>8930</th>\n      <td>한미사이언스</td>\n      <td>건강관리</td>\n      <td>기타금융</td>\n      <td>KOSPI</td>\n      <td>10.0</td>\n    </tr>\n    <tr>\n      <th>185750</th>\n      <td>종근당</td>\n      <td>건강관리</td>\n      <td>의약품</td>\n      <td>KOSPI</td>\n      <td>9.0</td>\n    </tr>\n    <tr>\n      <th>11070</th>\n      <td>LG이노텍</td>\n      <td>IT</td>\n      <td>전기전자</td>\n      <td>KOSPI</td>\n      <td>9.0</td>\n    </tr>\n    <tr>\n      <th>51600</th>\n      <td>한전KPS</td>\n      <td>유틸리티</td>\n      <td>건설업</td>\n      <td>KOSPI</td>\n      <td>9.0</td>\n    </tr>\n    <tr>\n      <th>28260</th>\n      <td>삼성물산</td>\n      <td>산업재</td>\n      <td>유통업</td>\n      <td>KOSPI</td>\n      <td>9.0</td>\n    </tr>\n    <tr>\n      <th>78930</th>\n      <td>GS</td>\n      <td>에너지</td>\n      <td>기타금융</td>\n      <td>KOSPI</td>\n      <td>9.0</td>\n    </tr>\n    <tr>\n      <th>1680</th>\n      <td>대상</td>\n      <td>필수소비재</td>\n      <td>음식료품</td>\n      <td>KOSPI</td>\n      <td>9.0</td>\n    </tr>\n    <tr>\n      <th>195940</th>\n      <td>HK이노엔</td>\n      <td>건강관리</td>\n      <td>제약</td>\n      <td>KOSDAQ</td>\n      <td>9.0</td>\n    </tr>\n    <tr>\n      <th>66570</th>\n      <td>LG전자</td>\n      <td>IT</td>\n      <td>전기전자</td>\n      <td>KOSPI</td>\n      <td>9.0</td>\n    </tr>\n    <tr>\n      <th>11780</th>\n      <td>금호석유</td>\n      <td>소재</td>\n      <td>화학</td>\n      <td>KOSPI</td>\n      <td>9.0</td>\n    </tr>\n    <tr>\n      <th>353200</th>\n      <td>대덕전자</td>\n      <td>IT</td>\n      <td>전기전자</td>\n      <td>KOSPI</td>\n      <td>9.0</td>\n    </tr>\n    <tr>\n      <th>96770</th>\n      <td>SK이노베이션</td>\n      <td>에너지</td>\n      <td>화학</td>\n      <td>KOSPI</td>\n      <td>9.0</td>\n    </tr>\n    <tr>\n      <th>271560</th>\n      <td>오리온</td>\n      <td>필수소비재</td>\n      <td>음식료품</td>\n      <td>KOSPI</td>\n      <td>9.0</td>\n    </tr>\n    <tr>\n      <th>36570</th>\n      <td>엔씨소프트</td>\n      <td>커뮤니케이션서비스</td>\n      <td>서비스업</td>\n      <td>KOSPI</td>\n      <td>9.0</td>\n    </tr>\n    <tr>\n      <th>96530</th>\n      <td>씨젠</td>\n      <td>건강관리</td>\n      <td>제약</td>\n      <td>KOSDAQ</td>\n      <td>9.0</td>\n    </tr>\n    <tr>\n      <th>6400</th>\n      <td>삼성SDI</td>\n      <td>IT</td>\n      <td>전기전자</td>\n      <td>KOSPI</td>\n      <td>9.0</td>\n    </tr>\n    <tr>\n      <th>68760</th>\n      <td>셀트리온제약</td>\n      <td>건강관리</td>\n      <td>제약</td>\n      <td>KOSDAQ</td>\n      <td>9.0</td>\n    </tr>\n    <tr>\n      <th>80</th>\n      <td>하이트진로</td>\n      <td>필수소비재</td>\n      <td>음식료품</td>\n      <td>KOSPI</td>\n      <td>9.0</td>\n    </tr>\n  </tbody>\n</table>\n</div>"
     },
     "execution_count": 9,
     "metadata": {},
     "output_type": "execute_result"
    }
   ],
   "source": [
    "data.get_score().sort_values('Score', ascending=False)[:20]"
   ],
   "metadata": {
    "collapsed": false
   }
  },
  {
   "cell_type": "code",
   "execution_count": 10,
   "outputs": [
    {
     "data": {
      "text/plain": "            종목명 SEC_NM_KOR     업종명    시장구분  Score\n종목코드                                             \n81660     휠라홀딩스    경기관련소비재     유통업   KOSPI   11.0\n36010     아비코전자         IT  일반전기전자  KOSDAQ   11.0\n101160      월덱스         IT     반도체  KOSDAQ   11.0\n42700     한미반도체         IT      기계   KOSPI   11.0\n340570      티앤엘       건강관리      제약  KOSDAQ   11.0\n138490  코오롱플라스틱         소재      화학   KOSPI   11.0\n58610      에스피지         IT    IT부품  KOSDAQ   11.0\n60720      KH바텍         IT    IT부품  KOSDAQ   11.0\n5850        에스엘    경기관련소비재    운수장비   KOSPI   11.0\n131970    두산테스나         IT     반도체  KOSDAQ   11.0",
      "text/html": "<div>\n<style scoped>\n    .dataframe tbody tr th:only-of-type {\n        vertical-align: middle;\n    }\n\n    .dataframe tbody tr th {\n        vertical-align: top;\n    }\n\n    .dataframe thead th {\n        text-align: right;\n    }\n</style>\n<table border=\"1\" class=\"dataframe\">\n  <thead>\n    <tr style=\"text-align: right;\">\n      <th></th>\n      <th>종목명</th>\n      <th>SEC_NM_KOR</th>\n      <th>업종명</th>\n      <th>시장구분</th>\n      <th>Score</th>\n    </tr>\n    <tr>\n      <th>종목코드</th>\n      <th></th>\n      <th></th>\n      <th></th>\n      <th></th>\n      <th></th>\n    </tr>\n  </thead>\n  <tbody>\n    <tr>\n      <th>81660</th>\n      <td>휠라홀딩스</td>\n      <td>경기관련소비재</td>\n      <td>유통업</td>\n      <td>KOSPI</td>\n      <td>11.0</td>\n    </tr>\n    <tr>\n      <th>36010</th>\n      <td>아비코전자</td>\n      <td>IT</td>\n      <td>일반전기전자</td>\n      <td>KOSDAQ</td>\n      <td>11.0</td>\n    </tr>\n    <tr>\n      <th>101160</th>\n      <td>월덱스</td>\n      <td>IT</td>\n      <td>반도체</td>\n      <td>KOSDAQ</td>\n      <td>11.0</td>\n    </tr>\n    <tr>\n      <th>42700</th>\n      <td>한미반도체</td>\n      <td>IT</td>\n      <td>기계</td>\n      <td>KOSPI</td>\n      <td>11.0</td>\n    </tr>\n    <tr>\n      <th>340570</th>\n      <td>티앤엘</td>\n      <td>건강관리</td>\n      <td>제약</td>\n      <td>KOSDAQ</td>\n      <td>11.0</td>\n    </tr>\n    <tr>\n      <th>138490</th>\n      <td>코오롱플라스틱</td>\n      <td>소재</td>\n      <td>화학</td>\n      <td>KOSPI</td>\n      <td>11.0</td>\n    </tr>\n    <tr>\n      <th>58610</th>\n      <td>에스피지</td>\n      <td>IT</td>\n      <td>IT부품</td>\n      <td>KOSDAQ</td>\n      <td>11.0</td>\n    </tr>\n    <tr>\n      <th>60720</th>\n      <td>KH바텍</td>\n      <td>IT</td>\n      <td>IT부품</td>\n      <td>KOSDAQ</td>\n      <td>11.0</td>\n    </tr>\n    <tr>\n      <th>5850</th>\n      <td>에스엘</td>\n      <td>경기관련소비재</td>\n      <td>운수장비</td>\n      <td>KOSPI</td>\n      <td>11.0</td>\n    </tr>\n    <tr>\n      <th>131970</th>\n      <td>두산테스나</td>\n      <td>IT</td>\n      <td>반도체</td>\n      <td>KOSDAQ</td>\n      <td>11.0</td>\n    </tr>\n  </tbody>\n</table>\n</div>"
     },
     "execution_count": 10,
     "metadata": {},
     "output_type": "execute_result"
    }
   ],
   "source": [
    "# mode quantile\n",
    "data.get_score('quant').sort_values('Score', ascending=False)[:10]"
   ],
   "metadata": {
    "collapsed": false
   }
  },
  {
   "cell_type": "code",
   "execution_count": 11,
   "outputs": [
    {
     "data": {
      "text/plain": "           종목명 SEC_NM_KOR     업종명    시장구분  Score\n종목코드                                            \n5380       현대차    경기관련소비재    운수장비   KOSPI    9.0\n270         기아    경기관련소비재    운수장비   KOSPI    8.0\n12330    현대모비스    경기관련소비재    운수장비   KOSPI    9.0\n51900   LG생활건강    경기관련소비재      화학   KOSPI    9.0\n90430   아모레퍼시픽    경기관련소비재      화학   KOSPI    6.0\n...        ...        ...     ...     ...    ...\n33200      모아텍         IT    IT부품  KOSDAQ    2.0\n9140      경인전자         IT    전기전자   KOSPI    5.0\n17250      인터엠         IT  일반전기전자  KOSDAQ    1.0\n32960     동일기연         IT    IT부품  KOSDAQ    3.0\n321260    프로이천         IT  일반전기전자  KOSDAQ    6.0\n\n[2136 rows x 5 columns]",
      "text/html": "<div>\n<style scoped>\n    .dataframe tbody tr th:only-of-type {\n        vertical-align: middle;\n    }\n\n    .dataframe tbody tr th {\n        vertical-align: top;\n    }\n\n    .dataframe thead th {\n        text-align: right;\n    }\n</style>\n<table border=\"1\" class=\"dataframe\">\n  <thead>\n    <tr style=\"text-align: right;\">\n      <th></th>\n      <th>종목명</th>\n      <th>SEC_NM_KOR</th>\n      <th>업종명</th>\n      <th>시장구분</th>\n      <th>Score</th>\n    </tr>\n    <tr>\n      <th>종목코드</th>\n      <th></th>\n      <th></th>\n      <th></th>\n      <th></th>\n      <th></th>\n    </tr>\n  </thead>\n  <tbody>\n    <tr>\n      <th>5380</th>\n      <td>현대차</td>\n      <td>경기관련소비재</td>\n      <td>운수장비</td>\n      <td>KOSPI</td>\n      <td>9.0</td>\n    </tr>\n    <tr>\n      <th>270</th>\n      <td>기아</td>\n      <td>경기관련소비재</td>\n      <td>운수장비</td>\n      <td>KOSPI</td>\n      <td>8.0</td>\n    </tr>\n    <tr>\n      <th>12330</th>\n      <td>현대모비스</td>\n      <td>경기관련소비재</td>\n      <td>운수장비</td>\n      <td>KOSPI</td>\n      <td>9.0</td>\n    </tr>\n    <tr>\n      <th>51900</th>\n      <td>LG생활건강</td>\n      <td>경기관련소비재</td>\n      <td>화학</td>\n      <td>KOSPI</td>\n      <td>9.0</td>\n    </tr>\n    <tr>\n      <th>90430</th>\n      <td>아모레퍼시픽</td>\n      <td>경기관련소비재</td>\n      <td>화학</td>\n      <td>KOSPI</td>\n      <td>6.0</td>\n    </tr>\n    <tr>\n      <th>...</th>\n      <td>...</td>\n      <td>...</td>\n      <td>...</td>\n      <td>...</td>\n      <td>...</td>\n    </tr>\n    <tr>\n      <th>33200</th>\n      <td>모아텍</td>\n      <td>IT</td>\n      <td>IT부품</td>\n      <td>KOSDAQ</td>\n      <td>2.0</td>\n    </tr>\n    <tr>\n      <th>9140</th>\n      <td>경인전자</td>\n      <td>IT</td>\n      <td>전기전자</td>\n      <td>KOSPI</td>\n      <td>5.0</td>\n    </tr>\n    <tr>\n      <th>17250</th>\n      <td>인터엠</td>\n      <td>IT</td>\n      <td>일반전기전자</td>\n      <td>KOSDAQ</td>\n      <td>1.0</td>\n    </tr>\n    <tr>\n      <th>32960</th>\n      <td>동일기연</td>\n      <td>IT</td>\n      <td>IT부품</td>\n      <td>KOSDAQ</td>\n      <td>3.0</td>\n    </tr>\n    <tr>\n      <th>321260</th>\n      <td>프로이천</td>\n      <td>IT</td>\n      <td>일반전기전자</td>\n      <td>KOSDAQ</td>\n      <td>6.0</td>\n    </tr>\n  </tbody>\n</table>\n<p>2136 rows × 5 columns</p>\n</div>"
     },
     "execution_count": 11,
     "metadata": {},
     "output_type": "execute_result"
    }
   ],
   "source": [
    "data.get_score('median')"
   ],
   "metadata": {
    "collapsed": false
   }
  },
  {
   "cell_type": "code",
   "execution_count": 12,
   "outputs": [
    {
     "data": {
      "text/plain": "            종목명 SEC_NM_KOR      업종명    시장구분     Score\n종목코드                                                 \n5930       삼성전자         IT     전기전자   KOSPI  6.813026\n34730        SK        산업재     기타금융   KOSPI  4.273735\n660      SK하이닉스         IT     전기전자   KOSPI  4.237589\n96770   SK이노베이션        에너지       화학   KOSPI  3.952028\n151860   KG ETS         소재    기타서비스  KOSDAQ  3.823171\n316140   우리금융지주         금융     기타금융   KOSPI  3.817217\n66570      LG전자         IT     전기전자   KOSPI  3.802808\n310210     보로노이       건강관리       제약  KOSDAQ  3.794632\n11780      금호석유         소재       화학   KOSPI  3.793934\n42600      새로닉스    경기관련소비재     IT부품  KOSDAQ  3.788176\n140520     대창스틸         소재       금속  KOSDAQ  3.787872\n35080     그래디언트    경기관련소비재       유통  KOSDAQ  3.786598\n5940     NH투자증권         금융       증권   KOSPI  3.733261\n880          한화         금융       화학   KOSPI  3.716270\n108320    LX세미콘         IT      반도체  KOSDAQ  3.691237\n195870    해성디에스         IT     전기전자   KOSPI  3.687685\n253840      수젠텍       건강관리  의료·정밀기기  KOSDAQ  3.681200\n4870     티웨이홀딩스        산업재    비금속광물   KOSPI  3.665336\n124560    태웅로직스        산업재       운송  KOSDAQ  3.660625\n250000     보라티알      필수소비재       유통  KOSDAQ  3.659278",
      "text/html": "<div>\n<style scoped>\n    .dataframe tbody tr th:only-of-type {\n        vertical-align: middle;\n    }\n\n    .dataframe tbody tr th {\n        vertical-align: top;\n    }\n\n    .dataframe thead th {\n        text-align: right;\n    }\n</style>\n<table border=\"1\" class=\"dataframe\">\n  <thead>\n    <tr style=\"text-align: right;\">\n      <th></th>\n      <th>종목명</th>\n      <th>SEC_NM_KOR</th>\n      <th>업종명</th>\n      <th>시장구분</th>\n      <th>Score</th>\n    </tr>\n    <tr>\n      <th>종목코드</th>\n      <th></th>\n      <th></th>\n      <th></th>\n      <th></th>\n      <th></th>\n    </tr>\n  </thead>\n  <tbody>\n    <tr>\n      <th>5930</th>\n      <td>삼성전자</td>\n      <td>IT</td>\n      <td>전기전자</td>\n      <td>KOSPI</td>\n      <td>6.813026</td>\n    </tr>\n    <tr>\n      <th>34730</th>\n      <td>SK</td>\n      <td>산업재</td>\n      <td>기타금융</td>\n      <td>KOSPI</td>\n      <td>4.273735</td>\n    </tr>\n    <tr>\n      <th>660</th>\n      <td>SK하이닉스</td>\n      <td>IT</td>\n      <td>전기전자</td>\n      <td>KOSPI</td>\n      <td>4.237589</td>\n    </tr>\n    <tr>\n      <th>96770</th>\n      <td>SK이노베이션</td>\n      <td>에너지</td>\n      <td>화학</td>\n      <td>KOSPI</td>\n      <td>3.952028</td>\n    </tr>\n    <tr>\n      <th>151860</th>\n      <td>KG ETS</td>\n      <td>소재</td>\n      <td>기타서비스</td>\n      <td>KOSDAQ</td>\n      <td>3.823171</td>\n    </tr>\n    <tr>\n      <th>316140</th>\n      <td>우리금융지주</td>\n      <td>금융</td>\n      <td>기타금융</td>\n      <td>KOSPI</td>\n      <td>3.817217</td>\n    </tr>\n    <tr>\n      <th>66570</th>\n      <td>LG전자</td>\n      <td>IT</td>\n      <td>전기전자</td>\n      <td>KOSPI</td>\n      <td>3.802808</td>\n    </tr>\n    <tr>\n      <th>310210</th>\n      <td>보로노이</td>\n      <td>건강관리</td>\n      <td>제약</td>\n      <td>KOSDAQ</td>\n      <td>3.794632</td>\n    </tr>\n    <tr>\n      <th>11780</th>\n      <td>금호석유</td>\n      <td>소재</td>\n      <td>화학</td>\n      <td>KOSPI</td>\n      <td>3.793934</td>\n    </tr>\n    <tr>\n      <th>42600</th>\n      <td>새로닉스</td>\n      <td>경기관련소비재</td>\n      <td>IT부품</td>\n      <td>KOSDAQ</td>\n      <td>3.788176</td>\n    </tr>\n    <tr>\n      <th>140520</th>\n      <td>대창스틸</td>\n      <td>소재</td>\n      <td>금속</td>\n      <td>KOSDAQ</td>\n      <td>3.787872</td>\n    </tr>\n    <tr>\n      <th>35080</th>\n      <td>그래디언트</td>\n      <td>경기관련소비재</td>\n      <td>유통</td>\n      <td>KOSDAQ</td>\n      <td>3.786598</td>\n    </tr>\n    <tr>\n      <th>5940</th>\n      <td>NH투자증권</td>\n      <td>금융</td>\n      <td>증권</td>\n      <td>KOSPI</td>\n      <td>3.733261</td>\n    </tr>\n    <tr>\n      <th>880</th>\n      <td>한화</td>\n      <td>금융</td>\n      <td>화학</td>\n      <td>KOSPI</td>\n      <td>3.716270</td>\n    </tr>\n    <tr>\n      <th>108320</th>\n      <td>LX세미콘</td>\n      <td>IT</td>\n      <td>반도체</td>\n      <td>KOSDAQ</td>\n      <td>3.691237</td>\n    </tr>\n    <tr>\n      <th>195870</th>\n      <td>해성디에스</td>\n      <td>IT</td>\n      <td>전기전자</td>\n      <td>KOSPI</td>\n      <td>3.687685</td>\n    </tr>\n    <tr>\n      <th>253840</th>\n      <td>수젠텍</td>\n      <td>건강관리</td>\n      <td>의료·정밀기기</td>\n      <td>KOSDAQ</td>\n      <td>3.681200</td>\n    </tr>\n    <tr>\n      <th>4870</th>\n      <td>티웨이홀딩스</td>\n      <td>산업재</td>\n      <td>비금속광물</td>\n      <td>KOSPI</td>\n      <td>3.665336</td>\n    </tr>\n    <tr>\n      <th>124560</th>\n      <td>태웅로직스</td>\n      <td>산업재</td>\n      <td>운송</td>\n      <td>KOSDAQ</td>\n      <td>3.660625</td>\n    </tr>\n    <tr>\n      <th>250000</th>\n      <td>보라티알</td>\n      <td>필수소비재</td>\n      <td>유통</td>\n      <td>KOSDAQ</td>\n      <td>3.659278</td>\n    </tr>\n  </tbody>\n</table>\n</div>"
     },
     "execution_count": 12,
     "metadata": {},
     "output_type": "execute_result"
    }
   ],
   "source": [
    "data.get_score(mode='mm').sort_values('Score', ascending=False)[:20]"
   ],
   "metadata": {
    "collapsed": false
   }
  },
  {
   "cell_type": "code",
   "execution_count": 13,
   "metadata": {
    "scrolled": true
   },
   "outputs": [
    {
     "data": {
      "text/plain": "             종목명 SEC_NM_KOR     업종명    시장구분       Score\n종목코드                                                   \n5930        삼성전자         IT    전기전자   KOSPI  147.407653\n77970      STX엔진        산업재      기계   KOSPI   38.244384\n660       SK하이닉스         IT    전기전자   KOSPI   36.804447\n5380         현대차    경기관련소비재    운수장비   KOSPI   36.694842\n34730         SK        산업재    기타금융   KOSPI   34.130632\n11200        HMM        산업재   운수창고업   KOSPI   27.633975\n270           기아    경기관련소비재    운수장비   KOSPI   25.596839\n5490    POSCO홀딩스         소재    철강금속   KOSPI   24.482167\n96770    SK이노베이션        에너지      화학   KOSPI   22.589368\n105560      KB금융         금융    기타금융   KOSPI   21.001663\n388050      지투파워        산업재  일반전기전자  KOSDAQ   18.868041\n86790     하나금융지주         금융    기타금융   KOSPI   16.989704\n267250      HD현대        에너지      화학   KOSPI   15.891274\n316140    우리금융지주         금융    기타금융   KOSPI   15.754079\n10950      S-Oil        에너지      화학   KOSPI   15.350389\n66570       LG전자         IT    전기전자   KOSPI   15.080420\n366030      공구우먼    경기관련소비재      유통  KOSDAQ   14.399645\n55550       신한지주         금융    기타금융   KOSPI   14.209159\n880           한화         금융      화학   KOSPI   13.878268\n51910       LG화학         소재      화학   KOSPI   13.867057",
      "text/html": "<div>\n<style scoped>\n    .dataframe tbody tr th:only-of-type {\n        vertical-align: middle;\n    }\n\n    .dataframe tbody tr th {\n        vertical-align: top;\n    }\n\n    .dataframe thead th {\n        text-align: right;\n    }\n</style>\n<table border=\"1\" class=\"dataframe\">\n  <thead>\n    <tr style=\"text-align: right;\">\n      <th></th>\n      <th>종목명</th>\n      <th>SEC_NM_KOR</th>\n      <th>업종명</th>\n      <th>시장구분</th>\n      <th>Score</th>\n    </tr>\n    <tr>\n      <th>종목코드</th>\n      <th></th>\n      <th></th>\n      <th></th>\n      <th></th>\n      <th></th>\n    </tr>\n  </thead>\n  <tbody>\n    <tr>\n      <th>5930</th>\n      <td>삼성전자</td>\n      <td>IT</td>\n      <td>전기전자</td>\n      <td>KOSPI</td>\n      <td>147.407653</td>\n    </tr>\n    <tr>\n      <th>77970</th>\n      <td>STX엔진</td>\n      <td>산업재</td>\n      <td>기계</td>\n      <td>KOSPI</td>\n      <td>38.244384</td>\n    </tr>\n    <tr>\n      <th>660</th>\n      <td>SK하이닉스</td>\n      <td>IT</td>\n      <td>전기전자</td>\n      <td>KOSPI</td>\n      <td>36.804447</td>\n    </tr>\n    <tr>\n      <th>5380</th>\n      <td>현대차</td>\n      <td>경기관련소비재</td>\n      <td>운수장비</td>\n      <td>KOSPI</td>\n      <td>36.694842</td>\n    </tr>\n    <tr>\n      <th>34730</th>\n      <td>SK</td>\n      <td>산업재</td>\n      <td>기타금융</td>\n      <td>KOSPI</td>\n      <td>34.130632</td>\n    </tr>\n    <tr>\n      <th>11200</th>\n      <td>HMM</td>\n      <td>산업재</td>\n      <td>운수창고업</td>\n      <td>KOSPI</td>\n      <td>27.633975</td>\n    </tr>\n    <tr>\n      <th>270</th>\n      <td>기아</td>\n      <td>경기관련소비재</td>\n      <td>운수장비</td>\n      <td>KOSPI</td>\n      <td>25.596839</td>\n    </tr>\n    <tr>\n      <th>5490</th>\n      <td>POSCO홀딩스</td>\n      <td>소재</td>\n      <td>철강금속</td>\n      <td>KOSPI</td>\n      <td>24.482167</td>\n    </tr>\n    <tr>\n      <th>96770</th>\n      <td>SK이노베이션</td>\n      <td>에너지</td>\n      <td>화학</td>\n      <td>KOSPI</td>\n      <td>22.589368</td>\n    </tr>\n    <tr>\n      <th>105560</th>\n      <td>KB금융</td>\n      <td>금융</td>\n      <td>기타금융</td>\n      <td>KOSPI</td>\n      <td>21.001663</td>\n    </tr>\n    <tr>\n      <th>388050</th>\n      <td>지투파워</td>\n      <td>산업재</td>\n      <td>일반전기전자</td>\n      <td>KOSDAQ</td>\n      <td>18.868041</td>\n    </tr>\n    <tr>\n      <th>86790</th>\n      <td>하나금융지주</td>\n      <td>금융</td>\n      <td>기타금융</td>\n      <td>KOSPI</td>\n      <td>16.989704</td>\n    </tr>\n    <tr>\n      <th>267250</th>\n      <td>HD현대</td>\n      <td>에너지</td>\n      <td>화학</td>\n      <td>KOSPI</td>\n      <td>15.891274</td>\n    </tr>\n    <tr>\n      <th>316140</th>\n      <td>우리금융지주</td>\n      <td>금융</td>\n      <td>기타금융</td>\n      <td>KOSPI</td>\n      <td>15.754079</td>\n    </tr>\n    <tr>\n      <th>10950</th>\n      <td>S-Oil</td>\n      <td>에너지</td>\n      <td>화학</td>\n      <td>KOSPI</td>\n      <td>15.350389</td>\n    </tr>\n    <tr>\n      <th>66570</th>\n      <td>LG전자</td>\n      <td>IT</td>\n      <td>전기전자</td>\n      <td>KOSPI</td>\n      <td>15.080420</td>\n    </tr>\n    <tr>\n      <th>366030</th>\n      <td>공구우먼</td>\n      <td>경기관련소비재</td>\n      <td>유통</td>\n      <td>KOSDAQ</td>\n      <td>14.399645</td>\n    </tr>\n    <tr>\n      <th>55550</th>\n      <td>신한지주</td>\n      <td>금융</td>\n      <td>기타금융</td>\n      <td>KOSPI</td>\n      <td>14.209159</td>\n    </tr>\n    <tr>\n      <th>880</th>\n      <td>한화</td>\n      <td>금융</td>\n      <td>화학</td>\n      <td>KOSPI</td>\n      <td>13.878268</td>\n    </tr>\n    <tr>\n      <th>51910</th>\n      <td>LG화학</td>\n      <td>소재</td>\n      <td>화학</td>\n      <td>KOSPI</td>\n      <td>13.867057</td>\n    </tr>\n  </tbody>\n</table>\n</div>"
     },
     "execution_count": 13,
     "metadata": {},
     "output_type": "execute_result"
    }
   ],
   "source": [
    "data.get_score(mode='std').sort_values('Score', ascending=False)[:20]"
   ]
  },
  {
   "cell_type": "code",
   "execution_count": 14,
   "metadata": {},
   "outputs": [
    {
     "data": {
      "text/plain": "               Score\nSEC_NM_KOR          \n금융          2.765647\nIT          2.733217\n에너지         2.687985",
      "text/html": "<div>\n<style scoped>\n    .dataframe tbody tr th:only-of-type {\n        vertical-align: middle;\n    }\n\n    .dataframe tbody tr th {\n        vertical-align: top;\n    }\n\n    .dataframe thead th {\n        text-align: right;\n    }\n</style>\n<table border=\"1\" class=\"dataframe\">\n  <thead>\n    <tr style=\"text-align: right;\">\n      <th></th>\n      <th>Score</th>\n    </tr>\n    <tr>\n      <th>SEC_NM_KOR</th>\n      <th></th>\n    </tr>\n  </thead>\n  <tbody>\n    <tr>\n      <th>금융</th>\n      <td>2.765647</td>\n    </tr>\n    <tr>\n      <th>IT</th>\n      <td>2.733217</td>\n    </tr>\n    <tr>\n      <th>에너지</th>\n      <td>2.687985</td>\n    </tr>\n  </tbody>\n</table>\n</div>"
     },
     "execution_count": 14,
     "metadata": {},
     "output_type": "execute_result"
    }
   ],
   "source": [
    "data.top_n_sector(n=3, mode='mm')"
   ]
  },
  {
   "cell_type": "code",
   "execution_count": 15,
   "metadata": {
    "scrolled": true
   },
   "outputs": [
    {
     "data": {
      "text/plain": "               Score\nSEC_NM_KOR          \n금융          2.201644\n에너지         0.836682\n소재          0.345038\nIT          0.252435\n산업재         0.106870",
      "text/html": "<div>\n<style scoped>\n    .dataframe tbody tr th:only-of-type {\n        vertical-align: middle;\n    }\n\n    .dataframe tbody tr th {\n        vertical-align: top;\n    }\n\n    .dataframe thead th {\n        text-align: right;\n    }\n</style>\n<table border=\"1\" class=\"dataframe\">\n  <thead>\n    <tr style=\"text-align: right;\">\n      <th></th>\n      <th>Score</th>\n    </tr>\n    <tr>\n      <th>SEC_NM_KOR</th>\n      <th></th>\n    </tr>\n  </thead>\n  <tbody>\n    <tr>\n      <th>금융</th>\n      <td>2.201644</td>\n    </tr>\n    <tr>\n      <th>에너지</th>\n      <td>0.836682</td>\n    </tr>\n    <tr>\n      <th>소재</th>\n      <td>0.345038</td>\n    </tr>\n    <tr>\n      <th>IT</th>\n      <td>0.252435</td>\n    </tr>\n    <tr>\n      <th>산업재</th>\n      <td>0.106870</td>\n    </tr>\n  </tbody>\n</table>\n</div>"
     },
     "execution_count": 15,
     "metadata": {},
     "output_type": "execute_result"
    }
   ],
   "source": [
    "data.top_n_sector(mode='std')"
   ]
  },
  {
   "cell_type": "code",
   "execution_count": 16,
   "metadata": {
    "scrolled": true
   },
   "outputs": [
    {
     "data": {
      "text/plain": "             종목명 SEC_NM_KOR     업종명    시장구분  Score\n종목코드                                              \n282330    BGF리테일    경기관련소비재     유통업   KOSPI    9.0\n81660      휠라홀딩스    경기관련소비재     유통업   KOSPI    9.0\n21240        코웨이    경기관련소비재    서비스업   KOSPI    9.0\n298020     효성티앤씨    경기관련소비재      화학   KOSPI    9.0\n204320        만도    경기관련소비재    운수장비   KOSPI    9.0\n8930      한미사이언스       건강관리    기타금융   KOSPI   10.0\n68270       셀트리온       건강관리     의약품   KOSPI    9.0\n96530         씨젠       건강관리      제약  KOSDAQ    9.0\n91990   셀트리온헬스케어       건강관리      유통  KOSDAQ    9.0\n195940     HK이노엔       건강관리      제약  KOSDAQ    9.0\n352820       하이브  커뮤니케이션서비스    서비스업   KOSPI   10.0\n36570      엔씨소프트  커뮤니케이션서비스    서비스업   KOSPI    9.0\n35900   JYP Ent.  커뮤니케이션서비스   오락·문화  KOSDAQ    9.0\n35720        카카오  커뮤니케이션서비스    서비스업   KOSPI    8.0\n30000       제일기획  커뮤니케이션서비스    서비스업   KOSPI    8.0\n16360       삼성증권         금융      증권   KOSPI    8.0\n86790     하나금융지주         금융    기타금융   KOSPI    7.0\n316140    우리금융지주         금융    기타금융   KOSPI    7.0\n810         삼성화재         금융      보험   KOSPI    7.0\n32830       삼성생명         금융      보험   KOSPI    7.0\n96770    SK이노베이션        에너지      화학   KOSPI    9.0\n78930         GS        에너지    기타금융   KOSPI    9.0\n267250      HD현대        에너지      화학   KOSPI    8.0\n10950      S-Oil        에너지      화학   KOSPI    8.0\n1390       KG케미칼        에너지      화학   KOSPI    6.0\n28260       삼성물산        산업재     유통업   KOSPI    9.0\n28050    삼성엔지니어링        산업재    서비스업   KOSPI    9.0\n6260          LS        산업재    기타금융   KOSPI    9.0\n47050   포스코인터내셔널        산업재     유통업   KOSPI    9.0\n6360        GS건설        산업재     건설업   KOSPI    9.0\n51600      한전KPS       유틸리티     건설업   KOSPI    9.0\n36460     한국가스공사       유틸리티   전기가스업   KOSPI    9.0\n130660      한전산업       유틸리티    서비스업   KOSPI    8.0\n18670       SK가스       유틸리티     유통업   KOSPI    7.0\n17940         E1       유틸리티     유통업   KOSPI    6.0\n271560       오리온      필수소비재    음식료품   KOSPI    9.0\n80         하이트진로      필수소비재    음식료품   KOSPI    9.0\n1680          대상      필수소비재    음식료품   KOSPI    9.0\n4990        롯데지주      필수소비재    기타금융   KOSPI    8.0\n84690      대상홀딩스      필수소비재    기타금융   KOSPI    8.0\n298050    효성첨단소재         소재      화학   KOSPI    9.0\n103140        풍산         소재    철강금속   KOSPI    9.0\n11780       금호석유         소재      화학   KOSPI    9.0\n1230        동국제강         소재    철강금속   KOSPI    8.0\n151860    KG ETS         소재   기타서비스  KOSDAQ    8.0\n247540    에코프로비엠         IT  일반전기전자  KOSDAQ   11.0\n5930        삼성전자         IT    전기전자   KOSPI    9.0\n11070      LG이노텍         IT    전기전자   KOSPI    9.0\n660       SK하이닉스         IT    전기전자   KOSPI    9.0\n357780      솔브레인         IT      화학  KOSDAQ    9.0",
      "text/html": "<div>\n<style scoped>\n    .dataframe tbody tr th:only-of-type {\n        vertical-align: middle;\n    }\n\n    .dataframe tbody tr th {\n        vertical-align: top;\n    }\n\n    .dataframe thead th {\n        text-align: right;\n    }\n</style>\n<table border=\"1\" class=\"dataframe\">\n  <thead>\n    <tr style=\"text-align: right;\">\n      <th></th>\n      <th>종목명</th>\n      <th>SEC_NM_KOR</th>\n      <th>업종명</th>\n      <th>시장구분</th>\n      <th>Score</th>\n    </tr>\n    <tr>\n      <th>종목코드</th>\n      <th></th>\n      <th></th>\n      <th></th>\n      <th></th>\n      <th></th>\n    </tr>\n  </thead>\n  <tbody>\n    <tr>\n      <th>282330</th>\n      <td>BGF리테일</td>\n      <td>경기관련소비재</td>\n      <td>유통업</td>\n      <td>KOSPI</td>\n      <td>9.0</td>\n    </tr>\n    <tr>\n      <th>81660</th>\n      <td>휠라홀딩스</td>\n      <td>경기관련소비재</td>\n      <td>유통업</td>\n      <td>KOSPI</td>\n      <td>9.0</td>\n    </tr>\n    <tr>\n      <th>21240</th>\n      <td>코웨이</td>\n      <td>경기관련소비재</td>\n      <td>서비스업</td>\n      <td>KOSPI</td>\n      <td>9.0</td>\n    </tr>\n    <tr>\n      <th>298020</th>\n      <td>효성티앤씨</td>\n      <td>경기관련소비재</td>\n      <td>화학</td>\n      <td>KOSPI</td>\n      <td>9.0</td>\n    </tr>\n    <tr>\n      <th>204320</th>\n      <td>만도</td>\n      <td>경기관련소비재</td>\n      <td>운수장비</td>\n      <td>KOSPI</td>\n      <td>9.0</td>\n    </tr>\n    <tr>\n      <th>8930</th>\n      <td>한미사이언스</td>\n      <td>건강관리</td>\n      <td>기타금융</td>\n      <td>KOSPI</td>\n      <td>10.0</td>\n    </tr>\n    <tr>\n      <th>68270</th>\n      <td>셀트리온</td>\n      <td>건강관리</td>\n      <td>의약품</td>\n      <td>KOSPI</td>\n      <td>9.0</td>\n    </tr>\n    <tr>\n      <th>96530</th>\n      <td>씨젠</td>\n      <td>건강관리</td>\n      <td>제약</td>\n      <td>KOSDAQ</td>\n      <td>9.0</td>\n    </tr>\n    <tr>\n      <th>91990</th>\n      <td>셀트리온헬스케어</td>\n      <td>건강관리</td>\n      <td>유통</td>\n      <td>KOSDAQ</td>\n      <td>9.0</td>\n    </tr>\n    <tr>\n      <th>195940</th>\n      <td>HK이노엔</td>\n      <td>건강관리</td>\n      <td>제약</td>\n      <td>KOSDAQ</td>\n      <td>9.0</td>\n    </tr>\n    <tr>\n      <th>352820</th>\n      <td>하이브</td>\n      <td>커뮤니케이션서비스</td>\n      <td>서비스업</td>\n      <td>KOSPI</td>\n      <td>10.0</td>\n    </tr>\n    <tr>\n      <th>36570</th>\n      <td>엔씨소프트</td>\n      <td>커뮤니케이션서비스</td>\n      <td>서비스업</td>\n      <td>KOSPI</td>\n      <td>9.0</td>\n    </tr>\n    <tr>\n      <th>35900</th>\n      <td>JYP Ent.</td>\n      <td>커뮤니케이션서비스</td>\n      <td>오락·문화</td>\n      <td>KOSDAQ</td>\n      <td>9.0</td>\n    </tr>\n    <tr>\n      <th>35720</th>\n      <td>카카오</td>\n      <td>커뮤니케이션서비스</td>\n      <td>서비스업</td>\n      <td>KOSPI</td>\n      <td>8.0</td>\n    </tr>\n    <tr>\n      <th>30000</th>\n      <td>제일기획</td>\n      <td>커뮤니케이션서비스</td>\n      <td>서비스업</td>\n      <td>KOSPI</td>\n      <td>8.0</td>\n    </tr>\n    <tr>\n      <th>16360</th>\n      <td>삼성증권</td>\n      <td>금융</td>\n      <td>증권</td>\n      <td>KOSPI</td>\n      <td>8.0</td>\n    </tr>\n    <tr>\n      <th>86790</th>\n      <td>하나금융지주</td>\n      <td>금융</td>\n      <td>기타금융</td>\n      <td>KOSPI</td>\n      <td>7.0</td>\n    </tr>\n    <tr>\n      <th>316140</th>\n      <td>우리금융지주</td>\n      <td>금융</td>\n      <td>기타금융</td>\n      <td>KOSPI</td>\n      <td>7.0</td>\n    </tr>\n    <tr>\n      <th>810</th>\n      <td>삼성화재</td>\n      <td>금융</td>\n      <td>보험</td>\n      <td>KOSPI</td>\n      <td>7.0</td>\n    </tr>\n    <tr>\n      <th>32830</th>\n      <td>삼성생명</td>\n      <td>금융</td>\n      <td>보험</td>\n      <td>KOSPI</td>\n      <td>7.0</td>\n    </tr>\n    <tr>\n      <th>96770</th>\n      <td>SK이노베이션</td>\n      <td>에너지</td>\n      <td>화학</td>\n      <td>KOSPI</td>\n      <td>9.0</td>\n    </tr>\n    <tr>\n      <th>78930</th>\n      <td>GS</td>\n      <td>에너지</td>\n      <td>기타금융</td>\n      <td>KOSPI</td>\n      <td>9.0</td>\n    </tr>\n    <tr>\n      <th>267250</th>\n      <td>HD현대</td>\n      <td>에너지</td>\n      <td>화학</td>\n      <td>KOSPI</td>\n      <td>8.0</td>\n    </tr>\n    <tr>\n      <th>10950</th>\n      <td>S-Oil</td>\n      <td>에너지</td>\n      <td>화학</td>\n      <td>KOSPI</td>\n      <td>8.0</td>\n    </tr>\n    <tr>\n      <th>1390</th>\n      <td>KG케미칼</td>\n      <td>에너지</td>\n      <td>화학</td>\n      <td>KOSPI</td>\n      <td>6.0</td>\n    </tr>\n    <tr>\n      <th>28260</th>\n      <td>삼성물산</td>\n      <td>산업재</td>\n      <td>유통업</td>\n      <td>KOSPI</td>\n      <td>9.0</td>\n    </tr>\n    <tr>\n      <th>28050</th>\n      <td>삼성엔지니어링</td>\n      <td>산업재</td>\n      <td>서비스업</td>\n      <td>KOSPI</td>\n      <td>9.0</td>\n    </tr>\n    <tr>\n      <th>6260</th>\n      <td>LS</td>\n      <td>산업재</td>\n      <td>기타금융</td>\n      <td>KOSPI</td>\n      <td>9.0</td>\n    </tr>\n    <tr>\n      <th>47050</th>\n      <td>포스코인터내셔널</td>\n      <td>산업재</td>\n      <td>유통업</td>\n      <td>KOSPI</td>\n      <td>9.0</td>\n    </tr>\n    <tr>\n      <th>6360</th>\n      <td>GS건설</td>\n      <td>산업재</td>\n      <td>건설업</td>\n      <td>KOSPI</td>\n      <td>9.0</td>\n    </tr>\n    <tr>\n      <th>51600</th>\n      <td>한전KPS</td>\n      <td>유틸리티</td>\n      <td>건설업</td>\n      <td>KOSPI</td>\n      <td>9.0</td>\n    </tr>\n    <tr>\n      <th>36460</th>\n      <td>한국가스공사</td>\n      <td>유틸리티</td>\n      <td>전기가스업</td>\n      <td>KOSPI</td>\n      <td>9.0</td>\n    </tr>\n    <tr>\n      <th>130660</th>\n      <td>한전산업</td>\n      <td>유틸리티</td>\n      <td>서비스업</td>\n      <td>KOSPI</td>\n      <td>8.0</td>\n    </tr>\n    <tr>\n      <th>18670</th>\n      <td>SK가스</td>\n      <td>유틸리티</td>\n      <td>유통업</td>\n      <td>KOSPI</td>\n      <td>7.0</td>\n    </tr>\n    <tr>\n      <th>17940</th>\n      <td>E1</td>\n      <td>유틸리티</td>\n      <td>유통업</td>\n      <td>KOSPI</td>\n      <td>6.0</td>\n    </tr>\n    <tr>\n      <th>271560</th>\n      <td>오리온</td>\n      <td>필수소비재</td>\n      <td>음식료품</td>\n      <td>KOSPI</td>\n      <td>9.0</td>\n    </tr>\n    <tr>\n      <th>80</th>\n      <td>하이트진로</td>\n      <td>필수소비재</td>\n      <td>음식료품</td>\n      <td>KOSPI</td>\n      <td>9.0</td>\n    </tr>\n    <tr>\n      <th>1680</th>\n      <td>대상</td>\n      <td>필수소비재</td>\n      <td>음식료품</td>\n      <td>KOSPI</td>\n      <td>9.0</td>\n    </tr>\n    <tr>\n      <th>4990</th>\n      <td>롯데지주</td>\n      <td>필수소비재</td>\n      <td>기타금융</td>\n      <td>KOSPI</td>\n      <td>8.0</td>\n    </tr>\n    <tr>\n      <th>84690</th>\n      <td>대상홀딩스</td>\n      <td>필수소비재</td>\n      <td>기타금융</td>\n      <td>KOSPI</td>\n      <td>8.0</td>\n    </tr>\n    <tr>\n      <th>298050</th>\n      <td>효성첨단소재</td>\n      <td>소재</td>\n      <td>화학</td>\n      <td>KOSPI</td>\n      <td>9.0</td>\n    </tr>\n    <tr>\n      <th>103140</th>\n      <td>풍산</td>\n      <td>소재</td>\n      <td>철강금속</td>\n      <td>KOSPI</td>\n      <td>9.0</td>\n    </tr>\n    <tr>\n      <th>11780</th>\n      <td>금호석유</td>\n      <td>소재</td>\n      <td>화학</td>\n      <td>KOSPI</td>\n      <td>9.0</td>\n    </tr>\n    <tr>\n      <th>1230</th>\n      <td>동국제강</td>\n      <td>소재</td>\n      <td>철강금속</td>\n      <td>KOSPI</td>\n      <td>8.0</td>\n    </tr>\n    <tr>\n      <th>151860</th>\n      <td>KG ETS</td>\n      <td>소재</td>\n      <td>기타서비스</td>\n      <td>KOSDAQ</td>\n      <td>8.0</td>\n    </tr>\n    <tr>\n      <th>247540</th>\n      <td>에코프로비엠</td>\n      <td>IT</td>\n      <td>일반전기전자</td>\n      <td>KOSDAQ</td>\n      <td>11.0</td>\n    </tr>\n    <tr>\n      <th>5930</th>\n      <td>삼성전자</td>\n      <td>IT</td>\n      <td>전기전자</td>\n      <td>KOSPI</td>\n      <td>9.0</td>\n    </tr>\n    <tr>\n      <th>11070</th>\n      <td>LG이노텍</td>\n      <td>IT</td>\n      <td>전기전자</td>\n      <td>KOSPI</td>\n      <td>9.0</td>\n    </tr>\n    <tr>\n      <th>660</th>\n      <td>SK하이닉스</td>\n      <td>IT</td>\n      <td>전기전자</td>\n      <td>KOSPI</td>\n      <td>9.0</td>\n    </tr>\n    <tr>\n      <th>357780</th>\n      <td>솔브레인</td>\n      <td>IT</td>\n      <td>화학</td>\n      <td>KOSDAQ</td>\n      <td>9.0</td>\n    </tr>\n  </tbody>\n</table>\n</div>"
     },
     "execution_count": 16,
     "metadata": {},
     "output_type": "execute_result"
    }
   ],
   "source": [
    "data.get_universe()"
   ]
  },
  {
   "cell_type": "code",
   "execution_count": 17,
   "metadata": {},
   "outputs": [
    {
     "data": {
      "text/plain": "           종목명 SEC_NM_KOR     업종명    시장구분  Score\n종목코드                                            \n8930    한미사이언스       건강관리    기타금융   KOSPI   10.0\n68270     셀트리온       건강관리     의약품   KOSPI    9.0\n96530       씨젠       건강관리      제약  KOSDAQ    9.0\n16360     삼성증권         금융      증권   KOSPI    8.0\n86790   하나금융지주         금융    기타금융   KOSPI    7.0\n316140  우리금융지주         금융    기타금융   KOSPI    7.0\n247540  에코프로비엠         IT  일반전기전자  KOSDAQ   11.0\n5930      삼성전자         IT    전기전자   KOSPI    9.0\n11070    LG이노텍         IT    전기전자   KOSPI    9.0",
      "text/html": "<div>\n<style scoped>\n    .dataframe tbody tr th:only-of-type {\n        vertical-align: middle;\n    }\n\n    .dataframe tbody tr th {\n        vertical-align: top;\n    }\n\n    .dataframe thead th {\n        text-align: right;\n    }\n</style>\n<table border=\"1\" class=\"dataframe\">\n  <thead>\n    <tr style=\"text-align: right;\">\n      <th></th>\n      <th>종목명</th>\n      <th>SEC_NM_KOR</th>\n      <th>업종명</th>\n      <th>시장구분</th>\n      <th>Score</th>\n    </tr>\n    <tr>\n      <th>종목코드</th>\n      <th></th>\n      <th></th>\n      <th></th>\n      <th></th>\n      <th></th>\n    </tr>\n  </thead>\n  <tbody>\n    <tr>\n      <th>8930</th>\n      <td>한미사이언스</td>\n      <td>건강관리</td>\n      <td>기타금융</td>\n      <td>KOSPI</td>\n      <td>10.0</td>\n    </tr>\n    <tr>\n      <th>68270</th>\n      <td>셀트리온</td>\n      <td>건강관리</td>\n      <td>의약품</td>\n      <td>KOSPI</td>\n      <td>9.0</td>\n    </tr>\n    <tr>\n      <th>96530</th>\n      <td>씨젠</td>\n      <td>건강관리</td>\n      <td>제약</td>\n      <td>KOSDAQ</td>\n      <td>9.0</td>\n    </tr>\n    <tr>\n      <th>16360</th>\n      <td>삼성증권</td>\n      <td>금융</td>\n      <td>증권</td>\n      <td>KOSPI</td>\n      <td>8.0</td>\n    </tr>\n    <tr>\n      <th>86790</th>\n      <td>하나금융지주</td>\n      <td>금융</td>\n      <td>기타금융</td>\n      <td>KOSPI</td>\n      <td>7.0</td>\n    </tr>\n    <tr>\n      <th>316140</th>\n      <td>우리금융지주</td>\n      <td>금융</td>\n      <td>기타금융</td>\n      <td>KOSPI</td>\n      <td>7.0</td>\n    </tr>\n    <tr>\n      <th>247540</th>\n      <td>에코프로비엠</td>\n      <td>IT</td>\n      <td>일반전기전자</td>\n      <td>KOSDAQ</td>\n      <td>11.0</td>\n    </tr>\n    <tr>\n      <th>5930</th>\n      <td>삼성전자</td>\n      <td>IT</td>\n      <td>전기전자</td>\n      <td>KOSPI</td>\n      <td>9.0</td>\n    </tr>\n    <tr>\n      <th>11070</th>\n      <td>LG이노텍</td>\n      <td>IT</td>\n      <td>전기전자</td>\n      <td>KOSPI</td>\n      <td>9.0</td>\n    </tr>\n  </tbody>\n</table>\n</div>"
     },
     "execution_count": 17,
     "metadata": {},
     "output_type": "execute_result"
    }
   ],
   "source": [
    "data.get_inital_portfolio(sector=['건강관리','금융','IT'], n=3)"
   ]
  },
  {
   "cell_type": "code",
   "execution_count": 18,
   "outputs": [
    {
     "data": {
      "text/plain": "            종목명 SEC_NM_KOR   업종명   시장구분  Score\n종목코드                                          \n298050   효성첨단소재         소재    화학  KOSPI    9.0\n103140       풍산         소재  철강금속  KOSPI    9.0\n11780      금호석유         소재    화학  KOSPI    9.0\n16360      삼성증권         금융    증권  KOSPI    8.0\n86790    하나금융지주         금융  기타금융  KOSPI    7.0\n316140   우리금융지주         금융  기타금융  KOSPI    7.0\n28260      삼성물산        산업재   유통업  KOSPI    9.0\n28050   삼성엔지니어링        산업재  서비스업  KOSPI    9.0\n6260         LS        산업재  기타금융  KOSPI    9.0",
      "text/html": "<div>\n<style scoped>\n    .dataframe tbody tr th:only-of-type {\n        vertical-align: middle;\n    }\n\n    .dataframe tbody tr th {\n        vertical-align: top;\n    }\n\n    .dataframe thead th {\n        text-align: right;\n    }\n</style>\n<table border=\"1\" class=\"dataframe\">\n  <thead>\n    <tr style=\"text-align: right;\">\n      <th></th>\n      <th>종목명</th>\n      <th>SEC_NM_KOR</th>\n      <th>업종명</th>\n      <th>시장구분</th>\n      <th>Score</th>\n    </tr>\n    <tr>\n      <th>종목코드</th>\n      <th></th>\n      <th></th>\n      <th></th>\n      <th></th>\n      <th></th>\n    </tr>\n  </thead>\n  <tbody>\n    <tr>\n      <th>298050</th>\n      <td>효성첨단소재</td>\n      <td>소재</td>\n      <td>화학</td>\n      <td>KOSPI</td>\n      <td>9.0</td>\n    </tr>\n    <tr>\n      <th>103140</th>\n      <td>풍산</td>\n      <td>소재</td>\n      <td>철강금속</td>\n      <td>KOSPI</td>\n      <td>9.0</td>\n    </tr>\n    <tr>\n      <th>11780</th>\n      <td>금호석유</td>\n      <td>소재</td>\n      <td>화학</td>\n      <td>KOSPI</td>\n      <td>9.0</td>\n    </tr>\n    <tr>\n      <th>16360</th>\n      <td>삼성증권</td>\n      <td>금융</td>\n      <td>증권</td>\n      <td>KOSPI</td>\n      <td>8.0</td>\n    </tr>\n    <tr>\n      <th>86790</th>\n      <td>하나금융지주</td>\n      <td>금융</td>\n      <td>기타금융</td>\n      <td>KOSPI</td>\n      <td>7.0</td>\n    </tr>\n    <tr>\n      <th>316140</th>\n      <td>우리금융지주</td>\n      <td>금융</td>\n      <td>기타금융</td>\n      <td>KOSPI</td>\n      <td>7.0</td>\n    </tr>\n    <tr>\n      <th>28260</th>\n      <td>삼성물산</td>\n      <td>산업재</td>\n      <td>유통업</td>\n      <td>KOSPI</td>\n      <td>9.0</td>\n    </tr>\n    <tr>\n      <th>28050</th>\n      <td>삼성엔지니어링</td>\n      <td>산업재</td>\n      <td>서비스업</td>\n      <td>KOSPI</td>\n      <td>9.0</td>\n    </tr>\n    <tr>\n      <th>6260</th>\n      <td>LS</td>\n      <td>산업재</td>\n      <td>기타금융</td>\n      <td>KOSPI</td>\n      <td>9.0</td>\n    </tr>\n  </tbody>\n</table>\n</div>"
     },
     "execution_count": 18,
     "metadata": {},
     "output_type": "execute_result"
    }
   ],
   "source": [
    "data.get_inital_portfolio(sector=['소재','금융','산업재'], n=3)"
   ],
   "metadata": {
    "collapsed": false
   }
  },
  {
   "cell_type": "markdown",
   "source": [
    "data.get_portfolio_ohlcv()는 위에\n",
    "get_inital_portfolio()를 통해 만든 my_universe에서\n",
    "ticker 정보를 받아와서 ohlcv를 return 합니다"
   ],
   "metadata": {
    "collapsed": false
   }
  },
  {
   "cell_type": "code",
   "execution_count": 19,
   "outputs": [],
   "source": [
    "ohlcv = data.get_portfoilo_ohlcv()"
   ],
   "metadata": {
    "collapsed": false
   }
  },
  {
   "cell_type": "code",
   "execution_count": 20,
   "outputs": [
    {
     "data": {
      "text/plain": "{'298050': array([321500, 323000, 316500, 321500,  21043], dtype=int32),\n '103140': array([ 27350,  27450,  26200,  26950, 159937], dtype=int32),\n '011780': array([118000, 125000, 118000, 124000,  76354], dtype=int32),\n '016360': array([ 31250,  31600,  31100,  31550, 209058], dtype=int32),\n '086790': array([ 38100,  38100,  37350,  37350, 725505], dtype=int32),\n '316140': array([ 11150,  11250,  11100,  11100, 939631], dtype=int32),\n '028260': array([106500, 109000, 106000, 109000, 179945], dtype=int32),\n '028050': array([ 24000,  24050,  23450,  23500, 879483], dtype=int32),\n '006260': array([58300, 58600, 57200, 58300, 68446], dtype=int32)}"
     },
     "execution_count": 20,
     "metadata": {},
     "output_type": "execute_result"
    }
   ],
   "source": [
    "ohlcv"
   ],
   "metadata": {
    "collapsed": false
   }
  },
  {
   "cell_type": "code",
   "execution_count": 20,
   "outputs": [],
   "source": [],
   "metadata": {
    "collapsed": false
   }
  }
 ],
 "metadata": {
  "kernelspec": {
   "display_name": "Python 3 (ipykernel)",
   "language": "python",
   "name": "python3"
  },
  "language_info": {
   "codemirror_mode": {
    "name": "ipython",
    "version": 3
   },
   "file_extension": ".py",
   "mimetype": "text/x-python",
   "name": "python",
   "nbconvert_exporter": "python",
   "pygments_lexer": "ipython3",
   "version": "3.9.12"
  },
  "vscode": {
   "interpreter": {
    "hash": "29be89daf952741e3c43ff064676e00aa8ac4c4ae84321cbe394240a42bc8712"
   }
  }
 },
 "nbformat": 4,
 "nbformat_minor": 2
}
