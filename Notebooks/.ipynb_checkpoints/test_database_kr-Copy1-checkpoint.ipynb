{
 "cells": [
  {
   "cell_type": "code",
   "execution_count": 1,
   "metadata": {},
   "outputs": [],
   "source": [
    "import os\n",
    "os.chdir('/Users/seongyeon-kim/Desktop/Dinger')"
   ]
  },
  {
   "cell_type": "markdown",
   "metadata": {},
   "source": [
    "### 프로젝트 root로 설정"
   ]
  },
  {
   "cell_type": "code",
   "execution_count": 2,
   "metadata": {},
   "outputs": [
    {
     "name": "stdout",
     "output_type": "stream",
     "text": [
      "현재 디렉토리  /Users/seongyeon-kim/Desktop/Dinger\n"
     ]
    }
   ],
   "source": [
    "import warnings\n",
    "warnings.filterwarnings('ignore')\n",
    "\n",
    "print(\"현재 디렉토리 \" , os.getcwd())\n",
    "\n",
    "import pandas as pd \n",
    "\n",
    "from Dinger import database_module as dm"
   ]
  },
  {
   "cell_type": "code",
   "execution_count": 3,
   "metadata": {},
   "outputs": [],
   "source": [
    "stock_kr = dm.stockKR('20220901')"
   ]
  },
  {
   "cell_type": "code",
   "execution_count": 4,
   "metadata": {},
   "outputs": [
    {
     "data": {
      "text/plain": [
       "'20220901'"
      ]
     },
     "execution_count": 4,
     "metadata": {},
     "output_type": "execute_result"
    }
   ],
   "source": [
    "stock_kr.dt"
   ]
  },
  {
   "cell_type": "code",
   "execution_count": 5,
   "metadata": {
    "scrolled": true
   },
   "outputs": [
    {
     "name": "stderr",
     "output_type": "stream",
     "text": [
      "100%|██████████| 10/10 [00:26<00:00,  2.62s/it]\n",
      "100%|██████████| 2285/2285 [23:25<00:00,  1.63it/s] \n"
     ]
    },
    {
     "ename": "AttributeError",
     "evalue": "'DataFrame' object has no attribute '당기순이익'",
     "output_type": "error",
     "traceback": [
      "\u001b[0;31m---------------------------------------------------------------------------\u001b[0m",
      "\u001b[0;31mAttributeError\u001b[0m                            Traceback (most recent call last)",
      "Cell \u001b[0;32mIn [5], line 1\u001b[0m\n\u001b[0;32m----> 1\u001b[0m df, err \u001b[38;5;241m=\u001b[39m stock_kr\u001b[38;5;241m.\u001b[39mstocks_info()\n",
      "File \u001b[0;32m~/Desktop/Dinger/Dinger/database_module.py:152\u001b[0m, in \u001b[0;36mstockKR.stocks_info\u001b[0;34m(self)\u001b[0m\n\u001b[1;32m    149\u001b[0m fud_all, err \u001b[38;5;241m=\u001b[39m \u001b[38;5;28mself\u001b[39m\u001b[38;5;241m.\u001b[39mget_fundamentals(df\u001b[38;5;241m.\u001b[39m종목코드)\n\u001b[1;32m    150\u001b[0m data \u001b[38;5;241m=\u001b[39m df\u001b[38;5;241m.\u001b[39mmerge(fud_all, left_on\u001b[38;5;241m=\u001b[39m\u001b[38;5;124m'\u001b[39m\u001b[38;5;124m종목코드\u001b[39m\u001b[38;5;124m'\u001b[39m, right_index\u001b[38;5;241m=\u001b[39m\u001b[38;5;28;01mTrue\u001b[39;00m)\n\u001b[0;32m--> 152\u001b[0m data\u001b[38;5;241m.\u001b[39mloc[\u001b[43mdata\u001b[49m\u001b[38;5;241;43m.\u001b[39;49m\u001b[43m당기순이익\u001b[49m \u001b[38;5;241m==\u001b[39m \u001b[38;5;124m'\u001b[39m\u001b[38;5;124m-\u001b[39m\u001b[38;5;124m'\u001b[39m, \u001b[38;5;124m'\u001b[39m\u001b[38;5;124m당기순이익\u001b[39m\u001b[38;5;124m'\u001b[39m] \u001b[38;5;241m=\u001b[39m np\u001b[38;5;241m.\u001b[39mnan\n\u001b[1;32m    153\u001b[0m data\u001b[38;5;241m.\u001b[39mloc[data\u001b[38;5;241m.\u001b[39m매출액 \u001b[38;5;241m==\u001b[39m \u001b[38;5;124m'\u001b[39m\u001b[38;5;124m-\u001b[39m\u001b[38;5;124m'\u001b[39m, \u001b[38;5;124m'\u001b[39m\u001b[38;5;124m매출액\u001b[39m\u001b[38;5;124m'\u001b[39m] \u001b[38;5;241m=\u001b[39m np\u001b[38;5;241m.\u001b[39mnan\n\u001b[1;32m    154\u001b[0m data\u001b[38;5;241m.\u001b[39mloc[data\u001b[38;5;241m.\u001b[39m영업이익 \u001b[38;5;241m==\u001b[39m \u001b[38;5;124m'\u001b[39m\u001b[38;5;124m-\u001b[39m\u001b[38;5;124m'\u001b[39m, \u001b[38;5;124m'\u001b[39m\u001b[38;5;124m영업이익\u001b[39m\u001b[38;5;124m'\u001b[39m] \u001b[38;5;241m=\u001b[39m np\u001b[38;5;241m.\u001b[39mnan\n",
      "File \u001b[0;32m/opt/homebrew/Caskroom/miniforge/base/envs/dl_torch/lib/python3.8/site-packages/pandas/core/generic.py:5575\u001b[0m, in \u001b[0;36mNDFrame.__getattr__\u001b[0;34m(self, name)\u001b[0m\n\u001b[1;32m   5568\u001b[0m \u001b[38;5;28;01mif\u001b[39;00m (\n\u001b[1;32m   5569\u001b[0m     name \u001b[38;5;129;01mnot\u001b[39;00m \u001b[38;5;129;01min\u001b[39;00m \u001b[38;5;28mself\u001b[39m\u001b[38;5;241m.\u001b[39m_internal_names_set\n\u001b[1;32m   5570\u001b[0m     \u001b[38;5;129;01mand\u001b[39;00m name \u001b[38;5;129;01mnot\u001b[39;00m \u001b[38;5;129;01min\u001b[39;00m \u001b[38;5;28mself\u001b[39m\u001b[38;5;241m.\u001b[39m_metadata\n\u001b[1;32m   5571\u001b[0m     \u001b[38;5;129;01mand\u001b[39;00m name \u001b[38;5;129;01mnot\u001b[39;00m \u001b[38;5;129;01min\u001b[39;00m \u001b[38;5;28mself\u001b[39m\u001b[38;5;241m.\u001b[39m_accessors\n\u001b[1;32m   5572\u001b[0m     \u001b[38;5;129;01mand\u001b[39;00m \u001b[38;5;28mself\u001b[39m\u001b[38;5;241m.\u001b[39m_info_axis\u001b[38;5;241m.\u001b[39m_can_hold_identifiers_and_holds_name(name)\n\u001b[1;32m   5573\u001b[0m ):\n\u001b[1;32m   5574\u001b[0m     \u001b[38;5;28;01mreturn\u001b[39;00m \u001b[38;5;28mself\u001b[39m[name]\n\u001b[0;32m-> 5575\u001b[0m \u001b[38;5;28;01mreturn\u001b[39;00m \u001b[38;5;28;43mobject\u001b[39;49m\u001b[38;5;241;43m.\u001b[39;49m\u001b[38;5;21;43m__getattribute__\u001b[39;49m\u001b[43m(\u001b[49m\u001b[38;5;28;43mself\u001b[39;49m\u001b[43m,\u001b[49m\u001b[43m \u001b[49m\u001b[43mname\u001b[49m\u001b[43m)\u001b[49m\n",
      "\u001b[0;31mAttributeError\u001b[0m: 'DataFrame' object has no attribute '당기순이익'"
     ]
    }
   ],
   "source": [
    "df, err = stock_kr.stocks_info()"
   ]
  },
  {
   "cell_type": "code",
   "execution_count": 6,
   "metadata": {},
   "outputs": [
    {
     "ename": "NameError",
     "evalue": "name 'err' is not defined",
     "output_type": "error",
     "traceback": [
      "\u001b[0;31m---------------------------------------------------------------------------\u001b[0m",
      "\u001b[0;31mNameError\u001b[0m                                 Traceback (most recent call last)",
      "Cell \u001b[0;32mIn [6], line 1\u001b[0m\n\u001b[0;32m----> 1\u001b[0m err\n",
      "\u001b[0;31mNameError\u001b[0m: name 'err' is not defined"
     ]
    }
   ],
   "source": [
    "err"
   ]
  },
  {
   "cell_type": "code",
   "execution_count": null,
   "metadata": {
    "scrolled": true
   },
   "outputs": [],
   "source": [
    "len(err)"
   ]
  },
  {
   "cell_type": "code",
   "execution_count": null,
   "metadata": {},
   "outputs": [],
   "source": [
    "df.set_index('종목코드', inplace=True)"
   ]
  },
  {
   "cell_type": "code",
   "execution_count": null,
   "metadata": {},
   "outputs": [],
   "source": [
    "df.columns"
   ]
  },
  {
   "cell_type": "code",
   "execution_count": null,
   "metadata": {},
   "outputs": [],
   "source": [
    "df.to_csv('./data/stock_kr.csv', index=True)"
   ]
  },
  {
   "cell_type": "markdown",
   "metadata": {},
   "source": [
    "## 원하는 주식의 ohlcv 가져오기"
   ]
  },
  {
   "cell_type": "code",
   "execution_count": null,
   "metadata": {},
   "outputs": [],
   "source": [
    "from Dinger.database_module import stockKR"
   ]
  },
  {
   "cell_type": "code",
   "execution_count": null,
   "metadata": {},
   "outputs": [],
   "source": [
    "resnet_dic, error = stockKR.get_resnet()"
   ]
  },
  {
   "cell_type": "code",
   "execution_count": null,
   "metadata": {
    "scrolled": true
   },
   "outputs": [],
   "source": [
    "len(resnet_dic)"
   ]
  },
  {
   "cell_type": "code",
   "execution_count": null,
   "metadata": {},
   "outputs": [],
   "source": [
    "df = pd.read_csv('/Users/seongyeon-kim/Desktop/Dinger/data/stock_kr.csv')"
   ]
  },
  {
   "cell_type": "code",
   "execution_count": null,
   "metadata": {},
   "outputs": [],
   "source": [
    "error"
   ]
  },
  {
   "cell_type": "code",
   "execution_count": 16,
   "metadata": {},
   "outputs": [],
   "source": []
  },
  {
   "cell_type": "code",
   "execution_count": 17,
   "metadata": {},
   "outputs": [
    {
     "data": {
      "text/html": [
       "<div>\n",
       "<style scoped>\n",
       "    .dataframe tbody tr th:only-of-type {\n",
       "        vertical-align: middle;\n",
       "    }\n",
       "\n",
       "    .dataframe tbody tr th {\n",
       "        vertical-align: top;\n",
       "    }\n",
       "\n",
       "    .dataframe thead th {\n",
       "        text-align: right;\n",
       "    }\n",
       "</style>\n",
       "<table border=\"1\" class=\"dataframe\">\n",
       "  <thead>\n",
       "    <tr style=\"text-align: right;\">\n",
       "      <th></th>\n",
       "      <th>종목코드</th>\n",
       "      <th>종목명</th>\n",
       "      <th>SEC_NM_KOR</th>\n",
       "      <th>업종명</th>\n",
       "      <th>시장구분</th>\n",
       "      <th>MKT_VAL</th>\n",
       "      <th>ALL_MKT_VAL</th>\n",
       "      <th>PER</th>\n",
       "      <th>PBR</th>\n",
       "      <th>DIV</th>\n",
       "      <th>매출액</th>\n",
       "      <th>영업이익</th>\n",
       "      <th>당기순이익</th>\n",
       "      <th>ROA</th>\n",
       "      <th>ROE</th>\n",
       "      <th>베타</th>\n",
       "    </tr>\n",
       "  </thead>\n",
       "  <tbody>\n",
       "    <tr>\n",
       "      <th>0</th>\n",
       "      <td>5380</td>\n",
       "      <td>현대차</td>\n",
       "      <td>경기관련소비재</td>\n",
       "      <td>운수장비</td>\n",
       "      <td>KOSPI</td>\n",
       "      <td>27569606</td>\n",
       "      <td>132591243</td>\n",
       "      <td>10.30</td>\n",
       "      <td>0.68</td>\n",
       "      <td>2.56</td>\n",
       "      <td>359999.0</td>\n",
       "      <td>29798.0</td>\n",
       "      <td>30848.0</td>\n",
       "      <td>4.0</td>\n",
       "      <td>11.3</td>\n",
       "      <td>1.40</td>\n",
       "    </tr>\n",
       "    <tr>\n",
       "      <th>1</th>\n",
       "      <td>270</td>\n",
       "      <td>기아</td>\n",
       "      <td>경기관련소비재</td>\n",
       "      <td>운수장비</td>\n",
       "      <td>KOSPI</td>\n",
       "      <td>20156287</td>\n",
       "      <td>132591243</td>\n",
       "      <td>6.75</td>\n",
       "      <td>0.92</td>\n",
       "      <td>3.74</td>\n",
       "      <td>218760.0</td>\n",
       "      <td>22341.0</td>\n",
       "      <td>18810.0</td>\n",
       "      <td>8.4</td>\n",
       "      <td>16.0</td>\n",
       "      <td>1.44</td>\n",
       "    </tr>\n",
       "    <tr>\n",
       "      <th>2</th>\n",
       "      <td>12330</td>\n",
       "      <td>현대모비스</td>\n",
       "      <td>경기관련소비재</td>\n",
       "      <td>운수장비</td>\n",
       "      <td>KOSPI</td>\n",
       "      <td>13433162</td>\n",
       "      <td>132591243</td>\n",
       "      <td>8.27</td>\n",
       "      <td>0.55</td>\n",
       "      <td>1.89</td>\n",
       "      <td>123081.0</td>\n",
       "      <td>4033.0</td>\n",
       "      <td>7697.0</td>\n",
       "      <td>4.9</td>\n",
       "      <td>7.1</td>\n",
       "      <td>1.49</td>\n",
       "    </tr>\n",
       "    <tr>\n",
       "      <th>3</th>\n",
       "      <td>51900</td>\n",
       "      <td>LG생활건강</td>\n",
       "      <td>경기관련소비재</td>\n",
       "      <td>화학</td>\n",
       "      <td>KOSPI</td>\n",
       "      <td>6437821</td>\n",
       "      <td>132591243</td>\n",
       "      <td>13.63</td>\n",
       "      <td>2.14</td>\n",
       "      <td>1.75</td>\n",
       "      <td>18627.0</td>\n",
       "      <td>2166.0</td>\n",
       "      <td>1260.0</td>\n",
       "      <td>6.4</td>\n",
       "      <td>8.6</td>\n",
       "      <td>0.79</td>\n",
       "    </tr>\n",
       "    <tr>\n",
       "      <th>4</th>\n",
       "      <td>90430</td>\n",
       "      <td>아모레퍼시픽</td>\n",
       "      <td>경기관련소비재</td>\n",
       "      <td>화학</td>\n",
       "      <td>KOSPI</td>\n",
       "      <td>3649948</td>\n",
       "      <td>132591243</td>\n",
       "      <td>42.55</td>\n",
       "      <td>1.74</td>\n",
       "      <td>0.82</td>\n",
       "      <td>9457.0</td>\n",
       "      <td>-195.0</td>\n",
       "      <td>-372.0</td>\n",
       "      <td>2.8</td>\n",
       "      <td>3.6</td>\n",
       "      <td>0.84</td>\n",
       "    </tr>\n",
       "    <tr>\n",
       "      <th>...</th>\n",
       "      <td>...</td>\n",
       "      <td>...</td>\n",
       "      <td>...</td>\n",
       "      <td>...</td>\n",
       "      <td>...</td>\n",
       "      <td>...</td>\n",
       "      <td>...</td>\n",
       "      <td>...</td>\n",
       "      <td>...</td>\n",
       "      <td>...</td>\n",
       "      <td>...</td>\n",
       "      <td>...</td>\n",
       "      <td>...</td>\n",
       "      <td>...</td>\n",
       "      <td>...</td>\n",
       "      <td>...</td>\n",
       "    </tr>\n",
       "    <tr>\n",
       "      <th>2253</th>\n",
       "      <td>9140</td>\n",
       "      <td>경인전자</td>\n",
       "      <td>IT</td>\n",
       "      <td>전기전자</td>\n",
       "      <td>KOSPI</td>\n",
       "      <td>14652</td>\n",
       "      <td>485562680</td>\n",
       "      <td>9.37</td>\n",
       "      <td>0.58</td>\n",
       "      <td>0.94</td>\n",
       "      <td>47.0</td>\n",
       "      <td>-1.0</td>\n",
       "      <td>25.0</td>\n",
       "      <td>7.2</td>\n",
       "      <td>7.9</td>\n",
       "      <td>1.05</td>\n",
       "    </tr>\n",
       "    <tr>\n",
       "      <th>2254</th>\n",
       "      <td>17250</td>\n",
       "      <td>인터엠</td>\n",
       "      <td>IT</td>\n",
       "      <td>일반전기전자</td>\n",
       "      <td>KOSDAQ</td>\n",
       "      <td>14260</td>\n",
       "      <td>485562680</td>\n",
       "      <td>0.00</td>\n",
       "      <td>0.83</td>\n",
       "      <td>0.00</td>\n",
       "      <td>118.0</td>\n",
       "      <td>-1.0</td>\n",
       "      <td>-1.0</td>\n",
       "      <td>-5.8</td>\n",
       "      <td>-17.0</td>\n",
       "      <td>0.53</td>\n",
       "    </tr>\n",
       "    <tr>\n",
       "      <th>2255</th>\n",
       "      <td>67770</td>\n",
       "      <td>세진티에스</td>\n",
       "      <td>IT</td>\n",
       "      <td>IT부품</td>\n",
       "      <td>KOSDAQ</td>\n",
       "      <td>13723</td>\n",
       "      <td>485562680</td>\n",
       "      <td>9.84</td>\n",
       "      <td>0.62</td>\n",
       "      <td>0.00</td>\n",
       "      <td>27</td>\n",
       "      <td>-6</td>\n",
       "      <td>-</td>\n",
       "      <td>2.9</td>\n",
       "      <td>3.0</td>\n",
       "      <td>1.24</td>\n",
       "    </tr>\n",
       "    <tr>\n",
       "      <th>2256</th>\n",
       "      <td>32960</td>\n",
       "      <td>동일기연</td>\n",
       "      <td>IT</td>\n",
       "      <td>IT부품</td>\n",
       "      <td>KOSDAQ</td>\n",
       "      <td>11405</td>\n",
       "      <td>485562680</td>\n",
       "      <td>5.43</td>\n",
       "      <td>0.70</td>\n",
       "      <td>0.32</td>\n",
       "      <td>76.0</td>\n",
       "      <td>2.0</td>\n",
       "      <td>5.0</td>\n",
       "      <td>6.3</td>\n",
       "      <td>6.8</td>\n",
       "      <td>1.12</td>\n",
       "    </tr>\n",
       "    <tr>\n",
       "      <th>2257</th>\n",
       "      <td>321260</td>\n",
       "      <td>프로이천</td>\n",
       "      <td>IT</td>\n",
       "      <td>일반전기전자</td>\n",
       "      <td>KOSDAQ</td>\n",
       "      <td>11291</td>\n",
       "      <td>485562680</td>\n",
       "      <td>0.00</td>\n",
       "      <td>2.66</td>\n",
       "      <td>0.75</td>\n",
       "      <td>132.0</td>\n",
       "      <td>20.0</td>\n",
       "      <td>26.0</td>\n",
       "      <td>21.5</td>\n",
       "      <td>25.4</td>\n",
       "      <td>0.61</td>\n",
       "    </tr>\n",
       "  </tbody>\n",
       "</table>\n",
       "<p>2258 rows × 16 columns</p>\n",
       "</div>"
      ],
      "text/plain": [
       "        종목코드     종목명 SEC_NM_KOR     업종명    시장구분   MKT_VAL  ALL_MKT_VAL    PER  \\\n",
       "0       5380     현대차    경기관련소비재    운수장비   KOSPI  27569606    132591243  10.30   \n",
       "1        270      기아    경기관련소비재    운수장비   KOSPI  20156287    132591243   6.75   \n",
       "2      12330   현대모비스    경기관련소비재    운수장비   KOSPI  13433162    132591243   8.27   \n",
       "3      51900  LG생활건강    경기관련소비재      화학   KOSPI   6437821    132591243  13.63   \n",
       "4      90430  아모레퍼시픽    경기관련소비재      화학   KOSPI   3649948    132591243  42.55   \n",
       "...      ...     ...        ...     ...     ...       ...          ...    ...   \n",
       "2253    9140    경인전자         IT    전기전자   KOSPI     14652    485562680   9.37   \n",
       "2254   17250     인터엠         IT  일반전기전자  KOSDAQ     14260    485562680   0.00   \n",
       "2255   67770   세진티에스         IT    IT부품  KOSDAQ     13723    485562680   9.84   \n",
       "2256   32960    동일기연         IT    IT부품  KOSDAQ     11405    485562680   5.43   \n",
       "2257  321260    프로이천         IT  일반전기전자  KOSDAQ     11291    485562680   0.00   \n",
       "\n",
       "       PBR   DIV       매출액     영업이익    당기순이익   ROA   ROE    베타  \n",
       "0     0.68  2.56  359999.0  29798.0  30848.0   4.0  11.3  1.40  \n",
       "1     0.92  3.74  218760.0  22341.0  18810.0   8.4  16.0  1.44  \n",
       "2     0.55  1.89  123081.0   4033.0   7697.0   4.9   7.1  1.49  \n",
       "3     2.14  1.75   18627.0   2166.0   1260.0   6.4   8.6  0.79  \n",
       "4     1.74  0.82    9457.0   -195.0   -372.0   2.8   3.6  0.84  \n",
       "...    ...   ...       ...      ...      ...   ...   ...   ...  \n",
       "2253  0.58  0.94      47.0     -1.0     25.0   7.2   7.9  1.05  \n",
       "2254  0.83  0.00     118.0     -1.0     -1.0  -5.8 -17.0  0.53  \n",
       "2255  0.62  0.00        27       -6        -   2.9   3.0  1.24  \n",
       "2256  0.70  0.32      76.0      2.0      5.0   6.3   6.8  1.12  \n",
       "2257  2.66  0.75     132.0     20.0     26.0  21.5  25.4  0.61  \n",
       "\n",
       "[2258 rows x 16 columns]"
      ]
     },
     "execution_count": 17,
     "metadata": {},
     "output_type": "execute_result"
    }
   ],
   "source": [
    "df"
   ]
  },
  {
   "cell_type": "code",
   "execution_count": 22,
   "metadata": {
    "collapsed": false
   },
   "outputs": [],
   "source": [
    "df.종목코드 = df.종목코드.astype(str).str.zfill(6).tolist()"
   ]
  },
  {
   "cell_type": "code",
   "execution_count": 24,
   "metadata": {
    "collapsed": false
   },
   "outputs": [],
   "source": [
    "for k in resnet_dic:\n",
    "    df.loc[df.종목코드==k,'resnet'] = resnet_dic[k]"
   ]
  },
  {
   "cell_type": "code",
   "execution_count": 30,
   "metadata": {
    "collapsed": false
   },
   "outputs": [],
   "source": [
    "df.dropna(inplace=True)"
   ]
  },
  {
   "cell_type": "code",
   "execution_count": 31,
   "metadata": {
    "collapsed": false,
    "pycharm": {
     "name": "#%%ㄹ\n"
    }
   },
   "outputs": [],
   "source": [
    "df.to_csv('./data/stock_kr.csv', index=False)"
   ]
  },
  {
   "cell_type": "code",
   "execution_count": null,
   "metadata": {
    "collapsed": false
   },
   "outputs": [],
   "source": []
  }
 ],
 "metadata": {
  "kernelspec": {
   "display_name": "Python 3 (ipykernel)",
   "language": "python",
   "name": "python3"
  },
  "language_info": {
   "codemirror_mode": {
    "name": "ipython",
    "version": 3
   },
   "file_extension": ".py",
   "mimetype": "text/x-python",
   "name": "python",
   "nbconvert_exporter": "python",
   "pygments_lexer": "ipython3",
   "version": "3.8.13"
  },
  "vscode": {
   "interpreter": {
    "hash": "e9f793ca1096d757d51ae9db638433a66c8db3b0adbab19fbc566e7e05255b50"
   }
  }
 },
 "nbformat": 4,
 "nbformat_minor": 2
}
